{
 "cells": [
  {
   "cell_type": "code",
   "execution_count": 1,
   "id": "3c07e9f9-3814-4fda-99fa-ead3c398b594",
   "metadata": {},
   "outputs": [],
   "source": [
    "import torch\n",
    "import torch.nn.functional as F\n",
    "import matplotlib.pyplot as plt\n",
    "%matplotlib inline"
   ]
  },
  {
   "cell_type": "code",
   "execution_count": 2,
   "id": "4e90ca12-3fb4-4829-9462-0059ec19f68b",
   "metadata": {},
   "outputs": [
    {
     "data": {
      "text/plain": [
       "['emma',\n",
       " 'olivia',\n",
       " 'ava',\n",
       " 'isabella',\n",
       " 'sophia',\n",
       " 'charlotte',\n",
       " 'mia',\n",
       " 'amelia',\n",
       " 'harper',\n",
       " 'evelyn',\n",
       " 'abigail',\n",
       " 'emily',\n",
       " 'elizabeth',\n",
       " 'mila',\n",
       " 'ella']"
      ]
     },
     "execution_count": 2,
     "metadata": {},
     "output_type": "execute_result"
    }
   ],
   "source": [
    "# get all words\n",
    "words = open('names.txt', 'r').read().splitlines()\n",
    "words[:15]"
   ]
  },
  {
   "cell_type": "code",
   "execution_count": 6,
   "id": "10198c34-3a1c-4a89-8c8d-a62db155a785",
   "metadata": {},
   "outputs": [
    {
     "name": "stdout",
     "output_type": "stream",
     "text": [
      "s to i: {'a': 1, 'b': 2, 'c': 3, 'd': 4, 'e': 5, 'f': 6, 'g': 7, 'h': 8, 'i': 9, 'j': 10, 'k': 11, 'l': 12, 'm': 13, 'n': 14, 'o': 15, 'p': 16, 'q': 17, 'r': 18, 's': 19, 't': 20, 'u': 21, 'v': 22, 'w': 23, 'x': 24, 'y': 25, 'z': 26, '.': 0}\n",
      "\n",
      "i to s: {1: 'a', 2: 'b', 3: 'c', 4: 'd', 5: 'e', 6: 'f', 7: 'g', 8: 'h', 9: 'i', 10: 'j', 11: 'k', 12: 'l', 13: 'm', 14: 'n', 15: 'o', 16: 'p', 17: 'q', 18: 'r', 19: 's', 20: 't', 21: 'u', 22: 'v', 23: 'w', 24: 'x', 25: 'y', 26: 'z', 0: '.'}\n"
     ]
    }
   ],
   "source": [
    "chars = sorted(list(set(''.join(words))))\n",
    "s_to_i = {s:i+1 for i, s in enumerate(chars)}\n",
    "s_to_i['.'] = 0\n",
    "i_to_s = {i:s for s, i in s_to_i.items()}\n",
    "print(f's to i: {s_to_i}\\n\\ni to s: {i_to_s}')"
   ]
  },
  {
   "cell_type": "code",
   "execution_count": 11,
   "id": "ccced33c-854a-4425-a1a7-a7abdf8f8a3b",
   "metadata": {},
   "outputs": [
    {
     "name": "stdout",
     "output_type": "stream",
     "text": [
      "emma\n",
      "... -> e\n",
      "..e -> m\n",
      ".em -> m\n",
      "emm -> a\n",
      "mma -> .\n",
      "olivia\n",
      "... -> o\n",
      "..o -> l\n",
      ".ol -> i\n",
      "oli -> v\n",
      "liv -> i\n",
      "ivi -> a\n",
      "via -> .\n",
      "ava\n",
      "... -> a\n",
      "..a -> v\n",
      ".av -> a\n",
      "ava -> .\n",
      "isabella\n",
      "... -> i\n",
      "..i -> s\n",
      ".is -> a\n",
      "isa -> b\n",
      "sab -> e\n",
      "abe -> l\n",
      "bel -> l\n",
      "ell -> a\n",
      "lla -> .\n",
      "sophia\n",
      "... -> s\n",
      "..s -> o\n",
      ".so -> p\n",
      "sop -> h\n",
      "oph -> i\n",
      "phi -> a\n",
      "hia -> .\n"
     ]
    }
   ],
   "source": [
    "# build dataset\n",
    "\n",
    "block_size = 3 # set context length - char used to predict the next char\n",
    "X, Y = [], []\n",
    "for word in words[:5]:\n",
    "    print(word)\n",
    "    context = [0] * block_size\n",
    "\n",
    "    for char in word + '.':\n",
    "        ix = s_to_i[char]\n",
    "        X.append(context)\n",
    "        Y.append(ix)\n",
    "        print(''.join(i_to_s[i] for i in context), '->', i_to_s[ix])\n",
    "        context = context[1:] + [ix] # crop first character and append next\n",
    "\n",
    "X = torch.tensor(X)\n",
    "Y = torch.tensor(Y)"
   ]
  },
  {
   "cell_type": "code",
   "execution_count": 12,
   "id": "056a10aa-c8a2-4c4d-89ff-8b890ba7b10c",
   "metadata": {},
   "outputs": [
    {
     "data": {
      "text/plain": [
       "(torch.Size([32, 3]), torch.int64, torch.Size([32]), torch.int64)"
      ]
     },
     "execution_count": 12,
     "metadata": {},
     "output_type": "execute_result"
    }
   ],
   "source": [
    "X.shape, X.dtype, Y.shape, Y.dtype"
   ]
  },
  {
   "cell_type": "code",
   "execution_count": 14,
   "id": "173a2594-14a3-4d60-a40b-bc549fc9ac87",
   "metadata": {},
   "outputs": [
    {
     "data": {
      "text/plain": [
       "tensor([[-0.0245,  1.9602],\n",
       "        [ 2.9721, -2.3247],\n",
       "        [-1.0816,  0.4286],\n",
       "        [-0.0668, -1.8977],\n",
       "        [-0.4481, -0.4141],\n",
       "        [-0.9444, -0.1084],\n",
       "        [-1.1674,  0.3169],\n",
       "        [ 0.2859, -1.5466],\n",
       "        [-1.7160, -2.0809],\n",
       "        [ 1.7888, -0.4585],\n",
       "        [ 0.3697, -0.3948],\n",
       "        [-0.8490, -1.0591],\n",
       "        [ 0.2968,  0.2380],\n",
       "        [-1.7551, -2.2854],\n",
       "        [-0.3268, -0.3873],\n",
       "        [-1.1596,  0.5439],\n",
       "        [-1.0180,  0.4369],\n",
       "        [ 0.0159,  1.5863],\n",
       "        [-0.7533, -0.5934],\n",
       "        [-0.7389,  0.1808],\n",
       "        [ 0.9034,  0.0109],\n",
       "        [ 0.5795,  0.2692],\n",
       "        [-0.1713,  3.0976],\n",
       "        [ 1.0953,  0.9038],\n",
       "        [ 1.7837,  0.4909],\n",
       "        [ 2.3491,  0.4712],\n",
       "        [-0.3091, -1.2805]])"
      ]
     },
     "execution_count": 14,
     "metadata": {},
     "output_type": "execute_result"
    }
   ],
   "source": [
    "# embed characters in an n dimensional space\n",
    "C = torch.randn((27, 2))\n",
    "C"
   ]
  },
  {
   "cell_type": "code",
   "execution_count": null,
   "id": "34638863-cfdf-40dc-baee-7b4017ee9923",
   "metadata": {},
   "outputs": [],
   "source": []
  }
 ],
 "metadata": {
  "kernelspec": {
   "display_name": "Python 3 (ipykernel)",
   "language": "python",
   "name": "python3"
  },
  "language_info": {
   "codemirror_mode": {
    "name": "ipython",
    "version": 3
   },
   "file_extension": ".py",
   "mimetype": "text/x-python",
   "name": "python",
   "nbconvert_exporter": "python",
   "pygments_lexer": "ipython3",
   "version": "3.11.2"
  }
 },
 "nbformat": 4,
 "nbformat_minor": 5
}
