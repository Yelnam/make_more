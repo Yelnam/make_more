{
 "cells": [
  {
   "cell_type": "code",
   "execution_count": 56,
   "id": "3914efcf",
   "metadata": {},
   "outputs": [],
   "source": [
    "import torch\n",
    "import torch.nn.functional as F\n",
    "import numpy as np\n",
    "import random\n",
    "import matplotlib.pyplot as plt\n",
    "%matplotlib inline"
   ]
  },
  {
   "cell_type": "code",
   "execution_count": 57,
   "id": "9fc3f987",
   "metadata": {},
   "outputs": [],
   "source": [
    "# taken from end makemore2. most values updated to match K's\n",
    "\n",
    "# no. of chars used in context\n",
    "block_size = 3\n",
    "\n",
    "# dimensionality of embedding table\n",
    "emb_dims = 10\n",
    "n_weights = block_size * emb_dims\n",
    "\n",
    "# no. of neurons\n",
    "n_hidden = 200\n",
    "\n",
    "# size of batches\n",
    "batch_size = 32\n",
    "\n",
    "# number of training runs\n",
    "train_runs = 20001\n",
    "\n",
    "# learning rate\n",
    "l_rate_init = 0.1\n",
    "\n",
    "#     learning rate decay\n",
    "decay_factor = 0.99999\n",
    "\n",
    "# others\n",
    "# ???"
   ]
  },
  {
   "cell_type": "code",
   "execution_count": 58,
   "id": "3746d887",
   "metadata": {},
   "outputs": [
    {
     "name": "stdout",
     "output_type": "stream",
     "text": [
      "First 15 words: ['emma', 'olivia', 'ava', 'isabella', 'sophia', 'charlotte', 'mia', 'amelia', 'harper', 'evelyn', 'abigail', 'emily', 'elizabeth', 'mila', 'ella']\n",
      "\n",
      "s to i: {'a': 1, 'b': 2, 'c': 3, 'd': 4, 'e': 5, 'f': 6, 'g': 7, 'h': 8, 'i': 9, 'j': 10, 'k': 11, 'l': 12, 'm': 13, 'n': 14, 'o': 15, 'p': 16, 'q': 17, 'r': 18, 's': 19, 't': 20, 'u': 21, 'v': 22, 'w': 23, 'x': 24, 'y': 25, 'z': 26, '.': 0}\n",
      "\n",
      "i to s: {1: 'a', 2: 'b', 3: 'c', 4: 'd', 5: 'e', 6: 'f', 7: 'g', 8: 'h', 9: 'i', 10: 'j', 11: 'k', 12: 'l', 13: 'm', 14: 'n', 15: 'o', 16: 'p', 17: 'q', 18: 'r', 19: 's', 20: 't', 21: 'u', 22: 'v', 23: 'w', 24: 'x', 25: 'y', 26: 'z', 0: '.'}\n",
      "\n",
      "Vocab size: 27\n"
     ]
    }
   ],
   "source": [
    "# get all words\n",
    "words = open('names.txt', 'r').read().splitlines()\n",
    "\n",
    "\n",
    "# get indexes between chars and ints\n",
    "chars = sorted(list(set(''.join(words))))\n",
    "s_to_i = {s:i+1 for i, s in enumerate(chars)}\n",
    "s_to_i['.'] = 0\n",
    "i_to_s = {i:s for s, i in s_to_i.items()}\n",
    "vocab_size = len(s_to_i)\n",
    "print(f'First 15 words: {words[:15]}\\n\\ns to i: {s_to_i}\\n\\ni to s: {i_to_s}\\n\\nVocab size: {vocab_size}')"
   ]
  },
  {
   "cell_type": "code",
   "execution_count": 59,
   "id": "c8b4fa3f",
   "metadata": {},
   "outputs": [],
   "source": [
    "# define func for building dataset\n",
    "\n",
    "def build_dataset(words, block_size):\n",
    "    block_size = block_size\n",
    "    X, Y = [], []\n",
    "    for word in words:\n",
    "        # print(word)\n",
    "        context = [0] * block_size\n",
    "    \n",
    "        for char in word + '.':\n",
    "            ix = s_to_i[char]\n",
    "            X.append(context)\n",
    "            Y.append(ix)\n",
    "            # print(''.join(i_to_s[i] for i in context), '->', i_to_s[ix])\n",
    "            context = context[1:] + [ix] # crop first character and append next\n",
    "    \n",
    "    X = torch.tensor(X)\n",
    "    Y = torch.tensor(Y)\n",
    "    \n",
    "    print(f'X shape: {X.shape} \\tX dtype: {X.dtype} \\tY shape: {Y.shape} \\tY dtype: {Y.dtype}')\n",
    "    return X, Y"
   ]
  },
  {
   "cell_type": "code",
   "execution_count": 60,
   "id": "dbc29686",
   "metadata": {},
   "outputs": [
    {
     "name": "stdout",
     "output_type": "stream",
     "text": [
      "X shape: torch.Size([182606, 3]) \tX dtype: torch.int64 \tY shape: torch.Size([182606]) \tY dtype: torch.int64\n",
      "X shape: torch.Size([22697, 3]) \tX dtype: torch.int64 \tY shape: torch.Size([22697]) \tY dtype: torch.int64\n",
      "X shape: torch.Size([22844, 3]) \tX dtype: torch.int64 \tY shape: torch.Size([22844]) \tY dtype: torch.int64\n"
     ]
    }
   ],
   "source": [
    "# set train, dev, test sets\n",
    "\n",
    "random.seed(42)\n",
    "random.shuffle(words)\n",
    "n1 = int(0.8*len(words))\n",
    "n2 = int(0.9*len(words))\n",
    "\n",
    "X_trn, Y_trn = build_dataset(words[:n1], block_size)\n",
    "X_dev, Y_dev = build_dataset(words[n1:n2], block_size)\n",
    "X_tst, Y_tst = build_dataset(words[n2:], block_size)"
   ]
  },
  {
   "cell_type": "code",
   "execution_count": 61,
   "id": "6fef45ff",
   "metadata": {},
   "outputs": [
    {
     "name": "stdout",
     "output_type": "stream",
     "text": [
      "No. parameters: 11897\n"
     ]
    }
   ],
   "source": [
    "g = torch.Generator().manual_seed(2147483647)\n",
    "# updated 1st arg to vocab_size. had already done most of what K does here at the end of makemore2\n",
    "C = torch.randn((vocab_size, emb_dims), generator = g) \n",
    "# updated var name n_neurons to n_hidden as per K. more accurate\n",
    "W1 = torch.randn((n_weights, n_hidden), generator = g)\n",
    "b1 = torch.randn(n_hidden, generator = g) \n",
    "W2 = torch.randn((n_hidden, vocab_size), generator = g) \n",
    "b2 = torch.randn(vocab_size, generator = g) \n",
    "\n",
    "# get param count\n",
    "parameters = [C, W1, b1, W2, b2]\n",
    "print(f'No. parameters: {sum(p.nelement() for p in parameters)}')"
   ]
  },
  {
   "cell_type": "code",
   "execution_count": 62,
   "id": "5cda69ee",
   "metadata": {},
   "outputs": [],
   "source": [
    "for p in parameters:\n",
    "    p.requires_grad = True "
   ]
  },
  {
   "cell_type": "code",
   "execution_count": 63,
   "id": "bd0f8ca3",
   "metadata": {},
   "outputs": [],
   "source": [
    "step_i = []\n",
    "loss_i = []\n",
    "log_loss_i = []"
   ]
  },
  {
   "cell_type": "code",
   "execution_count": 109,
   "id": "bbe17361",
   "metadata": {},
   "outputs": [
    {
     "name": "stdout",
     "output_type": "stream",
     "text": [
      "Iter: 0\tL_rate: 0.1\tLoss: 3.69664\tLoss MA10: 4.097209930419922\n",
      "Iter: 2500\tL_rate: 0.09753\tLoss: 2.25024\tLoss MA10: 2.377310037612915\n",
      "Iter: 5000\tL_rate: 0.09512\tLoss: 2.19613\tLoss MA10: 2.298419952392578\n",
      "Iter: 7500\tL_rate: 0.09277\tLoss: 2.18119\tLoss MA10: 2.281630039215088\n",
      "Iter: 10000\tL_rate: 0.09048\tLoss: 2.39272\tLoss MA10: 2.1911098957061768\n",
      "Iter: 12500\tL_rate: 0.08825\tLoss: 1.98838\tLoss MA10: 2.1819798946380615\n",
      "Iter: 15000\tL_rate: 0.08607\tLoss: 2.51825\tLoss MA10: 2.282860040664673\n",
      "Iter: 17500\tL_rate: 0.08395\tLoss: 2.17421\tLoss MA10: 2.300309896469116\n",
      "Iter: 20000\tL_rate: 0.08187\tLoss: 2.49211\tLoss MA10: 2.1986799240112305\n"
     ]
    },
    {
     "data": {
      "text/plain": [
       "(tensor([[ -8.5785,  -0.3850, -11.7651,  ...,  -0.5742,   0.6031,   8.6370],\n",
       "         [ -9.0481,  -3.8999,  -4.6273,  ...,   5.4748, -12.6084,  -0.6521],\n",
       "         [-11.8903,   1.0806,   0.0573,  ...,   2.2462,   6.2973,   6.9464],\n",
       "         ...,\n",
       "         [ -0.1368,  -9.3652,   3.4607,  ...,   1.3349,  -1.9395,  -3.4704],\n",
       "         [ -2.5534,   2.0593,  -3.7674,  ...,  -9.3797,  11.7004,   6.3629],\n",
       "         [  1.1222,   5.2262,   0.5635,  ...,  -4.0583,  15.6898,   3.1974]],\n",
       "        grad_fn=<AddBackward0>),\n",
       " tensor([[-1.0000, -0.3670, -1.0000,  ..., -0.5184,  0.5393,  1.0000],\n",
       "         [-1.0000, -0.9992, -0.9998,  ...,  1.0000, -1.0000, -0.5731],\n",
       "         [-1.0000,  0.7934,  0.0572,  ...,  0.9779,  1.0000,  1.0000],\n",
       "         ...,\n",
       "         [-0.1359, -1.0000,  0.9980,  ...,  0.8704, -0.9595, -0.9981],\n",
       "         [-0.9880,  0.9680, -0.9989,  ..., -1.0000,  1.0000,  1.0000],\n",
       "         [ 0.8083,  0.9999,  0.5106,  ..., -0.9994,  1.0000,  0.9967]],\n",
       "        grad_fn=<TanhBackward0>),\n",
       " tensor([[ 1.9569,  2.2890, -3.0075,  1.0362, -0.9028,  3.8296, -0.6424, -1.9768,\n",
       "           2.6557,  2.6436, -2.9266,  1.8152,  1.7530, -0.8188, -3.0014,  1.8801,\n",
       "          -1.2686, -1.8573, -0.5641,  0.5841,  0.2847, -0.7301, -1.5652, -1.3893,\n",
       "          -0.9974,  2.2456,  0.0625],\n",
       "         [ 4.9340,  3.2916, -0.9269, -0.2918,  0.8537,  3.0889, -1.3348, -1.4198,\n",
       "          -0.9830,  3.3456, -0.9418,  0.4145,  2.5197,  0.1179, -1.8471,  1.9493,\n",
       "          -2.7138, -1.8172, -0.4206,  1.7653, -0.0731,  0.3389, -0.7548, -2.0824,\n",
       "          -2.2383,  2.5493, -1.0682],\n",
       "         [-4.6073,  1.3394,  0.0313,  0.4967,  0.8309,  0.6118, -0.6023,  0.2238,\n",
       "          -0.6033, -0.8531,  1.0350,  1.7771, -0.3409,  1.5563,  0.0292, -0.3803,\n",
       "          -1.4210, -1.6209,  0.7605,  1.2205, -0.2693, -2.7558, -0.8497, -2.0269,\n",
       "          -1.7711, -0.4111, -0.0909],\n",
       "         [-2.1491, -0.1442,  0.7032,  2.7421,  0.8039,  0.2248, -1.1526,  0.3355,\n",
       "          -0.1147,  0.7279,  1.0352,  1.7046,  1.3197,  1.9468,  1.0118, -0.1042,\n",
       "          -1.4752, -1.5252,  1.8175,  1.4028, -0.4810, -0.8816,  0.3442, -0.9069,\n",
       "           0.8020, -0.1283,  0.7864],\n",
       "         [ 4.0998, -0.1578,  0.6533, -1.1151,  0.8603, -0.2408,  0.3874,  0.1945,\n",
       "           4.8424,  1.4705, -0.5918, -1.7977,  0.7531,  1.8525,  4.4185, -2.0775,\n",
       "          -1.0852, -2.9105,  0.8441,  1.9456,  0.9301, -0.2404,  0.2833, -0.9366,\n",
       "          -2.2264, -0.2391,  1.2646],\n",
       "         [-4.6073,  1.3394,  0.0313,  0.4967,  0.8309,  0.6118, -0.6023,  0.2238,\n",
       "          -0.6033, -0.8531,  1.0350,  1.7771, -0.3409,  1.5563,  0.0292, -0.3803,\n",
       "          -1.4210, -1.6209,  0.7605,  1.2205, -0.2693, -2.7558, -0.8497, -2.0269,\n",
       "          -1.7711, -0.4111, -0.0909],\n",
       "         [-0.6593,  2.2026, -1.1395,  0.6146,  1.5918,  1.9858, -0.1855, -0.0584,\n",
       "          -1.7221,  0.0649, -0.7274,  0.1095,  3.0406,  1.0751,  0.8879,  2.6555,\n",
       "          -3.1048, -3.1542, -0.2214,  0.6170,  1.7612, -1.7718,  2.7669, -2.9464,\n",
       "          -1.2108,  1.1481, -1.0084],\n",
       "         [ 1.2529,  2.1212, -0.2215,  1.4671,  3.6503,  0.7445, -1.2125,  0.3770,\n",
       "           0.0495,  1.0945, -0.8122,  1.4159,  4.3188,  2.3813,  2.7480,  0.4050,\n",
       "          -0.0107, -2.3740,  1.1522,  3.0626,  0.9122, -2.8011,  0.4915, -3.3609,\n",
       "          -2.7974,  1.2303,  1.8695],\n",
       "         [-2.2014,  0.1451,  1.0729, -0.2796,  1.5480, -0.2962,  0.0112, -0.9890,\n",
       "           0.2131,  0.4576, -0.2132,  0.3212,  2.1034,  2.0370,  1.6794, -1.1096,\n",
       "          -1.8083, -1.9738,  1.1553,  1.7473,  0.1039, -0.0208,  1.6306, -2.4316,\n",
       "          -0.8498,  0.6939,  0.9004],\n",
       "         [-2.4673, -0.7649, -0.5302,  0.8458,  1.3401,  0.4148, -2.3269,  0.1677,\n",
       "           0.4021,  0.8828,  0.4294,  1.9989,  1.5389, -0.3383,  0.6626, -0.7772,\n",
       "          -2.3121, -2.7316,  2.3403,  0.4648,  1.7253, -1.3436,  0.8073, -1.4263,\n",
       "           0.6923,  0.8952,  0.0313],\n",
       "         [ 2.8295,  2.0354, -1.8619, -0.6884,  0.5319, -0.3312, -0.9901,  0.2919,\n",
       "           0.1105,  0.9337, -0.8404,  0.6124,  2.9484,  1.3255,  1.0221, -0.0942,\n",
       "          -2.2005, -5.7516,  2.0859, -0.1271,  3.2631, -0.9697, -1.3819, -1.6421,\n",
       "          -2.3209,  0.8164,  0.0603],\n",
       "         [ 4.1882,  0.7384, -0.4102,  0.1864,  1.2620,  1.7310, -1.1672, -1.8023,\n",
       "           2.7969,  2.1696, -0.1161, -0.9621,  0.8910,  2.1066,  4.0013, -1.4027,\n",
       "          -1.7796, -2.4279,  0.7872,  1.4302,  0.0350, -2.0127, -0.0224, -2.2488,\n",
       "          -2.6086,  3.2289,  1.1545],\n",
       "         [ 4.8846,  4.3447, -2.2474, -0.9882, -1.1955,  4.3777, -3.4517, -5.2007,\n",
       "           1.7603,  3.9904, -2.0957, -0.6712,  3.4934, -0.8915, -1.1931,  3.6232,\n",
       "          -1.2848, -2.4541,  2.8630,  1.4308,  1.8495,  0.3527, -1.5229, -1.2333,\n",
       "          -2.8885,  4.1997, -1.3866],\n",
       "         [ 4.0755,  5.6691, -1.2418, -1.5828,  0.8558,  6.1840, -2.6580, -1.3148,\n",
       "           3.3534,  4.7551, -2.8527, -1.2184,  3.0831,  0.1058,  0.1844,  4.9844,\n",
       "          -2.6261, -4.8349,  4.5729,  1.0007, -0.5593,  0.7199, -1.1773, -1.3191,\n",
       "          -2.2844,  4.1119, -1.1791],\n",
       "         [ 2.9446,  2.4193, -0.1768, -0.7388,  0.8547,  1.2692, -2.8823, -0.8403,\n",
       "          -2.0811,  0.5675, -0.8574,  0.8845,  3.7870,  0.1692,  2.6974,  1.6249,\n",
       "          -4.4387, -3.1705,  3.7387,  2.2193,  1.2061,  0.1482, -1.7051, -2.9978,\n",
       "          -0.9739,  2.0821, -1.7440],\n",
       "         [ 3.2986,  3.0543,  0.9416,  0.6382, -0.3214,  4.1394, -0.7192, -0.2393,\n",
       "          -0.7052,  4.2754, -0.8761, -0.1817,  0.5576,  0.6052,  0.3077,  3.3758,\n",
       "          -2.9540, -1.2557, -1.2879,  1.3967,  0.1240, -0.2398, -1.9691, -0.7205,\n",
       "          -0.5626,  3.5187,  0.0695],\n",
       "         [ 3.3547,  2.4036, -0.5051,  0.8257,  1.7625,  1.5447, -0.7975,  0.6801,\n",
       "          -1.4785, -1.0832, -0.2712,  0.2954,  1.5438, -0.3340,  2.1608,  2.0520,\n",
       "          -2.3558, -2.0726,  1.5013,  2.3444,  0.5241,  0.1536, -2.6311, -3.3901,\n",
       "          -0.6727,  0.4982, -1.0719],\n",
       "         [-2.1494,  0.4701, -0.4033, -0.8598,  1.1841, -0.3529,  0.6180, -1.5015,\n",
       "          -1.0598,  0.6475, -0.3351, -0.2041,  3.2461,  3.5754,  0.6966,  0.0645,\n",
       "          -0.8225, -3.0957,  1.9991,  2.3828,  0.3593, -0.9304,  2.4493, -2.0980,\n",
       "          -1.9817,  0.5039,  0.9214],\n",
       "         [-0.9500, -0.5198, -0.2751, -0.1593,  1.0324,  1.6924, -0.5402, -1.1666,\n",
       "           0.0761,  1.9247, -0.5259, -0.2795,  3.4313,  3.4048,  1.6342, -0.0844,\n",
       "          -1.2780, -2.7613,  2.1951,  3.1208,  2.1612, -1.3858,  0.9578, -1.3356,\n",
       "          -2.5525,  2.0720, -0.5235],\n",
       "         [ 3.5650,  2.6748,  0.2327,  0.8557, -0.6802,  1.3407,  2.6535,  1.2221,\n",
       "           5.7388,  1.1427, -0.3965,  1.3361,  1.1575, -0.7804,  1.1106, -0.4232,\n",
       "           2.8821, -3.7883,  1.5103, -0.4123,  1.9176, -0.4852, -1.4271, -2.0718,\n",
       "          -1.6758, -0.5254, -2.6197],\n",
       "         [-4.6073,  1.3394,  0.0313,  0.4967,  0.8309,  0.6118, -0.6023,  0.2238,\n",
       "          -0.6033, -0.8531,  1.0350,  1.7771, -0.3409,  1.5563,  0.0292, -0.3803,\n",
       "          -1.4210, -1.6209,  0.7605,  1.2205, -0.2693, -2.7558, -0.8497, -2.0269,\n",
       "          -1.7711, -0.4111, -0.0909],\n",
       "         [ 0.1076,  2.4065, -0.7723, -1.3052,  0.9712,  1.7634, -1.2837, -0.9221,\n",
       "           0.6248,  3.2150, -0.5299, -1.5025,  1.0986,  2.2610, -0.6097,  1.9902,\n",
       "          -2.3022, -5.2611,  2.5724,  0.2700,  0.0996, -0.7173,  1.4989, -1.8010,\n",
       "          -2.9746,  1.7496,  1.0064],\n",
       "         [ 1.6500, -1.3977,  0.7680,  0.9770,  1.7543,  1.1200, -0.6102, -0.8184,\n",
       "           1.2878,  0.9208,  1.5760,  0.1221,  1.7535, -0.4203,  3.0159, -1.6017,\n",
       "          -1.1621, -1.1041,  0.4218,  1.0316, -0.5315, -0.6329,  1.1992, -1.1223,\n",
       "          -1.4203,  1.8900, -0.9306],\n",
       "         [ 4.1262, -0.5079,  0.3926, -2.1690,  0.4047,  1.3784, -1.4947, -1.8922,\n",
       "           1.8983,  1.7785, -0.8677, -2.0300,  1.9140,  0.6919,  4.5082, -0.0684,\n",
       "          -0.4418, -1.7941,  2.7936,  1.1287,  1.9687, -0.8984,  0.8106, -0.9840,\n",
       "          -3.9778,  0.6385, -2.6073],\n",
       "         [-0.3064, -0.2731,  1.4636, -1.1868,  0.8468,  0.5171, -1.4728,  0.0933,\n",
       "           0.1831,  0.6884,  0.8223, -0.7197,  0.3986, -0.2643,  1.4435, -0.8730,\n",
       "          -2.8538, -2.2303,  3.1211,  0.6520,  2.1363, -1.7748,  1.6561,  0.5631,\n",
       "          -0.9467,  0.6900, -0.5206],\n",
       "         [ 3.6759, -2.3840,  1.0289, -1.0902,  1.6529, -2.2789,  1.1905, -1.0533,\n",
       "           0.1229, -1.6802, -1.4735,  1.4434,  1.7388,  1.5323,  4.3364, -1.7651,\n",
       "          -0.5078, -4.3871,  2.1812,  1.0700,  1.7173, -1.1522, -0.9072, -0.8785,\n",
       "           0.3466, -1.0002, -0.8941],\n",
       "         [-4.6073,  1.3394,  0.0313,  0.4967,  0.8309,  0.6118, -0.6023,  0.2238,\n",
       "          -0.6033, -0.8531,  1.0350,  1.7771, -0.3409,  1.5563,  0.0292, -0.3803,\n",
       "          -1.4210, -1.6209,  0.7605,  1.2205, -0.2693, -2.7558, -0.8497, -2.0269,\n",
       "          -1.7711, -0.4111, -0.0909],\n",
       "         [ 3.8538,  0.5129,  2.8290,  0.3031,  0.1260,  0.8926, -1.6821, -1.2317,\n",
       "           2.7232,  1.7801,  0.8540, -0.5622,  1.0600,  1.1563,  2.7878, -0.5523,\n",
       "          -0.6947, -1.6581,  1.4046,  1.0241,  1.8112,  1.2158, -1.2291, -0.8806,\n",
       "          -2.7752,  1.4902, -1.8777],\n",
       "         [-1.8283,  4.5219, -2.2420, -2.0636, -2.4102,  3.3832, -3.4436, -2.3894,\n",
       "           2.2865,  2.9912, -1.8635, -0.3270, -0.1767,  0.3035, -0.3952,  3.4563,\n",
       "          -2.6719, -3.8753,  3.8346,  0.1359,  0.1831,  0.5848, -1.2581, -0.9207,\n",
       "          -4.2056,  3.4064,  0.4855],\n",
       "         [ 2.7834,  1.8200, -2.0901, -0.7465,  1.2189,  3.5277, -4.6765, -4.3203,\n",
       "           2.3623,  2.9728, -1.1756, -0.3173,  0.2406,  1.4406,  1.4339,  2.3527,\n",
       "          -1.5678, -2.6953,  0.1563,  3.1600, -0.2683, -0.1367, -1.2242, -0.9475,\n",
       "          -2.6449,  3.0503,  2.9326],\n",
       "         [ 0.1403,  0.4597, -0.1828,  2.0947,  1.6415,  0.2410, -2.0000,  0.2721,\n",
       "           0.0116,  0.2563, -0.3316,  0.1341,  1.4934,  0.8128,  1.5160,  1.3759,\n",
       "          -1.2954, -2.4578,  1.6553,  1.0783,  2.1539, -1.9556, -0.2955, -2.1894,\n",
       "           0.5081, -0.2960, -0.4558],\n",
       "         [-0.5920,  1.6368, -0.9995,  0.0952,  0.4017,  0.4398, -1.0779, -1.2735,\n",
       "          -1.2619,  0.0852, -1.3665, -1.5698,  1.4261,  1.1638,  2.4069,  0.0650,\n",
       "          -0.5563, -2.9471,  2.2406,  1.7467, -1.0090, -0.9835,  0.8068, -1.7729,\n",
       "          -0.9598,  0.8256, -0.8333]], grad_fn=<AddBackward0>),\n",
       " tensor(2.4921, grad_fn=<NllLossBackward0>))"
      ]
     },
     "execution_count": 109,
     "metadata": {},
     "output_type": "execute_result"
    }
   ],
   "source": [
    "# train\n",
    "def train(train_runs, X_trn, Y_trn, batch_size, C, l_rate, parameters, step_i, loss_i, log_loss_i):\n",
    "    for _ in range (train_runs):\n",
    "        ix = torch.randint(0, X_trn.shape[0], (batch_size,), generator = g)\n",
    "        Xb, Yb = X_trn[ix], Y_trn[ix]\n",
    "        # forward pass\n",
    "\n",
    "        # NB small formatting updates after Karpathy\n",
    "\n",
    "        emb = C[Xb] # embed chars into vecs of size N x block_size x emb_dims (can't work out exactly what N is for the moment)\n",
    "        emb_concat = emb.view(emb.shape[0], -1) # concat vectors to N x (block_size x emb_dims)\n",
    "        hp_react = emb_concat @ W1 + b1 # hidden layer pre-activation, N x n_hidden\n",
    "        h = torch.tanh(hp_react) # hidden layer, N x vocab_size\n",
    "        logits = h @ W2 + b2 # output layer\n",
    "        loss = F.cross_entropy(logits, Yb) # loss function\n",
    "\n",
    "        # backward pass\n",
    "        for p in parameters:\n",
    "            p.grad = None \n",
    "        loss.backward() \n",
    "\n",
    "        # update\n",
    "        l_rate = l_rate_init * (decay_factor ** _) # different from K's, below\n",
    "        # l_rate = o.1 if _ < 100000 else 0.01 # K's, temporarily disabled here\n",
    "\n",
    "        for p in parameters:\n",
    "            p.data += -l_rate * p.grad\n",
    "\n",
    "        step_i.append(_)\n",
    "        loss_i.append(loss) \n",
    "        log_loss_i.append(loss.log10().item()) \n",
    "\n",
    "        if _ % 2500 == 0:\n",
    "            print(f'Iter: {_}\\t'\n",
    "                  f'L_rate: {round(l_rate, 5)}\\t'\n",
    "                  f'Loss: {round(loss.item(), 5)}\\t'\n",
    "                  f'Loss MA10: {round(np.mean([l.detach().numpy() for l in loss_i[-10:]]), 5)}')\n",
    "        \n",
    "    return hp_react, h, logits, loss\n",
    "        \n",
    "train(train_runs, X_trn, Y_trn, batch_size, C, l_rate, parameters, step_i, loss_i, log_loss_i)"
   ]
  },
  {
   "cell_type": "code",
   "execution_count": 97,
   "id": "68be5dcc",
   "metadata": {},
   "outputs": [
    {
     "data": {
      "text/plain": [
       "[<matplotlib.lines.Line2D at 0x26459a37fd0>]"
      ]
     },
     "execution_count": 97,
     "metadata": {},
     "output_type": "execute_result"
    },
    {
     "data": {
      "image/png": "[encoded data removed]",
      "text/plain": [
       "<Figure size 640x480 with 1 Axes>"
      ]
     },
     "metadata": {},
     "output_type": "display_data"
    }
   ],
   "source": [
    "plt.plot(log_loss_i)"
   ]
  },
  {
   "cell_type": "code",
   "execution_count": 98,
   "id": "d6d7897c",
   "metadata": {},
   "outputs": [
    {
     "name": "stdout",
     "output_type": "stream",
     "text": [
      "train: 2.1074957847595215\n",
      "dev: 2.177952527999878\n",
      "test: 2.1648929119110107\n"
     ]
    }
   ],
   "source": [
    "# new code from Karpathy to track performance of dataset splits\n",
    "\n",
    "@torch.no_grad() # decorator to disable gradient tracking (and thereby increase efficiency)\n",
    "def split_loss(split):\n",
    "    X, Y = {\n",
    "        'train': (X_trn, Y_trn),\n",
    "        'dev': (X_dev, Y_dev),\n",
    "        'test': (X_tst, Y_tst)\n",
    "           }[split]\n",
    "    emb = C[X] # embed chars into vecs of size N x block_size x emb_dims\n",
    "    emb_concat = emb.view(emb.shape[0], -1) # concat vectors to N x (block_size x emb_dims)\n",
    "    hp_react = emb_concat @ W1 + b1 # hidden layer pre-activation, N x n_hidden\n",
    "    h = torch.tanh(hp_react) # hidden layer, N x vocab_size\n",
    "    logits = h @ W2 + b2 # output layer\n",
    "    loss = F.cross_entropy(logits, Y) # loss function\n",
    "    print(f'{split}: {loss.item()}')\n",
    "    \n",
    "split_loss('train')\n",
    "split_loss('dev')\n",
    "split_loss('test')"
   ]
  },
  {
   "cell_type": "code",
   "execution_count": 99,
   "id": "acf16dc1",
   "metadata": {},
   "outputs": [
    {
     "name": "stdout",
     "output_type": "stream",
     "text": [
      "any.\n",
      "kyla.\n",
      "angelinnson.\n",
      "jaydn.\n",
      "kianne.\n",
      "tazy.\n",
      "koh.\n",
      "ani.\n",
      "sanfedon.\n",
      "kenlishaan.\n",
      "kylot.\n",
      "naonie.\n",
      "roannestelena.\n",
      "mawy.\n",
      "raivi.\n",
      "saifer.\n",
      "alisyn.\n",
      "khagden.\n",
      "davic.\n",
      "khan.\n"
     ]
    }
   ],
   "source": [
    "# sample from the model\n",
    "g = torch.Generator().manual_seed(2147483647 + 2304)\n",
    "\n",
    "for _ in range(20):\n",
    "    out = []\n",
    "    context = [0] * block_size\n",
    "    while True:\n",
    "        emb = C[torch.tensor([context])]  \n",
    "        h = torch.tanh(emb.view(1, -1) @ W1 + b1)\n",
    "        logits = h @ W2 + b2\n",
    "        probs = F.softmax(logits, dim = 1)\n",
    "        ix = torch.multinomial(probs, num_samples = 1, generator = g).item()\n",
    "        context = context[1:] + [ix]\n",
    "        out.append(ix)\n",
    "        if ix == 0:\n",
    "            break\n",
    "\n",
    "    print(''.join(i_to_s[i] for i in out))"
   ]
  },
  {
   "cell_type": "code",
   "execution_count": 100,
   "id": "0d98bb0a",
   "metadata": {},
   "outputs": [
    {
     "data": {
      "text/plain": [
       "tensor(3.2958)"
      ]
     },
     "execution_count": 100,
     "metadata": {},
     "output_type": "execute_result"
    }
   ],
   "source": [
    "# initial loss is way out (around 27)\n",
    "# neg log prob for 27 chars should be around 3.3\n",
    "-torch.tensor(1/27.0).log()"
   ]
  },
  {
   "cell_type": "code",
   "execution_count": 101,
   "id": "d00c5737",
   "metadata": {},
   "outputs": [
    {
     "data": {
      "text/plain": [
       "(tensor([0., 0., 0., 0.]),\n",
       " tensor([0.2500, 0.2500, 0.2500, 0.2500]),\n",
       " tensor(1.3863))"
      ]
     },
     "execution_count": 101,
     "metadata": {},
     "output_type": "execute_result"
    }
   ],
   "source": [
    "# 4D example of issue\n",
    "logits = torch.tensor([0.0, 0.0, 0.0, 0.0])\n",
    "probs = torch.softmax(logits, dim = 0)\n",
    "loss = -probs[2].log() # just indexing in to probs (uniform dist) at random \n",
    "logits, probs, loss"
   ]
  },
  {
   "cell_type": "code",
   "execution_count": 102,
   "id": "b0d403b9",
   "metadata": {},
   "outputs": [
    {
     "data": {
      "text/plain": [
       "(tensor([  4.3090, -14.7538,  -9.0480,   1.3076]),\n",
       " tensor([9.5264e-01, 5.0124e-09, 1.5068e-06, 4.7363e-02]),\n",
       " tensor(13.4055))"
      ]
     },
     "execution_count": 102,
     "metadata": {},
     "output_type": "execute_result"
    }
   ],
   "source": [
    "# BUT, if other values are extreme, we get high loss\n",
    "logits = torch.randn(4) * 10\n",
    "probs = torch.softmax(logits, dim = 0)\n",
    "loss = -probs[2].log() # just indexing in to probs (uniform dist) at random \n",
    "logits, probs, loss"
   ]
  },
  {
   "cell_type": "code",
   "execution_count": 106,
   "id": "a8f477d2",
   "metadata": {},
   "outputs": [
    {
     "name": "stdout",
     "output_type": "stream",
     "text": [
      "X shape: torch.Size([182443, 3]) \tX dtype: torch.int64 \tY shape: torch.Size([182443]) \tY dtype: torch.int64\n",
      "X shape: torch.Size([22930, 3]) \tX dtype: torch.int64 \tY shape: torch.Size([22930]) \tY dtype: torch.int64\n",
      "X shape: torch.Size([22774, 3]) \tX dtype: torch.int64 \tY shape: torch.Size([22774]) \tY dtype: torch.int64\n",
      "Iter: 0\tL_rate: 0.1\tLoss: 25.45935\tLoss MA10: 25.4593505859375\n"
     ]
    },
    {
     "data": {
      "text/plain": [
       "(tensor([[  3.9990,   1.6832,  -2.6482,  ...,  -3.6486,   7.9388,   4.2100],\n",
       "         [  0.2366,  -1.0298,   1.3311,  ...,  -2.6519,  -4.0272,   0.3195],\n",
       "         [ -4.9033,  -0.6593,  -3.0338,  ...,  -5.8473,  -3.6177,   4.9607],\n",
       "         ...,\n",
       "         [ -2.9766,  -0.2452,   1.7540,  ...,  -5.1640,   3.9082,  15.4719],\n",
       "         [  9.0678, -10.7850,  -5.1990,  ...,  -4.5949,  -6.5185,  -0.1172],\n",
       "         [ -1.4246,   0.8337, -13.5671,  ...,   5.9078,  -9.9604, -13.0128]],\n",
       "        grad_fn=<AddBackward0>),\n",
       " tensor([[ 0.9993,  0.9333, -0.9900,  ..., -0.9986,  1.0000,  0.9996],\n",
       "         [ 0.2323, -0.7738,  0.8695,  ..., -0.9901, -0.9994,  0.3091],\n",
       "         [-0.9999, -0.5779, -0.9954,  ..., -1.0000, -0.9986,  0.9999],\n",
       "         ...,\n",
       "         [-0.9948, -0.2404,  0.9418,  ..., -0.9999,  0.9992,  1.0000],\n",
       "         [ 1.0000, -1.0000, -0.9999,  ..., -0.9998, -1.0000, -0.1167],\n",
       "         [-0.8905,  0.6825, -1.0000,  ...,  1.0000, -1.0000, -1.0000]],\n",
       "        grad_fn=<TanhBackward0>),\n",
       " tensor([[-8.1919e+00,  1.3072e+00, -1.5044e+00,  1.2936e+01, -1.1354e+01,\n",
       "           7.0742e+00, -2.7000e-01, -5.4320e+00,  9.0870e+00, -4.1773e+00,\n",
       "          -1.2617e+01,  2.7419e+01, -9.5586e+00, -1.3412e+01,  3.5660e+00,\n",
       "           1.2214e+00, -2.6209e+01,  1.3807e+01, -1.1988e+01,  3.6287e+00,\n",
       "           7.5203e+00, -9.9429e+00,  1.8656e+01,  2.1307e+00,  1.2854e+00,\n",
       "           1.7127e+01, -2.8273e+01],\n",
       "         [ 3.5466e+00, -9.5610e+00,  9.5283e+00, -1.5347e+01,  1.2064e+01,\n",
       "           5.1639e+00, -2.3531e+00,  1.4248e+00, -1.5498e+01,  1.6184e+01,\n",
       "           1.7718e+01,  2.0437e+00,  1.6647e+01, -1.2413e+01, -3.5145e-01,\n",
       "           1.4734e+01, -7.7106e+00,  2.5350e+01,  1.6414e+01,  1.0546e+01,\n",
       "          -2.5747e+00,  1.1231e+01, -3.1340e+00,  1.7955e+01,  8.5605e+00,\n",
       "           2.8415e+00,  1.4902e+01],\n",
       "         [-2.3837e+01, -8.2580e-01, -2.0448e+01,  2.6348e+01, -5.0417e+00,\n",
       "          -1.9135e+00, -3.0129e+01,  7.9129e+00,  1.7310e+01,  1.6613e+01,\n",
       "           1.5428e+01, -2.5631e+00, -2.5670e+01, -1.3935e+00,  1.6309e+00,\n",
       "           8.2496e+00, -1.9352e+01, -1.6398e+01, -1.2052e+01,  1.4936e+01,\n",
       "           1.5543e+01,  1.9919e+01,  9.5522e+00,  7.6292e+00,  7.1376e+00,\n",
       "           9.9253e+00, -8.2413e+00],\n",
       "         [-5.1645e+00,  6.7292e+00, -7.7360e+00, -4.5367e+00,  7.3821e+00,\n",
       "          -7.2530e+00, -4.6595e-03,  1.4076e+01,  8.8377e+00, -2.7581e-02,\n",
       "           2.1454e+00, -1.7580e+01,  4.9403e+00, -5.1022e-01,  8.0447e+00,\n",
       "           1.7807e+01, -7.6275e+00, -2.9075e+00, -5.5254e+00, -4.4312e+00,\n",
       "           3.4334e+00,  2.8521e+01,  6.0535e+00, -2.9288e+01, -4.3446e+00,\n",
       "          -5.9654e+00, -7.6684e+00],\n",
       "         [-1.0346e+01, -4.2817e+00, -3.4824e+00,  2.1477e+01, -3.2505e+00,\n",
       "          -2.7275e+00, -3.0091e+01,  3.6049e+01,  2.3489e+01,  7.3472e+00,\n",
       "           1.4366e+01, -2.8260e+00, -1.0060e+01, -8.0291e+00, -2.2165e-01,\n",
       "           9.7013e+00, -8.0732e+00, -3.7411e-01, -1.5911e+01,  3.4977e+00,\n",
       "          -3.6297e+01, -2.7915e+00,  1.7539e+01,  2.2890e+00,  2.5670e+01,\n",
       "           8.3224e+00,  7.4942e+00],\n",
       "         [ 1.8246e+01, -2.2581e+00, -9.2381e+00, -5.7843e+00,  3.5887e+01,\n",
       "           3.9765e-01, -9.2382e-01,  8.1364e+00,  1.5370e+01,  2.2223e+01,\n",
       "           5.2973e+00, -7.7650e+00, -2.5763e+00, -1.0778e+01, -1.4520e+01,\n",
       "           8.5136e-01, -1.2203e+01, -1.0901e+01,  2.4153e-01,  1.1100e+00,\n",
       "          -7.3669e+00,  6.7830e+00,  1.9384e+01,  4.5330e+00, -6.2610e+00,\n",
       "           1.1020e+01,  1.0067e+01],\n",
       "         [ 7.5760e+00,  4.6654e+00, -1.7642e+01, -1.6528e+01,  1.0101e+01,\n",
       "           1.7370e+01, -5.4053e-01,  1.4011e+01, -1.1632e+00, -9.3849e+00,\n",
       "          -1.0213e+00,  8.9782e+00,  2.4062e+01,  1.0262e+01, -1.2080e+00,\n",
       "           1.6937e+01, -1.4416e+01,  8.4426e+00,  4.3396e-01,  9.2125e+00,\n",
       "          -1.0979e+00,  2.9614e+00,  2.9958e+00, -2.6014e+01,  1.4738e+01,\n",
       "          -1.8766e+01, -1.1631e+01],\n",
       "         [ 1.2412e+01, -7.6996e+00,  2.3776e+00,  6.5568e+00, -6.7900e+00,\n",
       "          -1.5600e+01, -2.1210e+01, -6.8933e-01,  1.3283e+01, -1.2542e+01,\n",
       "          -4.2807e+00,  2.5917e+01,  1.7245e+00, -1.9725e+01,  2.6588e+00,\n",
       "           7.7760e+00, -1.5661e+01,  1.4815e+01,  1.6635e+01, -9.3979e+00,\n",
       "          -6.0412e+00, -2.7174e+00, -1.9348e+00, -4.2945e+00, -9.4654e+00,\n",
       "          -5.1644e+00,  7.4092e-01],\n",
       "         [ 6.0356e+00, -8.4091e+00, -1.7966e+01,  3.8081e+00,  3.2430e+00,\n",
       "           1.6044e+01, -3.3821e+01, -5.4155e+00,  4.0333e+01, -6.7845e+00,\n",
       "          -1.1740e+01, -1.0954e+01, -8.5017e+00, -2.5522e+01,  1.3033e+01,\n",
       "          -3.0232e+01, -1.8662e+01, -1.4055e+01, -3.6529e+01,  7.5655e+00,\n",
       "          -7.5586e-01,  1.2671e+01,  2.7114e+01,  4.2305e+00, -1.6020e+00,\n",
       "          -7.2097e-01, -2.5021e+01],\n",
       "         [ 1.2412e+01, -7.6996e+00,  2.3776e+00,  6.5568e+00, -6.7900e+00,\n",
       "          -1.5600e+01, -2.1210e+01, -6.8933e-01,  1.3283e+01, -1.2542e+01,\n",
       "          -4.2807e+00,  2.5917e+01,  1.7245e+00, -1.9725e+01,  2.6588e+00,\n",
       "           7.7760e+00, -1.5661e+01,  1.4815e+01,  1.6635e+01, -9.3979e+00,\n",
       "          -6.0412e+00, -2.7174e+00, -1.9348e+00, -4.2945e+00, -9.4654e+00,\n",
       "          -5.1644e+00,  7.4092e-01],\n",
       "         [ 8.7700e+00, -4.2977e+00, -9.7363e+00, -3.4722e+00,  3.0802e+01,\n",
       "           4.4992e+00,  4.0050e+00,  1.0181e+01,  9.0576e+00,  3.2340e+01,\n",
       "           1.1215e+01, -2.0720e+01, -1.1698e+01,  1.3121e+01, -1.7733e+01,\n",
       "          -3.9365e-01, -1.1074e+01, -8.8379e-01,  5.9427e+00,  1.2621e+01,\n",
       "           2.1149e+01, -1.0351e+00, -2.2283e+00, -3.6514e+00,  3.9559e+00,\n",
       "           1.0026e+01, -4.4661e+00],\n",
       "         [-5.7424e+00,  1.3406e+01,  1.5527e+01,  1.5761e+01,  2.0455e+01,\n",
       "           2.9779e+00,  8.9216e+00,  1.9749e+01,  9.3163e+00,  2.5602e+01,\n",
       "           2.0755e+01,  4.4928e+00, -2.1372e+00, -1.6224e+00,  2.5575e+01,\n",
       "           3.2982e+01, -2.2002e+01,  7.5079e+00,  2.4658e+01, -1.4961e+01,\n",
       "          -7.5532e+00,  7.6945e+00,  8.8011e+00, -2.1356e+01,  9.2527e+00,\n",
       "           1.3064e+01,  9.8955e-01],\n",
       "         [-9.9983e+00, -1.0495e+01,  6.2605e+00,  2.5712e+01,  1.1258e+01,\n",
       "           3.4827e+00, -5.7682e+00,  1.5624e+01,  1.2120e+00,  1.3983e+01,\n",
       "           1.1749e+01,  1.3206e+01, -7.8026e+00, -7.6789e+00,  1.1215e+01,\n",
       "           1.5957e+01,  9.5707e-01, -7.3407e+00, -3.0551e+01, -2.0233e+01,\n",
       "           1.4757e+01,  1.0560e+01, -4.2886e+00, -2.0909e+01,  1.4338e+01,\n",
       "           8.0175e+00, -1.1795e+01],\n",
       "         [ 1.2412e+01, -7.6996e+00,  2.3776e+00,  6.5568e+00, -6.7900e+00,\n",
       "          -1.5600e+01, -2.1210e+01, -6.8933e-01,  1.3283e+01, -1.2542e+01,\n",
       "          -4.2807e+00,  2.5917e+01,  1.7245e+00, -1.9725e+01,  2.6588e+00,\n",
       "           7.7760e+00, -1.5661e+01,  1.4815e+01,  1.6635e+01, -9.3979e+00,\n",
       "          -6.0412e+00, -2.7174e+00, -1.9348e+00, -4.2945e+00, -9.4654e+00,\n",
       "          -5.1644e+00,  7.4092e-01],\n",
       "         [ 9.9006e+00,  3.6454e+00,  1.4150e+01,  1.5616e+01, -1.8631e+01,\n",
       "          -2.7809e+01,  3.0444e+00,  1.0669e+01,  5.9088e+00, -4.3011e+00,\n",
       "          -1.5614e+00,  2.1537e+01,  1.0519e+01, -5.6244e+00, -2.6654e+00,\n",
       "           1.0790e+01, -2.3328e+01,  1.1715e+01,  1.8418e+01, -4.6352e+00,\n",
       "          -1.1382e+01,  6.4947e+00, -3.9878e+00,  1.0822e+01,  8.5850e+00,\n",
       "           3.8053e+00, -1.1186e+01],\n",
       "         [-1.3468e+01, -3.1551e+00,  6.0202e-01, -2.7847e+01,  1.3106e+01,\n",
       "           2.4238e+01,  1.7089e+01,  1.5426e+01, -9.8661e+00,  1.6087e+01,\n",
       "           6.0832e+00,  1.1709e+01,  1.7931e+00, -8.3899e-01, -6.1037e+00,\n",
       "           8.7515e+00, -8.1401e+00, -4.6877e-01,  1.3416e+01,  3.2134e+00,\n",
       "          -2.3803e+00, -2.2005e+00, -1.4452e+01,  5.3114e-02, -7.0282e+00,\n",
       "           1.2077e+01,  8.0891e-01],\n",
       "         [ 2.2199e+01, -1.2082e+01,  8.5340e+00,  1.9098e+01, -2.4515e+01,\n",
       "          -6.9230e+00,  7.7476e+00, -8.2852e-01,  1.8378e+01, -2.5715e+00,\n",
       "          -1.5962e+01,  1.1078e+01, -5.4837e+00, -8.7123e+00, -6.7835e-01,\n",
       "          -3.4195e+00, -2.4478e+01,  1.0592e+01,  1.5671e+01,  7.5434e+00,\n",
       "          -4.6729e+00, -2.7260e+01,  2.4298e+00, -1.4366e+00,  9.2190e+00,\n",
       "          -5.7573e+00, -2.4979e+01],\n",
       "         [ 9.0432e+00, -1.0242e+01, -2.6077e+01, -5.4946e+00, -4.5230e+00,\n",
       "           2.5664e+01, -3.6844e+01,  1.0930e+01,  2.8562e+01,  1.8334e+00,\n",
       "          -1.9984e+01,  1.1009e+01, -1.1047e+01, -9.3318e+00,  2.5119e+01,\n",
       "          -1.0204e+01, -2.1307e+01, -1.0012e+00, -1.0902e+01, -1.4777e+01,\n",
       "          -1.3868e+01,  6.8484e+00,  7.4052e+00,  4.2075e+00, -5.3498e+00,\n",
       "           2.3247e+01, -3.3123e+00],\n",
       "         [-1.9406e+01,  1.9323e+01,  5.0458e+00,  1.0732e+01,  1.4963e+01,\n",
       "           1.6039e+01, -7.0404e+00, -5.8728e+00, -2.5209e+00,  7.8388e+00,\n",
       "           3.0181e+01,  4.9102e+00, -1.1077e+01, -2.5098e+01, -4.7781e+00,\n",
       "           2.2658e+01, -1.1207e+01, -3.0143e+00, -6.2023e+00, -4.3796e+00,\n",
       "           8.2214e+00,  1.7208e+01,  6.2456e+00,  5.1690e+00, -3.5194e+00,\n",
       "           2.2742e+01,  5.9483e+00],\n",
       "         [-5.8970e+00, -1.7491e+01,  4.5387e+00, -6.6802e+00,  4.0273e+01,\n",
       "           1.0671e+01,  8.4011e+00,  5.7761e+00, -2.9967e+01,  1.1836e+01,\n",
       "           2.5298e+01, -2.3735e+00,  1.1790e+01, -1.5923e+01,  1.0775e+00,\n",
       "           2.0171e+01, -1.6809e-01,  1.2714e+01,  1.4954e+01,  1.6775e+01,\n",
       "           1.0969e+01,  1.7378e+01,  9.9860e-01, -7.0146e-01,  6.9242e+00,\n",
       "          -1.4444e-01,  2.9019e+00],\n",
       "         [-4.3732e+00, -5.8660e+00,  9.4711e+00, -2.0094e+01,  2.9571e+01,\n",
       "           3.1185e+01, -8.1505e+00, -3.7998e+00, -2.5665e+01,  1.9525e+01,\n",
       "           2.2591e+01, -5.6861e+00,  2.0875e+01, -1.3203e+01,  1.6688e+00,\n",
       "           1.7503e+01, -7.1161e+00,  2.6545e+01,  1.3199e+01,  1.4996e+01,\n",
       "           2.8984e+00,  2.0063e+01, -4.9505e+00,  9.4957e+00, -1.3951e+01,\n",
       "           6.7658e+00,  9.0410e+00],\n",
       "         [-2.3678e+00, -1.1608e+01, -4.3955e+00,  1.1962e+01,  3.8331e+01,\n",
       "           4.9306e+00, -2.2217e+00,  1.9001e+01, -7.6730e+00,  2.4198e+01,\n",
       "           1.5390e+01, -8.9836e+00, -4.5440e+00,  5.3076e+00, -8.5698e+00,\n",
       "           1.2453e+01,  7.7832e+00, -9.4473e+00,  2.0485e+01,  1.9593e+01,\n",
       "           8.5794e+00,  1.0045e+01,  1.7465e+01,  8.4819e+00,  2.1686e+01,\n",
       "           2.5935e+00, -2.3366e+00],\n",
       "         [ 6.6225e+00, -1.3047e+01,  5.1043e+00, -4.2674e+00, -2.5801e+00,\n",
       "           6.6628e+00, -6.4446e+00,  4.7230e+00,  8.8789e+00,  1.7182e+01,\n",
       "           3.6761e+00,  6.1131e+00, -2.4969e+00,  1.5491e+01, -6.3081e+00,\n",
       "           1.4616e+01, -1.6699e+01, -1.2709e+01,  1.7251e+01,  1.9585e+01,\n",
       "          -2.6808e+00,  3.6834e+00, -1.2213e+01,  2.9118e+00,  1.3631e+01,\n",
       "           1.0590e+01, -4.0220e+00],\n",
       "         [ 2.2124e+00,  7.5281e+00, -7.5302e+00,  3.1725e+01,  1.5401e+01,\n",
       "          -3.3239e+00, -2.2049e+00,  1.3287e+01,  1.3774e+01,  3.0413e+00,\n",
       "          -9.2951e+00,  1.4700e+01,  1.3121e+01, -7.3145e+00,  2.0073e+01,\n",
       "           5.0826e+00, -7.4552e+00, -1.6822e+00, -1.7156e+00,  8.8122e+00,\n",
       "           2.5040e+00,  1.0107e+01,  1.6301e+01,  1.1202e+01,  3.0525e+01,\n",
       "           2.1177e+01, -5.3994e+00],\n",
       "         [-5.8264e+00,  7.6799e+00, -1.2690e+01,  1.2230e+01,  1.1258e+00,\n",
       "          -5.5777e+00, -6.1911e+00,  2.4756e+01,  9.8481e-02, -4.1953e+00,\n",
       "          -8.2289e+00, -2.7438e+00,  1.4581e+01, -1.5330e+00, -7.6698e+00,\n",
       "           1.3751e+01,  4.3554e-01, -1.4441e+00,  7.3142e+00,  1.6938e+01,\n",
       "          -3.3595e+00, -7.3219e+00,  1.1264e+01,  1.0796e+01,  3.5578e+01,\n",
       "          -1.8073e+01, -5.4120e+00],\n",
       "         [-1.5701e+01,  1.1869e+01, -4.1808e+00, -5.8955e+00,  3.1441e+01,\n",
       "           4.8601e+00,  1.2187e+00,  1.2636e+01,  1.5204e+01,  1.6905e+01,\n",
       "           8.6962e+00, -1.1563e+01, -1.3073e+00, -1.1829e+01,  3.5246e+00,\n",
       "           9.2894e+00, -1.0933e+01, -6.3856e+00, -2.6394e+00, -1.5659e+01,\n",
       "           2.5607e+00,  2.6590e+01, -3.6098e+00, -1.3500e+01,  6.2387e+00,\n",
       "          -3.1228e+00, -2.6498e+00],\n",
       "         [-6.9200e+00, -1.3175e+01, -3.2218e+01,  4.5961e+00,  8.9498e+00,\n",
       "           1.6249e+01, -2.9179e+01,  1.7278e+00,  1.7816e+01,  1.0142e+01,\n",
       "          -1.2329e+01,  1.2311e+01,  4.4095e+00,  2.9285e+00,  3.3689e-01,\n",
       "          -1.8434e+01, -6.6132e+00, -1.1481e+01, -3.2104e+00, -3.0583e+00,\n",
       "           7.8988e+00, -2.7446e+00,  1.8377e+01, -4.5423e-01,  1.1401e+01,\n",
       "          -1.0494e+00, -2.1243e+01],\n",
       "         [ 1.2800e+01, -6.2093e+00, -3.2128e+00,  1.0226e+01, -8.9697e+00,\n",
       "          -9.9485e+00, -4.5759e+00, -9.2036e-01, -5.4076e+00,  5.1654e+00,\n",
       "          -1.7806e+01,  2.2162e+01, -1.3940e+01,  2.5928e-01,  2.0855e+00,\n",
       "           1.3458e+01, -1.1898e+01,  1.9599e+01,  2.3591e+01, -1.0932e+01,\n",
       "          -1.0417e+00,  9.6508e+00, -2.3014e+01, -3.5356e+00,  3.2412e+00,\n",
       "           1.0962e+01, -1.1832e+01],\n",
       "         [ 1.2388e+01,  5.6873e+00,  4.3000e-02, -9.0229e-01,  1.3050e+01,\n",
       "           2.2777e+01,  1.5282e+01,  5.9327e+00, -3.2757e+00,  6.3178e-01,\n",
       "          -2.5338e+01,  2.2977e+01,  9.0686e+00,  3.7302e+00,  3.4998e+00,\n",
       "           2.5408e+00, -6.9880e+00,  1.0231e+01, -7.9032e+00, -2.6004e-01,\n",
       "           1.6688e+01,  6.1015e+00,  1.6985e+01, -3.5788e+00,  3.1145e+00,\n",
       "           1.0550e+01, -2.8836e+01],\n",
       "         [ 5.8915e+00,  5.6136e+00,  1.4868e+01,  1.6708e+01, -2.0141e+01,\n",
       "          -1.7137e+01, -7.8763e+00,  1.9347e+00, -1.4322e-01,  2.1964e+00,\n",
       "          -3.5279e+00,  1.1456e+01, -2.9099e+00, -8.0407e+00, -1.0863e+01,\n",
       "           2.3054e+01, -3.2422e+00,  8.2813e+00,  5.6836e+00, -1.7316e+01,\n",
       "          -7.8719e+00, -3.9225e+00, -3.8233e+00, -9.3299e+00, -1.1880e+01,\n",
       "           5.5344e+00,  1.5929e+00],\n",
       "         [ 1.5692e+01, -5.9758e+00,  2.7479e+00,  2.8654e+00,  3.2228e+01,\n",
       "          -2.7155e+00,  2.2287e+01,  1.5130e+00,  7.0279e+00,  2.7918e+01,\n",
       "           5.6799e+00, -1.7749e+01, -2.2621e+01,  1.4409e+01, -2.2871e+01,\n",
       "           6.3998e-01, -7.7172e+00,  5.0193e+00,  2.0852e+01,  1.4543e+00,\n",
       "           2.7241e+01, -6.2366e+00, -2.1086e-01, -1.2954e+01, -2.5591e+00,\n",
       "           2.6281e+01, -2.2897e+00],\n",
       "         [ 8.3167e+00, -1.4539e+00, -6.4779e+00,  1.4074e+00,  2.2153e+01,\n",
       "           1.0851e+01,  1.3159e+01,  1.0309e+01,  1.6527e+01,  7.3524e+00,\n",
       "           1.6643e+01, -1.5469e+01,  2.4935e+01, -1.7616e+01,  2.1004e+01,\n",
       "          -1.4166e+01, -6.7802e+00,  7.5038e+00, -1.0521e+01, -9.7900e+00,\n",
       "           7.6177e-01,  3.2401e+00,  1.1964e+01, -6.5921e+00, -1.6737e+01,\n",
       "           1.4902e+01, -1.2093e+00]], grad_fn=<AddBackward0>),\n",
       " tensor(25.4594, grad_fn=<NllLossBackward0>))"
      ]
     },
     "execution_count": 106,
     "metadata": {},
     "output_type": "execute_result"
    }
   ],
   "source": [
    "# re-initialise and train, outputting loss from just first iteration\n",
    "random.seed(42)\n",
    "random.shuffle(words)\n",
    "n1 = int(0.8*len(words))\n",
    "n2 = int(0.9*len(words))\n",
    "\n",
    "X_trn, Y_trn = build_dataset(words[:n1], block_size)\n",
    "X_dev, Y_dev = build_dataset(words[n1:n2], block_size)\n",
    "X_tst, Y_tst = build_dataset(words[n2:], block_size)\n",
    "\n",
    "g = torch.Generator().manual_seed(2147483647)\n",
    "C = torch.randn((vocab_size, emb_dims), generator = g) \n",
    "W1 = torch.randn((n_weights, n_hidden), generator = g)\n",
    "b1 = torch.randn(n_hidden, generator = g) \n",
    "W2 = torch.randn((n_hidden, vocab_size), generator = g) \n",
    "b2 = torch.randn(vocab_size, generator = g) \n",
    "\n",
    "# get param count\n",
    "parameters = [C, W1, b1, W2, b2]\n",
    "\n",
    "for p in parameters:\n",
    "    p.requires_grad = True \n",
    "    \n",
    "step_i = []\n",
    "loss_i = []\n",
    "log_loss_i = []\n",
    "\n",
    "train(1, X_trn, Y_trn, batch_size, C, l_rate, parameters, step_i, loss_i, log_loss_i)"
   ]
  },
  {
   "cell_type": "code",
   "execution_count": 110,
   "id": "c639cd47",
   "metadata": {},
   "outputs": [
    {
     "name": "stdout",
     "output_type": "stream",
     "text": [
      "X shape: torch.Size([182548, 3]) \tX dtype: torch.int64 \tY shape: torch.Size([182548]) \tY dtype: torch.int64\n",
      "X shape: torch.Size([22751, 3]) \tX dtype: torch.int64 \tY shape: torch.Size([22751]) \tY dtype: torch.int64\n",
      "X shape: torch.Size([22848, 3]) \tX dtype: torch.int64 \tY shape: torch.Size([22848]) \tY dtype: torch.int64\n",
      "Iter: 0\tL_rate: 0.1\tLoss: 4.22263\tLoss MA10: 4.222630023956299\n",
      "Iter: 2500\tL_rate: 0.09753\tLoss: 2.65605\tLoss MA10: 2.455080032348633\n",
      "Iter: 5000\tL_rate: 0.09512\tLoss: 2.20936\tLoss MA10: 2.3960399627685547\n",
      "Iter: 7500\tL_rate: 0.09277\tLoss: 2.33444\tLoss MA10: 2.2918701171875\n",
      "Iter: 10000\tL_rate: 0.09048\tLoss: 2.48675\tLoss MA10: 2.3535499572753906\n"
     ]
    }
   ],
   "source": [
    "# re-initialise and do full training run with adjusted W2 and B2\n",
    "# NB - this time we set the HPs so that the logits are more uniform at first run and loss is less extreme\n",
    "\n",
    "random.seed(42)\n",
    "random.shuffle(words)\n",
    "n1 = int(0.8*len(words))\n",
    "n2 = int(0.9*len(words))\n",
    "\n",
    "X_trn, Y_trn = build_dataset(words[:n1], block_size)\n",
    "X_dev, Y_dev = build_dataset(words[n1:n2], block_size)\n",
    "X_tst, Y_tst = build_dataset(words[n2:], block_size)\n",
    "\n",
    "g = torch.Generator().manual_seed(2147483647)\n",
    "C = torch.randn((vocab_size, emb_dims), \tgenerator = g) \n",
    "W1 = torch.randn((n_weights, n_hidden), \tgenerator = g)\n",
    "b1 = torch.randn(n_hidden, \t\t\t\t\tgenerator = g) \n",
    "# NB - DO NOT set W2 to zeroes (K asserts at this point in vid, does not yet explain)\n",
    "W2 = torch.randn((n_hidden, vocab_size), \tgenerator = g) * 0.1 # scalar applied to logits to reduce values on initial run\n",
    "b2 = torch.randn(vocab_size, \t\t\t\tgenerator = g) * 0 # set bias on logits to zero for initial run\n",
    "\n",
    "# get param count\n",
    "parameters = [C, W1, b1, W2, b2]\n",
    "\n",
    "for p in parameters:\n",
    "    p.requires_grad = True \n",
    "    \n",
    "step_i = []\n",
    "loss_i = []\n",
    "log_loss_i = []\n",
    "\n",
    "hp_react, h, logits, loss = train(10001, X_trn, Y_trn, batch_size, C, l_rate, parameters, step_i, loss_i, log_loss_i)"
   ]
  },
  {
   "cell_type": "code",
   "execution_count": 86,
   "id": "c848c9aa",
   "metadata": {},
   "outputs": [
    {
     "data": {
      "text/plain": [
       "[<matplotlib.lines.Line2D at 0x26449530a90>]"
      ]
     },
     "execution_count": 86,
     "metadata": {},
     "output_type": "execute_result"
    },
    {
     "data": {
      "image/png": "[encoded data removed]",
      "text/plain": [
       "<Figure size 640x480 with 1 Axes>"
      ]
     },
     "metadata": {},
     "output_type": "display_data"
    }
   ],
   "source": [
    "# NB no hockey stick shape on plot as initial loss was adjusted\n",
    "plt.plot(log_loss_i)"
   ]
  },
  {
   "cell_type": "code",
   "execution_count": 88,
   "id": "edb1fc8a",
   "metadata": {},
   "outputs": [
    {
     "name": "stdout",
     "output_type": "stream",
     "text": [
      "train: 2.0796239376068115\n",
      "dev: 2.1417970657348633\n",
      "test: 2.1511378288269043\n"
     ]
    }
   ],
   "source": [
    "# losses actually similar to earlier, no noticeable improvement (K gets a modest improvement)\n",
    "split_loss('train')\n",
    "split_loss('dev')\n",
    "split_loss('test')"
   ]
  },
  {
   "cell_type": "code",
   "execution_count": 111,
   "id": "835fb25f",
   "metadata": {},
   "outputs": [
    {
     "data": {
      "text/plain": [
       "tensor([[ 0.9734, -1.0000, -0.7502,  ..., -1.0000, -0.9230, -0.9627],\n",
       "        [ 0.9999, -1.0000,  0.9532,  ...,  0.9915, -0.9769,  1.0000],\n",
       "        [-1.0000,  0.7456,  0.0500,  ..., -0.1028,  1.0000,  1.0000],\n",
       "        ...,\n",
       "        [-1.0000, -0.8566, -1.0000,  ..., -0.7763,  0.9614,  0.5861],\n",
       "        [ 0.9972, -0.9375, -0.9998,  ..., -0.9790,  1.0000, -0.9999],\n",
       "        [-0.9639, -1.0000, -1.0000,  ..., -0.4433,  0.2483,  0.6087]],\n",
       "       grad_fn=<TanhBackward0>)"
      ]
     },
     "execution_count": 111,
     "metadata": {},
     "output_type": "execute_result"
    }
   ],
   "source": [
    "# next problem! \n",
    "# quick visualisation of h, lots of 1.0 and -1.0\n",
    "h"
   ]
  },
  {
   "cell_type": "code",
   "execution_count": 112,
   "id": "17bda4da",
   "metadata": {},
   "outputs": [
    {
     "data": {
      "image/png": "[encoded data removed]",
      "text/plain": [
       "<Figure size 640x480 with 1 Axes>"
      ]
     },
     "metadata": {},
     "output_type": "display_data"
    }
   ],
   "source": [
    "plt.hist(h.view(-1).tolist(), 50); # -1 puts this into one long 1D vector, tolist just converts to a py list of floats"
   ]
  },
  {
   "cell_type": "code",
   "execution_count": 116,
   "id": "481e282e",
   "metadata": {},
   "outputs": [
    {
     "data": {
      "image/png": "[encoded data removed]",
      "text/plain": [
       "<Figure size 640x480 with 1 Axes>"
      ]
     },
     "metadata": {},
     "output_type": "display_data"
    }
   ],
   "source": [
    "# why so many at the extremes? why tanh so active???\n",
    "# range of hp_react is broad, and compressing all of these into a range of -1, 1 is capping and resulting in those extremes\n",
    "plt.hist(hp_react.view(-1).tolist(), 50);"
   ]
  },
  {
   "cell_type": "code",
   "execution_count": 117,
   "id": "796a7a5f",
   "metadata": {},
   "outputs": [
    {
     "data": {
      "text/plain": [
       "<matplotlib.image.AxesImage at 0x2639df81bd0>"
      ]
     },
     "execution_count": 117,
     "metadata": {},
     "output_type": "execute_result"
    },
    {
     "data": {
      "image/png": "[encoded data removed]",
      "text/plain": [
       "<Figure size 2000x1000 with 1 Axes>"
      ]
     },
     "metadata": {},
     "output_type": "display_data"
    }
   ],
   "source": [
    "# what's happening if we have loads of 1s?\n",
    "# how is back-propagation through tanh defined in micrograd (and presumably pytorch)?\n",
    "# it gets the tanh t of x\n",
    "# then during backward pass, takes out.grad and multiplies it with the local gradient, 1-t**2\n",
    "# if tanh is very close to 1 or -1, then 1-t**2 = 0, and the gradient is, therefore, killed\n",
    "\n",
    "# how do we start to visualise a solution\n",
    "plt.figure(figsize = (20,10))\n",
    "plt.imshow(h.abs() > 0.99, cmap = 'gray', interpolation = 'nearest') # how often is (abs of h) above 0.99?\n",
    "\n",
    "# every white cell is preventing the gradient from flowing backward\n",
    "# a white column would represent a completely inert, or 'dead', neuron, which always fires 0 or 1 and can not learn"
   ]
  },
  {
   "cell_type": "code",
   "execution_count": 118,
   "id": "c57e99c2",
   "metadata": {},
   "outputs": [],
   "source": [
    "# sigmoid\n",
    "# tanh\n",
    "# ReLU\n",
    "# maxout\n",
    "# ELU\n",
    "# all have this issue, as they all have flat parts\n",
    "\n",
    "# leaky ReLU\n",
    "# is an example of an activation function which avoids this issue\n",
    "# by applying a small linear function to <0 values"
   ]
  },
  {
   "cell_type": "code",
   "execution_count": null,
   "id": "afdcb3f3",
   "metadata": {},
   "outputs": [],
   "source": []
  }
 ],
 "metadata": {
  "kernelspec": {
   "display_name": "Python 3 (ipykernel)",
   "language": "python",
   "name": "python3"
  },
  "language_info": {
   "codemirror_mode": {
    "name": "ipython",
    "version": 3
   },
   "file_extension": ".py",
   "mimetype": "text/x-python",
   "name": "python",
   "nbconvert_exporter": "python",
   "pygments_lexer": "ipython3",
   "version": "3.10.6"
  }
 },
 "nbformat": 4,
 "nbformat_minor": 5
}
