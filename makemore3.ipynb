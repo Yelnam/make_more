{
 "cells": [
  {
   "cell_type": "code",
   "execution_count": 150,
   "id": "53a15e2f",
   "metadata": {},
   "outputs": [],
   "source": [
    "import torch\n",
    "import torch.nn.functional as F\n",
    "import numpy as np\n",
    "import random\n",
    "import matplotlib.pyplot as plt\n",
    "%matplotlib inline"
   ]
  },
  {
   "cell_type": "code",
   "execution_count": 151,
   "id": "b9ee3803",
   "metadata": {},
   "outputs": [],
   "source": [
    "# taken from end makemore2. most values updated to match K's\n",
    "\n",
    "# no. of chars used in context\n",
    "block_size = 3\n",
    "\n",
    "# dimensionality of embedding table\n",
    "emb_dims = 10\n",
    "n_weights = block_size * emb_dims\n",
    "\n",
    "# no. of neurons\n",
    "n_hidden = 200\n",
    "\n",
    "# size of batches\n",
    "batch_size = 32\n",
    "\n",
    "# number of training runs\n",
    "train_runs = 20001\n",
    "\n",
    "# learning rate\n",
    "l_rate_init = 0.1\n",
    "\n",
    "#     learning rate decay\n",
    "decay_factor = 0.99999\n",
    "\n",
    "# others\n",
    "# ???"
   ]
  },
  {
   "cell_type": "code",
   "execution_count": 152,
   "id": "cf10943b",
   "metadata": {},
   "outputs": [
    {
     "name": "stdout",
     "output_type": "stream",
     "text": [
      "First 15 words: ['emma', 'olivia', 'ava', 'isabella', 'sophia', 'charlotte', 'mia', 'amelia', 'harper', 'evelyn', 'abigail', 'emily', 'elizabeth', 'mila', 'ella']\n",
      "\n",
      "s to i: {'a': 1, 'b': 2, 'c': 3, 'd': 4, 'e': 5, 'f': 6, 'g': 7, 'h': 8, 'i': 9, 'j': 10, 'k': 11, 'l': 12, 'm': 13, 'n': 14, 'o': 15, 'p': 16, 'q': 17, 'r': 18, 's': 19, 't': 20, 'u': 21, 'v': 22, 'w': 23, 'x': 24, 'y': 25, 'z': 26, '.': 0}\n",
      "\n",
      "i to s: {1: 'a', 2: 'b', 3: 'c', 4: 'd', 5: 'e', 6: 'f', 7: 'g', 8: 'h', 9: 'i', 10: 'j', 11: 'k', 12: 'l', 13: 'm', 14: 'n', 15: 'o', 16: 'p', 17: 'q', 18: 'r', 19: 's', 20: 't', 21: 'u', 22: 'v', 23: 'w', 24: 'x', 25: 'y', 26: 'z', 0: '.'}\n",
      "\n",
      "Vocab size: 27\n"
     ]
    }
   ],
   "source": [
    "# get all words\n",
    "words = open('names.txt', 'r').read().splitlines()\n",
    "\n",
    "\n",
    "# get indexes between chars and ints\n",
    "chars = sorted(list(set(''.join(words))))\n",
    "s_to_i = {s:i+1 for i, s in enumerate(chars)}\n",
    "s_to_i['.'] = 0\n",
    "i_to_s = {i:s for s, i in s_to_i.items()}\n",
    "vocab_size = len(s_to_i)\n",
    "print(f'First 15 words: {words[:15]}\\n\\ns to i: {s_to_i}\\n\\ni to s: {i_to_s}\\n\\nVocab size: {vocab_size}')"
   ]
  },
  {
   "cell_type": "code",
   "execution_count": 153,
   "id": "6a173ebd",
   "metadata": {},
   "outputs": [],
   "source": [
    "# define func for building dataset\n",
    "\n",
    "def build_dataset(words, block_size):\n",
    "    block_size = block_size\n",
    "    X, Y = [], []\n",
    "    for word in words:\n",
    "        # print(word)\n",
    "        context = [0] * block_size\n",
    "    \n",
    "        for char in word + '.':\n",
    "            ix = s_to_i[char]\n",
    "            X.append(context)\n",
    "            Y.append(ix)\n",
    "            # print(''.join(i_to_s[i] for i in context), '->', i_to_s[ix])\n",
    "            context = context[1:] + [ix] # crop first character and append next\n",
    "    \n",
    "    X = torch.tensor(X)\n",
    "    Y = torch.tensor(Y)\n",
    "    \n",
    "    print(f'X shape: {X.shape} \\tX dtype: {X.dtype} \\tY shape: {Y.shape} \\tY dtype: {Y.dtype}')\n",
    "    return X, Y"
   ]
  },
  {
   "cell_type": "code",
   "execution_count": 154,
   "id": "990c325e",
   "metadata": {},
   "outputs": [
    {
     "name": "stdout",
     "output_type": "stream",
     "text": [
      "X shape: torch.Size([182606, 3]) \tX dtype: torch.int64 \tY shape: torch.Size([182606]) \tY dtype: torch.int64\n",
      "X shape: torch.Size([22697, 3]) \tX dtype: torch.int64 \tY shape: torch.Size([22697]) \tY dtype: torch.int64\n",
      "X shape: torch.Size([22844, 3]) \tX dtype: torch.int64 \tY shape: torch.Size([22844]) \tY dtype: torch.int64\n"
     ]
    }
   ],
   "source": [
    "# set train, dev, test sets\n",
    "\n",
    "random.seed(42)\n",
    "random.shuffle(words)\n",
    "n1 = int(0.8*len(words))\n",
    "n2 = int(0.9*len(words))\n",
    "\n",
    "X_trn, Y_trn = build_dataset(words[:n1], block_size)\n",
    "X_dev, Y_dev = build_dataset(words[n1:n2], block_size)\n",
    "X_tst, Y_tst = build_dataset(words[n2:], block_size)"
   ]
  },
  {
   "cell_type": "code",
   "execution_count": 155,
   "id": "c3a2bfb9",
   "metadata": {},
   "outputs": [
    {
     "name": "stdout",
     "output_type": "stream",
     "text": [
      "No. parameters: 11897\n"
     ]
    }
   ],
   "source": [
    "g = torch.Generator().manual_seed(2147483647)\n",
    "# updated 1st arg to vocab_size. had already done most of what K does here at the end of makemore2\n",
    "C = torch.randn((vocab_size, emb_dims), generator = g) \n",
    "# updated var name n_neurons to n_hidden as per K. more accurate\n",
    "W1 = torch.randn((n_weights, n_hidden), generator = g)\n",
    "b1 = torch.randn(n_hidden, generator = g) \n",
    "W2 = torch.randn((n_hidden, vocab_size), generator = g) \n",
    "b2 = torch.randn(vocab_size, generator = g) \n",
    "\n",
    "# get param count\n",
    "parameters = [C, W1, b1, W2, b2]\n",
    "print(f'No. parameters: {sum(p.nelement() for p in parameters)}')"
   ]
  },
  {
   "cell_type": "code",
   "execution_count": 156,
   "id": "38839220",
   "metadata": {},
   "outputs": [],
   "source": [
    "for p in parameters:\n",
    "    p.requires_grad = True "
   ]
  },
  {
   "cell_type": "code",
   "execution_count": 157,
   "id": "b7787772",
   "metadata": {},
   "outputs": [],
   "source": [
    "step_i = []\n",
    "loss_i = []\n",
    "log_loss_i = []"
   ]
  },
  {
   "cell_type": "code",
   "execution_count": 172,
   "id": "7492fadb",
   "metadata": {},
   "outputs": [],
   "source": [
    "# train\n",
    "def train(train_runs, X_trn, Y_trn, batch_size, C, l_rate, parameters, step_i, loss_i, log_loss_i):\n",
    "    for _ in range (train_runs):\n",
    "        ix = torch.randint(0, X_trn.shape[0], (batch_size,), generator = g)\n",
    "        Xb, Yb = X_trn[ix], Y_trn[ix]\n",
    "        # forward pass\n",
    "\n",
    "        # NB small formatting updates after Karpathy\n",
    "\n",
    "        emb = C[Xb] # embed chars into vecs of size N x block_size x emb_dims (can't work out exactly what N is for the moment)\n",
    "        emb_concat = emb.view(emb.shape[0], -1) # concat vectors to N x (block_size x emb_dims)\n",
    "        h_preact = emb_concat @ W1 + b1 # hidden layer pre-activation, N x n_hidden\n",
    "        h = torch.tanh(h_preact) # hidden layer, N x vocab_size\n",
    "        logits = h @ W2 + b2 # output layer\n",
    "        loss = F.cross_entropy(logits, Yb) # loss function\n",
    "\n",
    "        # backward pass\n",
    "        for p in parameters:\n",
    "            p.grad = None \n",
    "        loss.backward() \n",
    "\n",
    "        # update\n",
    "        # l_rate = l_rate_init * (decay_factor ** _) # different from Karpathy's, below\n",
    "        l_rate = 0.1 if _ < 100000 else 0.01 # K's\n",
    "\n",
    "        for p in parameters:\n",
    "            p.data += -l_rate * p.grad\n",
    "\n",
    "        step_i.append(_)\n",
    "        loss_i.append(loss) \n",
    "        log_loss_i.append(loss.log10().item()) \n",
    "\n",
    "        if _ % 2500 == 0:\n",
    "            print(f'Iter: {_}\\t'\n",
    "                  f'L_rate: {round(l_rate, 5)}\\t'\n",
    "                  f'Loss: {round(loss.item(), 5)}\\t'\n",
    "                  f'Loss MA10: {round(np.mean([l.detach().numpy() for l in loss_i[-10:]]), 5)}')\n",
    "        \n",
    "    return h_preact, h, logits, loss"
   ]
  },
  {
   "cell_type": "code",
   "execution_count": 158,
   "id": "38c2867d",
   "metadata": {},
   "outputs": [
    {
     "data": {
      "text/plain": [
       "[<matplotlib.lines.Line2D at 0x2639dd8c850>]"
      ]
     },
     "execution_count": 158,
     "metadata": {},
     "output_type": "execute_result"
    },
    {
     "data": {
      "image/png": "[encoded data removed]",
      "text/plain": [
       "<Figure size 640x480 with 1 Axes>"
      ]
     },
     "metadata": {},
     "output_type": "display_data"
    }
   ],
   "source": [
    "plt.plot(log_loss_i)"
   ]
  },
  {
   "cell_type": "code",
   "execution_count": 159,
   "id": "b9773022",
   "metadata": {},
   "outputs": [
    {
     "name": "stdout",
     "output_type": "stream",
     "text": [
      "train: 25.998157501220703\n",
      "dev: 26.06113624572754\n",
      "test: 26.01677894592285\n"
     ]
    }
   ],
   "source": [
    "# new code from Karpathy to track performance of dataset splits\n",
    "\n",
    "@torch.no_grad() # decorator to disable gradient tracking (and thereby increase efficiency)\n",
    "def split_loss(split):\n",
    "    X, Y = {\n",
    "        'train': (X_trn, Y_trn),\n",
    "        'dev': (X_dev, Y_dev),\n",
    "        'test': (X_tst, Y_tst)\n",
    "           }[split]\n",
    "    emb = C[X] # embed chars into vecs of size N x block_size x emb_dims\n",
    "    emb_concat = emb.view(emb.shape[0], -1) # concat vectors to N x (block_size x emb_dims)\n",
    "    h_preact = emb_concat @ W1 + b1 # hidden layer pre-activation, N x n_hidden\n",
    "    h = torch.tanh(h_preact) # hidden layer, N x vocab_size\n",
    "    logits = h @ W2 + b2 # output layer\n",
    "    loss = F.cross_entropy(logits, Y) # loss function\n",
    "    print(f'{split}: {loss.item()}')\n",
    "    \n",
    "split_loss('train')\n",
    "split_loss('dev')\n",
    "split_loss('test')"
   ]
  },
  {
   "cell_type": "code",
   "execution_count": 192,
   "id": "f1e4ec7b",
   "metadata": {},
   "outputs": [
    {
     "name": "stdout",
     "output_type": "stream",
     "text": [
      "aryanslee.\n",
      "jose.\n",
      "khirasha.\n",
      "bryn.\n",
      "atrevakiyah.\n",
      "haraide.\n",
      "tyrdang.\n",
      "dalle.\n",
      "damaryan.\n",
      "demaire.\n",
      "madylena.\n",
      "den.\n",
      "sus.\n",
      "bara.\n",
      "fine.\n",
      "affilalisy.\n",
      "livagda.\n",
      "addy.\n",
      "carden.\n",
      "wicarmargy.\n"
     ]
    }
   ],
   "source": [
    "# sample from the model\n",
    "g = torch.Generator().manual_seed(2147483647 + 2304)\n",
    "\n",
    "def name_generator(g, block_size, C, W1, b1, W2, b2, names):\n",
    "    for _ in range(names):\n",
    "        out = []\n",
    "        context = [0] * block_size\n",
    "        while True:\n",
    "            emb = C[torch.tensor([context])]  \n",
    "            h = torch.tanh(emb.view(1, -1) @ W1 + b1)\n",
    "            logits = h @ W2 + b2\n",
    "            probs = F.softmax(logits, dim = 1)\n",
    "            ix = torch.multinomial(probs, num_samples = 1, generator = g).item()\n",
    "            context = context[1:] + [ix]\n",
    "            out.append(ix)\n",
    "            if ix == 0:\n",
    "                break\n",
    "\n",
    "        print(''.join(i_to_s[i] for i in out))\n",
    "    \n",
    "name_generator(g, block_size, C, W1, b1, W2, b2, 20)"
   ]
  },
  {
   "cell_type": "code",
   "execution_count": 161,
   "id": "d4690a0b",
   "metadata": {},
   "outputs": [
    {
     "data": {
      "text/plain": [
       "tensor(3.2958)"
      ]
     },
     "execution_count": 161,
     "metadata": {},
     "output_type": "execute_result"
    }
   ],
   "source": [
    "# initial loss is way out (around 27)\n",
    "# neg log prob for 27 chars should be around 3.3\n",
    "-torch.tensor(1/27.0).log()"
   ]
  },
  {
   "cell_type": "code",
   "execution_count": 162,
   "id": "8781f236",
   "metadata": {},
   "outputs": [
    {
     "data": {
      "text/plain": [
       "(tensor([0., 0., 0., 0.]),\n",
       " tensor([0.2500, 0.2500, 0.2500, 0.2500]),\n",
       " tensor(1.3863))"
      ]
     },
     "execution_count": 162,
     "metadata": {},
     "output_type": "execute_result"
    }
   ],
   "source": [
    "# 4D example of issue\n",
    "logits = torch.tensor([0.0, 0.0, 0.0, 0.0])\n",
    "probs = torch.softmax(logits, dim = 0)\n",
    "loss = -probs[2].log() # just indexing in to probs (uniform dist) at random \n",
    "logits, probs, loss"
   ]
  },
  {
   "cell_type": "code",
   "execution_count": 163,
   "id": "81f5b1f1",
   "metadata": {},
   "outputs": [
    {
     "data": {
      "text/plain": [
       "(tensor([-16.9188,  -2.5004,   8.2928,   0.8533]),\n",
       " tensor([1.1232e-11, 2.0526e-05, 9.9939e-01, 5.8717e-04]),\n",
       " tensor(0.0006))"
      ]
     },
     "execution_count": 163,
     "metadata": {},
     "output_type": "execute_result"
    }
   ],
   "source": [
    "# BUT, if other values are extreme, we get high loss\n",
    "logits = torch.randn(4) * 10\n",
    "probs = torch.softmax(logits, dim = 0)\n",
    "loss = -probs[2].log() # just indexing in to probs (uniform dist) at random \n",
    "logits, probs, loss"
   ]
  },
  {
   "cell_type": "code",
   "execution_count": 106,
   "id": "c9a0d208",
   "metadata": {},
   "outputs": [
    {
     "name": "stdout",
     "output_type": "stream",
     "text": [
      "X shape: torch.Size([182443, 3]) \tX dtype: torch.int64 \tY shape: torch.Size([182443]) \tY dtype: torch.int64\n",
      "X shape: torch.Size([22930, 3]) \tX dtype: torch.int64 \tY shape: torch.Size([22930]) \tY dtype: torch.int64\n",
      "X shape: torch.Size([22774, 3]) \tX dtype: torch.int64 \tY shape: torch.Size([22774]) \tY dtype: torch.int64\n",
      "Iter: 0\tL_rate: 0.1\tLoss: 25.45935\tLoss MA10: 25.4593505859375\n"
     ]
    },
    {
     "data": {
      "text/plain": [
       "(tensor([[  3.9990,   1.6832,  -2.6482,  ...,  -3.6486,   7.9388,   4.2100],\n",
       "         [  0.2366,  -1.0298,   1.3311,  ...,  -2.6519,  -4.0272,   0.3195],\n",
       "         [ -4.9033,  -0.6593,  -3.0338,  ...,  -5.8473,  -3.6177,   4.9607],\n",
       "         ...,\n",
       "         [ -2.9766,  -0.2452,   1.7540,  ...,  -5.1640,   3.9082,  15.4719],\n",
       "         [  9.0678, -10.7850,  -5.1990,  ...,  -4.5949,  -6.5185,  -0.1172],\n",
       "         [ -1.4246,   0.8337, -13.5671,  ...,   5.9078,  -9.9604, -13.0128]],\n",
       "        grad_fn=<AddBackward0>),\n",
       " tensor([[ 0.9993,  0.9333, -0.9900,  ..., -0.9986,  1.0000,  0.9996],\n",
       "         [ 0.2323, -0.7738,  0.8695,  ..., -0.9901, -0.9994,  0.3091],\n",
       "         [-0.9999, -0.5779, -0.9954,  ..., -1.0000, -0.9986,  0.9999],\n",
       "         ...,\n",
       "         [-0.9948, -0.2404,  0.9418,  ..., -0.9999,  0.9992,  1.0000],\n",
       "         [ 1.0000, -1.0000, -0.9999,  ..., -0.9998, -1.0000, -0.1167],\n",
       "         [-0.8905,  0.6825, -1.0000,  ...,  1.0000, -1.0000, -1.0000]],\n",
       "        grad_fn=<TanhBackward0>),\n",
       " tensor([[-8.1919e+00,  1.3072e+00, -1.5044e+00,  1.2936e+01, -1.1354e+01,\n",
       "           7.0742e+00, -2.7000e-01, -5.4320e+00,  9.0870e+00, -4.1773e+00,\n",
       "          -1.2617e+01,  2.7419e+01, -9.5586e+00, -1.3412e+01,  3.5660e+00,\n",
       "           1.2214e+00, -2.6209e+01,  1.3807e+01, -1.1988e+01,  3.6287e+00,\n",
       "           7.5203e+00, -9.9429e+00,  1.8656e+01,  2.1307e+00,  1.2854e+00,\n",
       "           1.7127e+01, -2.8273e+01],\n",
       "         [ 3.5466e+00, -9.5610e+00,  9.5283e+00, -1.5347e+01,  1.2064e+01,\n",
       "           5.1639e+00, -2.3531e+00,  1.4248e+00, -1.5498e+01,  1.6184e+01,\n",
       "           1.7718e+01,  2.0437e+00,  1.6647e+01, -1.2413e+01, -3.5145e-01,\n",
       "           1.4734e+01, -7.7106e+00,  2.5350e+01,  1.6414e+01,  1.0546e+01,\n",
       "          -2.5747e+00,  1.1231e+01, -3.1340e+00,  1.7955e+01,  8.5605e+00,\n",
       "           2.8415e+00,  1.4902e+01],\n",
       "         [-2.3837e+01, -8.2580e-01, -2.0448e+01,  2.6348e+01, -5.0417e+00,\n",
       "          -1.9135e+00, -3.0129e+01,  7.9129e+00,  1.7310e+01,  1.6613e+01,\n",
       "           1.5428e+01, -2.5631e+00, -2.5670e+01, -1.3935e+00,  1.6309e+00,\n",
       "           8.2496e+00, -1.9352e+01, -1.6398e+01, -1.2052e+01,  1.4936e+01,\n",
       "           1.5543e+01,  1.9919e+01,  9.5522e+00,  7.6292e+00,  7.1376e+00,\n",
       "           9.9253e+00, -8.2413e+00],\n",
       "         [-5.1645e+00,  6.7292e+00, -7.7360e+00, -4.5367e+00,  7.3821e+00,\n",
       "          -7.2530e+00, -4.6595e-03,  1.4076e+01,  8.8377e+00, -2.7581e-02,\n",
       "           2.1454e+00, -1.7580e+01,  4.9403e+00, -5.1022e-01,  8.0447e+00,\n",
       "           1.7807e+01, -7.6275e+00, -2.9075e+00, -5.5254e+00, -4.4312e+00,\n",
       "           3.4334e+00,  2.8521e+01,  6.0535e+00, -2.9288e+01, -4.3446e+00,\n",
       "          -5.9654e+00, -7.6684e+00],\n",
       "         [-1.0346e+01, -4.2817e+00, -3.4824e+00,  2.1477e+01, -3.2505e+00,\n",
       "          -2.7275e+00, -3.0091e+01,  3.6049e+01,  2.3489e+01,  7.3472e+00,\n",
       "           1.4366e+01, -2.8260e+00, -1.0060e+01, -8.0291e+00, -2.2165e-01,\n",
       "           9.7013e+00, -8.0732e+00, -3.7411e-01, -1.5911e+01,  3.4977e+00,\n",
       "          -3.6297e+01, -2.7915e+00,  1.7539e+01,  2.2890e+00,  2.5670e+01,\n",
       "           8.3224e+00,  7.4942e+00],\n",
       "         [ 1.8246e+01, -2.2581e+00, -9.2381e+00, -5.7843e+00,  3.5887e+01,\n",
       "           3.9765e-01, -9.2382e-01,  8.1364e+00,  1.5370e+01,  2.2223e+01,\n",
       "           5.2973e+00, -7.7650e+00, -2.5763e+00, -1.0778e+01, -1.4520e+01,\n",
       "           8.5136e-01, -1.2203e+01, -1.0901e+01,  2.4153e-01,  1.1100e+00,\n",
       "          -7.3669e+00,  6.7830e+00,  1.9384e+01,  4.5330e+00, -6.2610e+00,\n",
       "           1.1020e+01,  1.0067e+01],\n",
       "         [ 7.5760e+00,  4.6654e+00, -1.7642e+01, -1.6528e+01,  1.0101e+01,\n",
       "           1.7370e+01, -5.4053e-01,  1.4011e+01, -1.1632e+00, -9.3849e+00,\n",
       "          -1.0213e+00,  8.9782e+00,  2.4062e+01,  1.0262e+01, -1.2080e+00,\n",
       "           1.6937e+01, -1.4416e+01,  8.4426e+00,  4.3396e-01,  9.2125e+00,\n",
       "          -1.0979e+00,  2.9614e+00,  2.9958e+00, -2.6014e+01,  1.4738e+01,\n",
       "          -1.8766e+01, -1.1631e+01],\n",
       "         [ 1.2412e+01, -7.6996e+00,  2.3776e+00,  6.5568e+00, -6.7900e+00,\n",
       "          -1.5600e+01, -2.1210e+01, -6.8933e-01,  1.3283e+01, -1.2542e+01,\n",
       "          -4.2807e+00,  2.5917e+01,  1.7245e+00, -1.9725e+01,  2.6588e+00,\n",
       "           7.7760e+00, -1.5661e+01,  1.4815e+01,  1.6635e+01, -9.3979e+00,\n",
       "          -6.0412e+00, -2.7174e+00, -1.9348e+00, -4.2945e+00, -9.4654e+00,\n",
       "          -5.1644e+00,  7.4092e-01],\n",
       "         [ 6.0356e+00, -8.4091e+00, -1.7966e+01,  3.8081e+00,  3.2430e+00,\n",
       "           1.6044e+01, -3.3821e+01, -5.4155e+00,  4.0333e+01, -6.7845e+00,\n",
       "          -1.1740e+01, -1.0954e+01, -8.5017e+00, -2.5522e+01,  1.3033e+01,\n",
       "          -3.0232e+01, -1.8662e+01, -1.4055e+01, -3.6529e+01,  7.5655e+00,\n",
       "          -7.5586e-01,  1.2671e+01,  2.7114e+01,  4.2305e+00, -1.6020e+00,\n",
       "          -7.2097e-01, -2.5021e+01],\n",
       "         [ 1.2412e+01, -7.6996e+00,  2.3776e+00,  6.5568e+00, -6.7900e+00,\n",
       "          -1.5600e+01, -2.1210e+01, -6.8933e-01,  1.3283e+01, -1.2542e+01,\n",
       "          -4.2807e+00,  2.5917e+01,  1.7245e+00, -1.9725e+01,  2.6588e+00,\n",
       "           7.7760e+00, -1.5661e+01,  1.4815e+01,  1.6635e+01, -9.3979e+00,\n",
       "          -6.0412e+00, -2.7174e+00, -1.9348e+00, -4.2945e+00, -9.4654e+00,\n",
       "          -5.1644e+00,  7.4092e-01],\n",
       "         [ 8.7700e+00, -4.2977e+00, -9.7363e+00, -3.4722e+00,  3.0802e+01,\n",
       "           4.4992e+00,  4.0050e+00,  1.0181e+01,  9.0576e+00,  3.2340e+01,\n",
       "           1.1215e+01, -2.0720e+01, -1.1698e+01,  1.3121e+01, -1.7733e+01,\n",
       "          -3.9365e-01, -1.1074e+01, -8.8379e-01,  5.9427e+00,  1.2621e+01,\n",
       "           2.1149e+01, -1.0351e+00, -2.2283e+00, -3.6514e+00,  3.9559e+00,\n",
       "           1.0026e+01, -4.4661e+00],\n",
       "         [-5.7424e+00,  1.3406e+01,  1.5527e+01,  1.5761e+01,  2.0455e+01,\n",
       "           2.9779e+00,  8.9216e+00,  1.9749e+01,  9.3163e+00,  2.5602e+01,\n",
       "           2.0755e+01,  4.4928e+00, -2.1372e+00, -1.6224e+00,  2.5575e+01,\n",
       "           3.2982e+01, -2.2002e+01,  7.5079e+00,  2.4658e+01, -1.4961e+01,\n",
       "          -7.5532e+00,  7.6945e+00,  8.8011e+00, -2.1356e+01,  9.2527e+00,\n",
       "           1.3064e+01,  9.8955e-01],\n",
       "         [-9.9983e+00, -1.0495e+01,  6.2605e+00,  2.5712e+01,  1.1258e+01,\n",
       "           3.4827e+00, -5.7682e+00,  1.5624e+01,  1.2120e+00,  1.3983e+01,\n",
       "           1.1749e+01,  1.3206e+01, -7.8026e+00, -7.6789e+00,  1.1215e+01,\n",
       "           1.5957e+01,  9.5707e-01, -7.3407e+00, -3.0551e+01, -2.0233e+01,\n",
       "           1.4757e+01,  1.0560e+01, -4.2886e+00, -2.0909e+01,  1.4338e+01,\n",
       "           8.0175e+00, -1.1795e+01],\n",
       "         [ 1.2412e+01, -7.6996e+00,  2.3776e+00,  6.5568e+00, -6.7900e+00,\n",
       "          -1.5600e+01, -2.1210e+01, -6.8933e-01,  1.3283e+01, -1.2542e+01,\n",
       "          -4.2807e+00,  2.5917e+01,  1.7245e+00, -1.9725e+01,  2.6588e+00,\n",
       "           7.7760e+00, -1.5661e+01,  1.4815e+01,  1.6635e+01, -9.3979e+00,\n",
       "          -6.0412e+00, -2.7174e+00, -1.9348e+00, -4.2945e+00, -9.4654e+00,\n",
       "          -5.1644e+00,  7.4092e-01],\n",
       "         [ 9.9006e+00,  3.6454e+00,  1.4150e+01,  1.5616e+01, -1.8631e+01,\n",
       "          -2.7809e+01,  3.0444e+00,  1.0669e+01,  5.9088e+00, -4.3011e+00,\n",
       "          -1.5614e+00,  2.1537e+01,  1.0519e+01, -5.6244e+00, -2.6654e+00,\n",
       "           1.0790e+01, -2.3328e+01,  1.1715e+01,  1.8418e+01, -4.6352e+00,\n",
       "          -1.1382e+01,  6.4947e+00, -3.9878e+00,  1.0822e+01,  8.5850e+00,\n",
       "           3.8053e+00, -1.1186e+01],\n",
       "         [-1.3468e+01, -3.1551e+00,  6.0202e-01, -2.7847e+01,  1.3106e+01,\n",
       "           2.4238e+01,  1.7089e+01,  1.5426e+01, -9.8661e+00,  1.6087e+01,\n",
       "           6.0832e+00,  1.1709e+01,  1.7931e+00, -8.3899e-01, -6.1037e+00,\n",
       "           8.7515e+00, -8.1401e+00, -4.6877e-01,  1.3416e+01,  3.2134e+00,\n",
       "          -2.3803e+00, -2.2005e+00, -1.4452e+01,  5.3114e-02, -7.0282e+00,\n",
       "           1.2077e+01,  8.0891e-01],\n",
       "         [ 2.2199e+01, -1.2082e+01,  8.5340e+00,  1.9098e+01, -2.4515e+01,\n",
       "          -6.9230e+00,  7.7476e+00, -8.2852e-01,  1.8378e+01, -2.5715e+00,\n",
       "          -1.5962e+01,  1.1078e+01, -5.4837e+00, -8.7123e+00, -6.7835e-01,\n",
       "          -3.4195e+00, -2.4478e+01,  1.0592e+01,  1.5671e+01,  7.5434e+00,\n",
       "          -4.6729e+00, -2.7260e+01,  2.4298e+00, -1.4366e+00,  9.2190e+00,\n",
       "          -5.7573e+00, -2.4979e+01],\n",
       "         [ 9.0432e+00, -1.0242e+01, -2.6077e+01, -5.4946e+00, -4.5230e+00,\n",
       "           2.5664e+01, -3.6844e+01,  1.0930e+01,  2.8562e+01,  1.8334e+00,\n",
       "          -1.9984e+01,  1.1009e+01, -1.1047e+01, -9.3318e+00,  2.5119e+01,\n",
       "          -1.0204e+01, -2.1307e+01, -1.0012e+00, -1.0902e+01, -1.4777e+01,\n",
       "          -1.3868e+01,  6.8484e+00,  7.4052e+00,  4.2075e+00, -5.3498e+00,\n",
       "           2.3247e+01, -3.3123e+00],\n",
       "         [-1.9406e+01,  1.9323e+01,  5.0458e+00,  1.0732e+01,  1.4963e+01,\n",
       "           1.6039e+01, -7.0404e+00, -5.8728e+00, -2.5209e+00,  7.8388e+00,\n",
       "           3.0181e+01,  4.9102e+00, -1.1077e+01, -2.5098e+01, -4.7781e+00,\n",
       "           2.2658e+01, -1.1207e+01, -3.0143e+00, -6.2023e+00, -4.3796e+00,\n",
       "           8.2214e+00,  1.7208e+01,  6.2456e+00,  5.1690e+00, -3.5194e+00,\n",
       "           2.2742e+01,  5.9483e+00],\n",
       "         [-5.8970e+00, -1.7491e+01,  4.5387e+00, -6.6802e+00,  4.0273e+01,\n",
       "           1.0671e+01,  8.4011e+00,  5.7761e+00, -2.9967e+01,  1.1836e+01,\n",
       "           2.5298e+01, -2.3735e+00,  1.1790e+01, -1.5923e+01,  1.0775e+00,\n",
       "           2.0171e+01, -1.6809e-01,  1.2714e+01,  1.4954e+01,  1.6775e+01,\n",
       "           1.0969e+01,  1.7378e+01,  9.9860e-01, -7.0146e-01,  6.9242e+00,\n",
       "          -1.4444e-01,  2.9019e+00],\n",
       "         [-4.3732e+00, -5.8660e+00,  9.4711e+00, -2.0094e+01,  2.9571e+01,\n",
       "           3.1185e+01, -8.1505e+00, -3.7998e+00, -2.5665e+01,  1.9525e+01,\n",
       "           2.2591e+01, -5.6861e+00,  2.0875e+01, -1.3203e+01,  1.6688e+00,\n",
       "           1.7503e+01, -7.1161e+00,  2.6545e+01,  1.3199e+01,  1.4996e+01,\n",
       "           2.8984e+00,  2.0063e+01, -4.9505e+00,  9.4957e+00, -1.3951e+01,\n",
       "           6.7658e+00,  9.0410e+00],\n",
       "         [-2.3678e+00, -1.1608e+01, -4.3955e+00,  1.1962e+01,  3.8331e+01,\n",
       "           4.9306e+00, -2.2217e+00,  1.9001e+01, -7.6730e+00,  2.4198e+01,\n",
       "           1.5390e+01, -8.9836e+00, -4.5440e+00,  5.3076e+00, -8.5698e+00,\n",
       "           1.2453e+01,  7.7832e+00, -9.4473e+00,  2.0485e+01,  1.9593e+01,\n",
       "           8.5794e+00,  1.0045e+01,  1.7465e+01,  8.4819e+00,  2.1686e+01,\n",
       "           2.5935e+00, -2.3366e+00],\n",
       "         [ 6.6225e+00, -1.3047e+01,  5.1043e+00, -4.2674e+00, -2.5801e+00,\n",
       "           6.6628e+00, -6.4446e+00,  4.7230e+00,  8.8789e+00,  1.7182e+01,\n",
       "           3.6761e+00,  6.1131e+00, -2.4969e+00,  1.5491e+01, -6.3081e+00,\n",
       "           1.4616e+01, -1.6699e+01, -1.2709e+01,  1.7251e+01,  1.9585e+01,\n",
       "          -2.6808e+00,  3.6834e+00, -1.2213e+01,  2.9118e+00,  1.3631e+01,\n",
       "           1.0590e+01, -4.0220e+00],\n",
       "         [ 2.2124e+00,  7.5281e+00, -7.5302e+00,  3.1725e+01,  1.5401e+01,\n",
       "          -3.3239e+00, -2.2049e+00,  1.3287e+01,  1.3774e+01,  3.0413e+00,\n",
       "          -9.2951e+00,  1.4700e+01,  1.3121e+01, -7.3145e+00,  2.0073e+01,\n",
       "           5.0826e+00, -7.4552e+00, -1.6822e+00, -1.7156e+00,  8.8122e+00,\n",
       "           2.5040e+00,  1.0107e+01,  1.6301e+01,  1.1202e+01,  3.0525e+01,\n",
       "           2.1177e+01, -5.3994e+00],\n",
       "         [-5.8264e+00,  7.6799e+00, -1.2690e+01,  1.2230e+01,  1.1258e+00,\n",
       "          -5.5777e+00, -6.1911e+00,  2.4756e+01,  9.8481e-02, -4.1953e+00,\n",
       "          -8.2289e+00, -2.7438e+00,  1.4581e+01, -1.5330e+00, -7.6698e+00,\n",
       "           1.3751e+01,  4.3554e-01, -1.4441e+00,  7.3142e+00,  1.6938e+01,\n",
       "          -3.3595e+00, -7.3219e+00,  1.1264e+01,  1.0796e+01,  3.5578e+01,\n",
       "          -1.8073e+01, -5.4120e+00],\n",
       "         [-1.5701e+01,  1.1869e+01, -4.1808e+00, -5.8955e+00,  3.1441e+01,\n",
       "           4.8601e+00,  1.2187e+00,  1.2636e+01,  1.5204e+01,  1.6905e+01,\n",
       "           8.6962e+00, -1.1563e+01, -1.3073e+00, -1.1829e+01,  3.5246e+00,\n",
       "           9.2894e+00, -1.0933e+01, -6.3856e+00, -2.6394e+00, -1.5659e+01,\n",
       "           2.5607e+00,  2.6590e+01, -3.6098e+00, -1.3500e+01,  6.2387e+00,\n",
       "          -3.1228e+00, -2.6498e+00],\n",
       "         [-6.9200e+00, -1.3175e+01, -3.2218e+01,  4.5961e+00,  8.9498e+00,\n",
       "           1.6249e+01, -2.9179e+01,  1.7278e+00,  1.7816e+01,  1.0142e+01,\n",
       "          -1.2329e+01,  1.2311e+01,  4.4095e+00,  2.9285e+00,  3.3689e-01,\n",
       "          -1.8434e+01, -6.6132e+00, -1.1481e+01, -3.2104e+00, -3.0583e+00,\n",
       "           7.8988e+00, -2.7446e+00,  1.8377e+01, -4.5423e-01,  1.1401e+01,\n",
       "          -1.0494e+00, -2.1243e+01],\n",
       "         [ 1.2800e+01, -6.2093e+00, -3.2128e+00,  1.0226e+01, -8.9697e+00,\n",
       "          -9.9485e+00, -4.5759e+00, -9.2036e-01, -5.4076e+00,  5.1654e+00,\n",
       "          -1.7806e+01,  2.2162e+01, -1.3940e+01,  2.5928e-01,  2.0855e+00,\n",
       "           1.3458e+01, -1.1898e+01,  1.9599e+01,  2.3591e+01, -1.0932e+01,\n",
       "          -1.0417e+00,  9.6508e+00, -2.3014e+01, -3.5356e+00,  3.2412e+00,\n",
       "           1.0962e+01, -1.1832e+01],\n",
       "         [ 1.2388e+01,  5.6873e+00,  4.3000e-02, -9.0229e-01,  1.3050e+01,\n",
       "           2.2777e+01,  1.5282e+01,  5.9327e+00, -3.2757e+00,  6.3178e-01,\n",
       "          -2.5338e+01,  2.2977e+01,  9.0686e+00,  3.7302e+00,  3.4998e+00,\n",
       "           2.5408e+00, -6.9880e+00,  1.0231e+01, -7.9032e+00, -2.6004e-01,\n",
       "           1.6688e+01,  6.1015e+00,  1.6985e+01, -3.5788e+00,  3.1145e+00,\n",
       "           1.0550e+01, -2.8836e+01],\n",
       "         [ 5.8915e+00,  5.6136e+00,  1.4868e+01,  1.6708e+01, -2.0141e+01,\n",
       "          -1.7137e+01, -7.8763e+00,  1.9347e+00, -1.4322e-01,  2.1964e+00,\n",
       "          -3.5279e+00,  1.1456e+01, -2.9099e+00, -8.0407e+00, -1.0863e+01,\n",
       "           2.3054e+01, -3.2422e+00,  8.2813e+00,  5.6836e+00, -1.7316e+01,\n",
       "          -7.8719e+00, -3.9225e+00, -3.8233e+00, -9.3299e+00, -1.1880e+01,\n",
       "           5.5344e+00,  1.5929e+00],\n",
       "         [ 1.5692e+01, -5.9758e+00,  2.7479e+00,  2.8654e+00,  3.2228e+01,\n",
       "          -2.7155e+00,  2.2287e+01,  1.5130e+00,  7.0279e+00,  2.7918e+01,\n",
       "           5.6799e+00, -1.7749e+01, -2.2621e+01,  1.4409e+01, -2.2871e+01,\n",
       "           6.3998e-01, -7.7172e+00,  5.0193e+00,  2.0852e+01,  1.4543e+00,\n",
       "           2.7241e+01, -6.2366e+00, -2.1086e-01, -1.2954e+01, -2.5591e+00,\n",
       "           2.6281e+01, -2.2897e+00],\n",
       "         [ 8.3167e+00, -1.4539e+00, -6.4779e+00,  1.4074e+00,  2.2153e+01,\n",
       "           1.0851e+01,  1.3159e+01,  1.0309e+01,  1.6527e+01,  7.3524e+00,\n",
       "           1.6643e+01, -1.5469e+01,  2.4935e+01, -1.7616e+01,  2.1004e+01,\n",
       "          -1.4166e+01, -6.7802e+00,  7.5038e+00, -1.0521e+01, -9.7900e+00,\n",
       "           7.6177e-01,  3.2401e+00,  1.1964e+01, -6.5921e+00, -1.6737e+01,\n",
       "           1.4902e+01, -1.2093e+00]], grad_fn=<AddBackward0>),\n",
       " tensor(25.4594, grad_fn=<NllLossBackward0>))"
      ]
     },
     "execution_count": 106,
     "metadata": {},
     "output_type": "execute_result"
    }
   ],
   "source": [
    "# re-initialise and train, outputting loss from just first iteration\n",
    "random.seed(42)\n",
    "random.shuffle(words)\n",
    "n1 = int(0.8*len(words))\n",
    "n2 = int(0.9*len(words))\n",
    "\n",
    "X_trn, Y_trn = build_dataset(words[:n1], block_size)\n",
    "X_dev, Y_dev = build_dataset(words[n1:n2], block_size)\n",
    "X_tst, Y_tst = build_dataset(words[n2:], block_size)\n",
    "\n",
    "g = torch.Generator().manual_seed(2147483647)\n",
    "C = torch.randn((vocab_size, emb_dims), generator = g) \n",
    "W1 = torch.randn((n_weights, n_hidden), generator = g)\n",
    "b1 = torch.randn(n_hidden, generator = g) \n",
    "W2 = torch.randn((n_hidden, vocab_size), generator = g) \n",
    "b2 = torch.randn(vocab_size, generator = g) \n",
    "\n",
    "# get param count\n",
    "parameters = [C, W1, b1, W2, b2]\n",
    "\n",
    "for p in parameters:\n",
    "    p.requires_grad = True \n",
    "    \n",
    "step_i = []\n",
    "loss_i = []\n",
    "log_loss_i = []\n",
    "\n",
    "train(1, X_trn, Y_trn, batch_size, C, l_rate, parameters, step_i, loss_i, log_loss_i)"
   ]
  },
  {
   "cell_type": "code",
   "execution_count": 110,
   "id": "f7f0635c",
   "metadata": {},
   "outputs": [
    {
     "name": "stdout",
     "output_type": "stream",
     "text": [
      "X shape: torch.Size([182548, 3]) \tX dtype: torch.int64 \tY shape: torch.Size([182548]) \tY dtype: torch.int64\n",
      "X shape: torch.Size([22751, 3]) \tX dtype: torch.int64 \tY shape: torch.Size([22751]) \tY dtype: torch.int64\n",
      "X shape: torch.Size([22848, 3]) \tX dtype: torch.int64 \tY shape: torch.Size([22848]) \tY dtype: torch.int64\n",
      "Iter: 0\tL_rate: 0.1\tLoss: 4.22263\tLoss MA10: 4.222630023956299\n",
      "Iter: 2500\tL_rate: 0.09753\tLoss: 2.65605\tLoss MA10: 2.455080032348633\n",
      "Iter: 5000\tL_rate: 0.09512\tLoss: 2.20936\tLoss MA10: 2.3960399627685547\n",
      "Iter: 7500\tL_rate: 0.09277\tLoss: 2.33444\tLoss MA10: 2.2918701171875\n",
      "Iter: 10000\tL_rate: 0.09048\tLoss: 2.48675\tLoss MA10: 2.3535499572753906\n"
     ]
    }
   ],
   "source": [
    "# re-initialise and do full training run with adjusted W2 and B2\n",
    "# NB - this time we set the HPs so that the logits are more uniform at first run and loss is less extreme\n",
    "\n",
    "random.seed(42)\n",
    "random.shuffle(words)\n",
    "n1 = int(0.8*len(words))\n",
    "n2 = int(0.9*len(words))\n",
    "\n",
    "X_trn, Y_trn = build_dataset(words[:n1], block_size)\n",
    "X_dev, Y_dev = build_dataset(words[n1:n2], block_size)\n",
    "X_tst, Y_tst = build_dataset(words[n2:], block_size)\n",
    "\n",
    "g = torch.Generator().manual_seed(2147483647)\n",
    "C = torch.randn((vocab_size, emb_dims), \tgenerator = g) \n",
    "W1 = torch.randn((n_weights, n_hidden), \tgenerator = g)\n",
    "b1 = torch.randn(n_hidden, \t\t\t\t\tgenerator = g) \n",
    "# NB - DO NOT set W2 to zeroes (K asserts at this point in vid, does not yet explain)\n",
    "W2 = torch.randn((n_hidden, vocab_size), \tgenerator = g) * 0.1 # scalar applied to logits to reduce values on initial run\n",
    "b2 = torch.randn(vocab_size, \t\t\t\tgenerator = g) * 0 # set bias on logits to zero for initial run\n",
    "\n",
    "# get param count\n",
    "parameters = [C, W1, b1, W2, b2]\n",
    "\n",
    "for p in parameters:\n",
    "    p.requires_grad = True \n",
    "    \n",
    "step_i = []\n",
    "loss_i = []\n",
    "log_loss_i = []\n",
    "\n",
    "h_preact, h, logits, loss = train(10001, X_trn, Y_trn, batch_size, C, l_rate, parameters, step_i, loss_i, log_loss_i)"
   ]
  },
  {
   "cell_type": "code",
   "execution_count": 86,
   "id": "fb8e24fe",
   "metadata": {},
   "outputs": [
    {
     "data": {
      "text/plain": [
       "[<matplotlib.lines.Line2D at 0x26449530a90>]"
      ]
     },
     "execution_count": 86,
     "metadata": {},
     "output_type": "execute_result"
    },
    {
     "data": {
      "image/png": "[encoded data removed]",
      "text/plain": [
       "<Figure size 640x480 with 1 Axes>"
      ]
     },
     "metadata": {},
     "output_type": "display_data"
    }
   ],
   "source": [
    "# NB no hockey stick shape on plot as initial loss was adjusted\n",
    "plt.plot(log_loss_i)"
   ]
  },
  {
   "cell_type": "code",
   "execution_count": 164,
   "id": "a913ac8b",
   "metadata": {},
   "outputs": [
    {
     "name": "stdout",
     "output_type": "stream",
     "text": [
      "train: 25.998157501220703\n",
      "dev: 26.06113624572754\n",
      "test: 26.01677894592285\n"
     ]
    }
   ],
   "source": [
    "# losses actually similar to earlier, no noticeable improvement (K gets a modest improvement)\n",
    "split_loss('train')\n",
    "split_loss('dev')\n",
    "split_loss('test')"
   ]
  },
  {
   "cell_type": "code",
   "execution_count": 165,
   "id": "9f4a5b62",
   "metadata": {},
   "outputs": [
    {
     "data": {
      "text/plain": [
       "tensor([[-0.9975,  1.0000, -1.0000,  0.9378,  0.9993,  0.9998, -0.9891, -0.6072,\n",
       "          1.0000,  1.0000,  0.0251, -1.0000,  1.0000,  1.0000, -1.0000,  0.8585,\n",
       "          1.0000, -0.9967,  0.9999, -0.9891, -0.5467, -0.9991, -1.0000, -0.9995,\n",
       "         -1.0000, -0.4058,  1.0000, -0.9998,  1.0000,  0.9999,  0.9971,  0.9936,\n",
       "         -1.0000, -1.0000,  1.0000,  1.0000, -0.6321,  0.9765,  0.9968,  0.9985,\n",
       "         -1.0000,  1.0000,  1.0000,  1.0000, -1.0000,  0.8615, -1.0000,  1.0000,\n",
       "          0.9990, -0.9546, -0.9869,  0.9675, -0.9944,  0.9962,  0.8092,  0.7738,\n",
       "          1.0000,  0.9987,  1.0000,  0.9999,  0.9990,  1.0000, -0.9975,  0.9990,\n",
       "         -0.1540,  1.0000,  1.0000,  1.0000,  0.9990,  1.0000,  1.0000, -0.9511,\n",
       "         -0.9429, -0.9225,  1.0000, -0.9996,  1.0000, -0.0188,  0.9993,  0.9999,\n",
       "          1.0000,  0.9995, -0.9876, -1.0000, -0.9825, -0.2593,  0.9019, -0.9992,\n",
       "          0.9972,  1.0000,  0.5762, -0.6866,  0.9809, -1.0000,  0.0606,  1.0000,\n",
       "         -0.7844, -1.0000, -0.5168, -0.9991,  0.9286,  0.9816,  1.0000, -0.9970,\n",
       "          0.9979,  1.0000,  0.9969,  1.0000,  1.0000, -0.7878,  0.9999, -1.0000,\n",
       "         -0.9997,  0.9988, -0.9994, -0.9805, -1.0000, -0.6495, -1.0000, -1.0000,\n",
       "         -0.8724, -0.7408,  0.9989,  0.3313, -0.9954, -0.9999, -0.9990,  1.0000,\n",
       "          0.9917, -0.9541, -0.9951, -0.8491, -1.0000,  0.8959,  0.3143,  1.0000,\n",
       "          0.9735, -0.9958, -0.6827,  1.0000, -0.9508, -1.0000, -1.0000,  0.9999,\n",
       "         -0.9934,  1.0000, -1.0000,  1.0000,  1.0000, -1.0000, -1.0000, -0.8281,\n",
       "          0.4239,  1.0000,  1.0000,  1.0000, -0.7191,  0.9781, -0.6568,  1.0000,\n",
       "          0.9949,  0.6765, -1.0000, -0.9569,  0.9995,  0.9999,  0.3431,  0.9985,\n",
       "         -0.9646, -1.0000,  1.0000, -0.3702, -0.9998,  0.9782, -1.0000,  0.9543,\n",
       "         -0.3981, -0.7894,  0.9997,  1.0000, -1.0000,  0.9830, -1.0000, -0.9998,\n",
       "          0.9999, -0.9754, -0.0144, -1.0000, -1.0000,  1.0000, -0.9999, -0.9956,\n",
       "         -0.9961, -1.0000, -0.9723,  0.9972,  1.0000,  1.0000, -1.0000, -0.9661]],\n",
       "       grad_fn=<TanhBackward0>)"
      ]
     },
     "execution_count": 165,
     "metadata": {},
     "output_type": "execute_result"
    }
   ],
   "source": [
    "# next problem! \n",
    "# quick visualisation of h, lots of 1.0 and -1.0\n",
    "h"
   ]
  },
  {
   "cell_type": "code",
   "execution_count": 166,
   "id": "6c2daac1",
   "metadata": {},
   "outputs": [
    {
     "data": {
      "image/png": "[encoded data removed]",
      "text/plain": [
       "<Figure size 640x480 with 1 Axes>"
      ]
     },
     "metadata": {},
     "output_type": "display_data"
    }
   ],
   "source": [
    "plt.hist(h.view(-1).tolist(), 50); # -1 puts this into one long 1D vector, tolist just converts to a py list of floats"
   ]
  },
  {
   "cell_type": "code",
   "execution_count": 167,
   "id": "0b17259c",
   "metadata": {},
   "outputs": [
    {
     "data": {
      "image/png": "[encoded data removed]",
      "text/plain": [
       "<Figure size 640x480 with 1 Axes>"
      ]
     },
     "metadata": {},
     "output_type": "display_data"
    }
   ],
   "source": [
    "# why so many at the extremes? why tanh so active???\n",
    "# range of h_preact is broad, and compressing all of these into a range of -1, 1 is capping and resulting in those extremes\n",
    "plt.hist(h_preact.view(-1).tolist(), 50);"
   ]
  },
  {
   "cell_type": "code",
   "execution_count": 168,
   "id": "bdd419b4",
   "metadata": {},
   "outputs": [
    {
     "data": {
      "text/plain": [
       "<matplotlib.image.AxesImage at 0x2639df203a0>"
      ]
     },
     "execution_count": 168,
     "metadata": {},
     "output_type": "execute_result"
    },
    {
     "data": {
      "image/png": "[encoded data removed]",
      "text/plain": [
       "<Figure size 2000x1000 with 1 Axes>"
      ]
     },
     "metadata": {},
     "output_type": "display_data"
    }
   ],
   "source": [
    "# what's happening if we have loads of 1s?\n",
    "# how is back-propagation through tanh defined in micrograd (and presumably pytorch)?\n",
    "# it gets the tanh t of x\n",
    "# then during backward pass, takes out.grad and multiplies it with the local gradient, 1-t**2\n",
    "# if tanh is very close to 1 or -1, then 1-t**2 = 0, and the gradient is, therefore, killed\n",
    "\n",
    "# how do we start to visualise a solution\n",
    "plt.figure(figsize = (20,10))\n",
    "plt.imshow(h.abs() > 0.99, cmap = 'gray', interpolation = 'nearest') # how often is (abs of h) above 0.99?\n",
    "\n",
    "# every white cell is preventing the gradient from flowing backward\n",
    "# a white column would represent a completely inert, or 'dead', neuron, which always fires 0 or 1 and can not learn"
   ]
  },
  {
   "cell_type": "code",
   "execution_count": 169,
   "id": "b90805a0",
   "metadata": {},
   "outputs": [],
   "source": [
    "# sigmoid\n",
    "# tanh\n",
    "# ReLU\n",
    "# maxout\n",
    "# ELU\n",
    "# all have this issue, as they all have flat parts\n",
    "\n",
    "# leaky ReLU\n",
    "# PreLU (?)\n",
    "# is an example of an activation function which avoids this issue\n",
    "# by applying a small linear function to <0 values"
   ]
  },
  {
   "cell_type": "code",
   "execution_count": 174,
   "id": "fe877fee",
   "metadata": {},
   "outputs": [
    {
     "name": "stdout",
     "output_type": "stream",
     "text": [
      "X shape: torch.Size([182638, 3]) \tX dtype: torch.int64 \tY shape: torch.Size([182638]) \tY dtype: torch.int64\n",
      "X shape: torch.Size([22723, 3]) \tX dtype: torch.int64 \tY shape: torch.Size([22723]) \tY dtype: torch.int64\n",
      "X shape: torch.Size([22786, 3]) \tX dtype: torch.int64 \tY shape: torch.Size([22786]) \tY dtype: torch.int64\n",
      "11897\n"
     ]
    }
   ],
   "source": [
    "# re-initialise and do full training run with adjusted W1 and b1\n",
    "# NB - this time we set the HPs so that the logits are more uniform at first run and loss is less extreme\n",
    "\n",
    "random.seed(42)\n",
    "random.shuffle(words)\n",
    "n1 = int(0.8*len(words))\n",
    "n2 = int(0.9*len(words))\n",
    "\n",
    "X_trn, Y_trn = build_dataset(words[:n1], block_size)\n",
    "X_dev, Y_dev = build_dataset(words[n1:n2], block_size)\n",
    "X_tst, Y_tst = build_dataset(words[n2:], block_size)\n",
    "\n",
    "g = torch.Generator().manual_seed(2147483647)\n",
    "C = torch.randn((vocab_size, emb_dims), \tgenerator = g) \n",
    "W1 = torch.randn((n_weights, n_hidden), \tgenerator = g) * 0.1\n",
    "b1 = torch.randn(n_hidden, \t\t\t\t\tgenerator = g) * 0.01\n",
    "# NB - DO NOT set W2 to zeroes (K asserts at this point in vid, does not yet explain)\n",
    "W2 = torch.randn((n_hidden, vocab_size), \tgenerator = g) * 0.01 # scalar applied to logits to reduce values on initial run\n",
    "b2 = torch.randn(vocab_size, \t\t\t\tgenerator = g) * 0 # set bias on logits to zero for initial run\n",
    "\n",
    "# get param count\n",
    "parameters = [C, W1, b1, W2, b2]\n",
    "\n",
    "for p in parameters:\n",
    "    p.requires_grad = True \n",
    "    \n",
    "step_i = []\n",
    "loss_i = []\n",
    "log_loss_i = []\n",
    "\n",
    "print(sum(p.nelement() for p in parameters))"
   ]
  },
  {
   "cell_type": "code",
   "execution_count": 175,
   "id": "86595e11",
   "metadata": {
    "scrolled": true
   },
   "outputs": [
    {
     "name": "stdout",
     "output_type": "stream",
     "text": [
      "Iter: 0\tL_rate: 0.1\tLoss: 3.29652\tLoss MA10: 3.2965199947357178\n",
      "Iter: 2500\tL_rate: 0.1\tLoss: 2.1778\tLoss MA10: 2.366489887237549\n",
      "Iter: 5000\tL_rate: 0.1\tLoss: 2.03874\tLoss MA10: 2.3362998962402344\n",
      "Iter: 7500\tL_rate: 0.1\tLoss: 2.4197\tLoss MA10: 2.3517301082611084\n",
      "Iter: 10000\tL_rate: 0.1\tLoss: 2.40619\tLoss MA10: 2.2939701080322266\n",
      "Iter: 12500\tL_rate: 0.1\tLoss: 2.08721\tLoss MA10: 2.1269400119781494\n",
      "Iter: 15000\tL_rate: 0.1\tLoss: 2.03273\tLoss MA10: 2.2816500663757324\n",
      "Iter: 17500\tL_rate: 0.1\tLoss: 2.10439\tLoss MA10: 2.14057993888855\n",
      "Iter: 20000\tL_rate: 0.1\tLoss: 2.03538\tLoss MA10: 2.2383298873901367\n",
      "Iter: 22500\tL_rate: 0.1\tLoss: 2.37764\tLoss MA10: 2.107609987258911\n",
      "Iter: 25000\tL_rate: 0.1\tLoss: 2.03751\tLoss MA10: 2.184890031814575\n",
      "Iter: 27500\tL_rate: 0.1\tLoss: 2.75283\tLoss MA10: 2.298190116882324\n",
      "Iter: 30000\tL_rate: 0.1\tLoss: 1.78846\tLoss MA10: 2.075850009918213\n",
      "Iter: 32500\tL_rate: 0.1\tLoss: 2.39122\tLoss MA10: 2.1601500511169434\n",
      "Iter: 35000\tL_rate: 0.1\tLoss: 2.02089\tLoss MA10: 2.086750030517578\n",
      "Iter: 37500\tL_rate: 0.1\tLoss: 2.12549\tLoss MA10: 2.223789930343628\n",
      "Iter: 40000\tL_rate: 0.1\tLoss: 1.88595\tLoss MA10: 2.211329936981201\n",
      "Iter: 42500\tL_rate: 0.1\tLoss: 2.38747\tLoss MA10: 2.272700071334839\n",
      "Iter: 45000\tL_rate: 0.1\tLoss: 1.96057\tLoss MA10: 2.1489500999450684\n",
      "Iter: 47500\tL_rate: 0.1\tLoss: 1.87989\tLoss MA10: 2.076849937438965\n",
      "Iter: 50000\tL_rate: 0.1\tLoss: 2.57555\tLoss MA10: 2.258729934692383\n",
      "Iter: 52500\tL_rate: 0.1\tLoss: 2.10233\tLoss MA10: 2.190239906311035\n",
      "Iter: 55000\tL_rate: 0.1\tLoss: 2.09757\tLoss MA10: 2.061889886856079\n",
      "Iter: 57500\tL_rate: 0.1\tLoss: 2.09396\tLoss MA10: 2.123389959335327\n",
      "Iter: 60000\tL_rate: 0.1\tLoss: 2.11699\tLoss MA10: 2.1289899349212646\n",
      "Iter: 62500\tL_rate: 0.1\tLoss: 2.41133\tLoss MA10: 2.0851399898529053\n",
      "Iter: 65000\tL_rate: 0.1\tLoss: 2.31068\tLoss MA10: 2.1770401000976562\n",
      "Iter: 67500\tL_rate: 0.1\tLoss: 1.97614\tLoss MA10: 2.0444300174713135\n",
      "Iter: 70000\tL_rate: 0.1\tLoss: 2.47297\tLoss MA10: 2.1179800033569336\n",
      "Iter: 72500\tL_rate: 0.1\tLoss: 2.27812\tLoss MA10: 2.0006399154663086\n",
      "Iter: 75000\tL_rate: 0.1\tLoss: 1.53003\tLoss MA10: 2.124579906463623\n",
      "Iter: 77500\tL_rate: 0.1\tLoss: 2.18499\tLoss MA10: 2.198430061340332\n",
      "Iter: 80000\tL_rate: 0.1\tLoss: 2.48916\tLoss MA10: 2.2182300090789795\n",
      "Iter: 82500\tL_rate: 0.1\tLoss: 2.14049\tLoss MA10: 2.1693100929260254\n",
      "Iter: 85000\tL_rate: 0.1\tLoss: 2.24091\tLoss MA10: 2.1625900268554688\n",
      "Iter: 87500\tL_rate: 0.1\tLoss: 2.11652\tLoss MA10: 2.1852200031280518\n",
      "Iter: 90000\tL_rate: 0.1\tLoss: 2.03847\tLoss MA10: 2.1433401107788086\n",
      "Iter: 92500\tL_rate: 0.1\tLoss: 1.8179\tLoss MA10: 2.1405200958251953\n",
      "Iter: 95000\tL_rate: 0.1\tLoss: 2.36651\tLoss MA10: 2.1717100143432617\n",
      "Iter: 97500\tL_rate: 0.1\tLoss: 2.59577\tLoss MA10: 2.1714398860931396\n",
      "Iter: 100000\tL_rate: 0.01\tLoss: 2.31417\tLoss MA10: 2.1782000064849854\n"
     ]
    }
   ],
   "source": [
    "train_runs = 100001\n",
    "h_preact, h, logits, loss = train(train_runs, X_trn, Y_trn, batch_size, C, l_rate, parameters, step_i, loss_i, log_loss_i)"
   ]
  },
  {
   "cell_type": "code",
   "execution_count": 178,
   "id": "bbcb61a9",
   "metadata": {},
   "outputs": [
    {
     "data": {
      "image/png": "[encoded data removed]",
      "text/plain": [
       "<Figure size 640x480 with 1 Axes>"
      ]
     },
     "metadata": {},
     "output_type": "display_data"
    }
   ],
   "source": [
    "# run visualisations again\n",
    "# bit puzzled that I'm still getting very visible capping. may have missed something in Karpathy's code\n",
    "plt.hist(h.view(-1).tolist(), 50); # -1 puts this into one long 1D vector, tolist just converts to a py list of floats"
   ]
  },
  {
   "cell_type": "code",
   "execution_count": 179,
   "id": "4f74a22a",
   "metadata": {},
   "outputs": [
    {
     "data": {
      "image/png": "[encoded data removed]",
      "text/plain": [
       "<Figure size 640x480 with 1 Axes>"
      ]
     },
     "metadata": {},
     "output_type": "display_data"
    }
   ],
   "source": [
    "plt.hist(h_preact.view(-1).tolist(), 50);"
   ]
  },
  {
   "cell_type": "code",
   "execution_count": 180,
   "id": "c2372274",
   "metadata": {},
   "outputs": [
    {
     "data": {
      "text/plain": [
       "<matplotlib.image.AxesImage at 0x2639df2b280>"
      ]
     },
     "execution_count": 180,
     "metadata": {},
     "output_type": "execute_result"
    },
    {
     "data": {
      "image/png": "[encoded data removed]",
      "text/plain": [
       "<Figure size 2000x1000 with 1 Axes>"
      ]
     },
     "metadata": {},
     "output_type": "display_data"
    }
   ],
   "source": [
    "plt.figure(figsize = (20,10))\n",
    "plt.imshow(h.abs() > 0.99, cmap = 'gray', interpolation = 'nearest') # how often is (abs of h) above 0.99?"
   ]
  },
  {
   "cell_type": "code",
   "execution_count": 194,
   "id": "629a9a86",
   "metadata": {},
   "outputs": [
    {
     "name": "stdout",
     "output_type": "stream",
     "text": [
      "train: 2.1401333808898926\n",
      "dev: 2.188962936401367\n",
      "test: 2.1953110694885254\n"
     ]
    }
   ],
   "source": [
    "# actually worse than earlier. something must have gone wrong\n",
    "\n",
    "split_loss('train')\n",
    "split_loss('dev')\n",
    "split_loss('test')"
   ]
  },
  {
   "cell_type": "code",
   "execution_count": 199,
   "id": "e34050da",
   "metadata": {},
   "outputs": [
    {
     "name": "stdout",
     "output_type": "stream",
     "text": [
      "aryanslee.\n",
      "jose.\n",
      "khirasha.\n",
      "bryn.\n",
      "atrevakiyah.\n",
      "haraide.\n",
      "tyrdang.\n",
      "dalle.\n",
      "damaryan.\n",
      "demaire.\n",
      "madylena.\n",
      "den.\n",
      "sus.\n",
      "bara.\n",
      "fine.\n"
     ]
    }
   ],
   "source": [
    "g = torch.Generator().manual_seed(2147483647 + 2304)\n",
    "\n",
    "name_generator(g, block_size, C, W1, b1, W2, b2, 15)"
   ]
  },
  {
   "cell_type": "code",
   "execution_count": 203,
   "id": "699678a2",
   "metadata": {},
   "outputs": [
    {
     "name": "stdout",
     "output_type": "stream",
     "text": [
      "tensor(0.0082) tensor(0.9968)\n",
      "tensor(-0.0017) tensor(3.0863)\n"
     ]
    },
    {
     "data": {
      "image/png": "[encoded data removed]",
      "text/plain": [
       "<Figure size 2000x500 with 2 Axes>"
      ]
     },
     "metadata": {},
     "output_type": "display_data"
    }
   ],
   "source": [
    "# discussion regarding intialisation/HPs etc\n",
    "\n",
    "# an example:\n",
    "x = torch.randn(1000, 10) # random inputs from gaussian with 1000 10D examples\n",
    "w = torch.randn(10, 200) # weights also drawn from gaussian, hidden layer with 200 neurons\n",
    "y = x @ w # neuron pre-activations\n",
    "print(x.mean(), x.std())\n",
    "print(y.mean(), y.std())\n",
    "plt.figure(figsize = (20,5))\n",
    "plt.subplot(121)\n",
    "plt.hist(list(x.view(-1)), 50, density = True);\n",
    "plt.subplot(122)\n",
    "plt.hist(list(y.view(-1)), 50, density = True);\n",
    "\n",
    "# NB mean remains around 0, s.d. has grown from 1 to around 3"
   ]
  },
  {
   "cell_type": "code",
   "execution_count": 205,
   "id": "e7e280b3",
   "metadata": {},
   "outputs": [
    {
     "name": "stdout",
     "output_type": "stream",
     "text": [
      "tensor(-0.0071) tensor(0.9843)\n",
      "tensor(0.0009) tensor(1.0013)\n"
     ]
    },
    {
     "data": {
      "image/png": "[encoded data removed]",
      "text/plain": [
       "<Figure size 2000x500 with 2 Axes>"
      ]
     },
     "metadata": {},
     "output_type": "display_data"
    }
   ],
   "source": [
    "# question is: how do we scale weights to preserve normality in gaussian?\n",
    "\n",
    "# an example:\n",
    "x = torch.randn(1000, 10) # \n",
    "w = torch.randn(10, 200) / 10**0.5 # A: divide W by sqrt of \"fan in\" (if I heard Karpathy correctly) - it's the first argument\n",
    "y = x @ w \n",
    "print(x.mean(), x.std())\n",
    "print(y.mean(), y.std())\n",
    "plt.figure(figsize = (20,5))\n",
    "plt.subplot(121)\n",
    "plt.hist(list(x.view(-1)), 50, density = True);\n",
    "plt.subplot(122)\n",
    "plt.hist(list(y.view(-1)), 50, density = True);\n",
    "\n",
    "# NB mean remains around 0, s.d. has grown from 1 to around 3"
   ]
  },
  {
   "cell_type": "code",
   "execution_count": 206,
   "id": "79e22c09",
   "metadata": {},
   "outputs": [],
   "source": [
    "# further discussion about normalisation from paper by kaiming he\n",
    "# includes necessity of applying gain (5/3 for tanh) etc\n",
    "# modern innovations touched on which make this setup less finicky\n",
    "# - residual connections\n",
    "# - normalisation layers: batch normalisation, layer normalisation etc\n",
    "# - better optimisation: RMS prop, Adam\n",
    "# in practice sqrt of fan in works well "
   ]
  },
  {
   "cell_type": "code",
   "execution_count": 208,
   "id": "8258a9d7",
   "metadata": {},
   "outputs": [
    {
     "data": {
      "text/plain": [
       "0.3042903097250923"
      ]
     },
     "execution_count": 208,
     "metadata": {},
     "output_type": "execute_result"
    }
   ],
   "source": [
    "# in our case, we want the s.d. of our W1 weights to be (5/3) / sqrt(n_weights)\n",
    "kaiming_init = (5/3) / (n_weights**0.5)\n",
    "kaiming_init"
   ]
  },
  {
   "cell_type": "code",
   "execution_count": 211,
   "id": "c8a5165c",
   "metadata": {},
   "outputs": [
    {
     "name": "stdout",
     "output_type": "stream",
     "text": [
      "X shape: torch.Size([182590, 3]) \tX dtype: torch.int64 \tY shape: torch.Size([182590]) \tY dtype: torch.int64\n",
      "X shape: torch.Size([22806, 3]) \tX dtype: torch.int64 \tY shape: torch.Size([22806]) \tY dtype: torch.int64\n",
      "X shape: torch.Size([22751, 3]) \tX dtype: torch.int64 \tY shape: torch.Size([22751]) \tY dtype: torch.int64\n",
      "11897\n"
     ]
    }
   ],
   "source": [
    "# re-initialise with kaiming init\n",
    "\n",
    "kaiming_init = (5/3) / (n_weights**0.5)\n",
    "kaiming_init\n",
    "\n",
    "random.seed(42)\n",
    "random.shuffle(words)\n",
    "n1 = int(0.8*len(words))\n",
    "n2 = int(0.9*len(words))\n",
    "\n",
    "X_trn, Y_trn = build_dataset(words[:n1], block_size)\n",
    "X_dev, Y_dev = build_dataset(words[n1:n2], block_size)\n",
    "X_tst, Y_tst = build_dataset(words[n2:], block_size)\n",
    "\n",
    "g = torch.Generator().manual_seed(2147483647)\n",
    "C = torch.randn((vocab_size, emb_dims), \tgenerator = g) \n",
    "W1 = torch.randn((n_weights, n_hidden), \tgenerator = g) * kaiming_init\n",
    "b1 = torch.randn(n_hidden, \t\t\t\t\tgenerator = g) * 0.01\n",
    "# NB - DO NOT set W2 to zeroes (K asserts at this point in vid, does not yet explain)\n",
    "W2 = torch.randn((n_hidden, vocab_size), \tgenerator = g) * 0.01 # scalar applied to logits to reduce values on initial run\n",
    "b2 = torch.randn(vocab_size, \t\t\t\tgenerator = g) * 0 # set bias on logits to zero for initial run\n",
    "\n",
    "# get param count\n",
    "parameters = [C, W1, b1, W2, b2]\n",
    "\n",
    "for p in parameters:\n",
    "    p.requires_grad = True \n",
    "    \n",
    "step_i = []\n",
    "loss_i = []\n",
    "log_loss_i = []\n",
    "\n",
    "print(sum(p.nelement() for p in parameters))"
   ]
  },
  {
   "cell_type": "code",
   "execution_count": 216,
   "id": "66514072",
   "metadata": {},
   "outputs": [
    {
     "name": "stdout",
     "output_type": "stream",
     "text": [
      "Iter: 0\tL_rate: 0.1\tLoss: 1.8467\tLoss MA10: 2.0376999378204346\n",
      "Iter: 2500\tL_rate: 0.1\tLoss: 2.00002\tLoss MA10: 2.0969998836517334\n",
      "Iter: 5000\tL_rate: 0.1\tLoss: 2.22787\tLoss MA10: 2.1818900108337402\n",
      "Iter: 7500\tL_rate: 0.1\tLoss: 2.05433\tLoss MA10: 2.117039918899536\n",
      "Iter: 10000\tL_rate: 0.1\tLoss: 2.08405\tLoss MA10: 2.240999937057495\n",
      "Iter: 12500\tL_rate: 0.1\tLoss: 2.10752\tLoss MA10: 2.1807799339294434\n",
      "Iter: 15000\tL_rate: 0.1\tLoss: 1.91214\tLoss MA10: 2.293639898300171\n",
      "Iter: 17500\tL_rate: 0.1\tLoss: 2.43829\tLoss MA10: 2.139080047607422\n",
      "Iter: 20000\tL_rate: 0.1\tLoss: 1.91089\tLoss MA10: 2.2081799507141113\n",
      "Iter: 22500\tL_rate: 0.1\tLoss: 2.10804\tLoss MA10: 2.172729969024658\n",
      "Iter: 25000\tL_rate: 0.1\tLoss: 2.16429\tLoss MA10: 2.047149896621704\n",
      "Iter: 27500\tL_rate: 0.1\tLoss: 2.16846\tLoss MA10: 2.094909906387329\n",
      "Iter: 30000\tL_rate: 0.1\tLoss: 1.89971\tLoss MA10: 2.0974600315093994\n",
      "Iter: 32500\tL_rate: 0.1\tLoss: 2.14383\tLoss MA10: 2.162130117416382\n",
      "Iter: 35000\tL_rate: 0.1\tLoss: 2.47916\tLoss MA10: 2.13700008392334\n",
      "Iter: 37500\tL_rate: 0.1\tLoss: 2.03227\tLoss MA10: 2.1628899574279785\n",
      "Iter: 40000\tL_rate: 0.1\tLoss: 2.19873\tLoss MA10: 2.041680097579956\n",
      "Iter: 42500\tL_rate: 0.1\tLoss: 2.14792\tLoss MA10: 2.1249001026153564\n",
      "Iter: 45000\tL_rate: 0.1\tLoss: 2.24779\tLoss MA10: 2.157560110092163\n",
      "Iter: 47500\tL_rate: 0.1\tLoss: 2.55729\tLoss MA10: 2.1103200912475586\n",
      "Iter: 50000\tL_rate: 0.1\tLoss: 2.46399\tLoss MA10: 2.132110118865967\n",
      "Iter: 52500\tL_rate: 0.1\tLoss: 2.21213\tLoss MA10: 1.991919994354248\n",
      "Iter: 55000\tL_rate: 0.1\tLoss: 1.85376\tLoss MA10: 2.0610899925231934\n",
      "Iter: 57500\tL_rate: 0.1\tLoss: 2.47333\tLoss MA10: 2.2399001121520996\n",
      "Iter: 60000\tL_rate: 0.1\tLoss: 1.92176\tLoss MA10: 1.9800399541854858\n",
      "Iter: 62500\tL_rate: 0.1\tLoss: 2.27722\tLoss MA10: 2.155600070953369\n",
      "Iter: 65000\tL_rate: 0.1\tLoss: 1.65486\tLoss MA10: 2.0237300395965576\n",
      "Iter: 67500\tL_rate: 0.1\tLoss: 2.17945\tLoss MA10: 2.2208199501037598\n",
      "Iter: 70000\tL_rate: 0.1\tLoss: 2.23307\tLoss MA10: 2.01104998588562\n",
      "Iter: 72500\tL_rate: 0.1\tLoss: 2.22895\tLoss MA10: 2.1101601123809814\n",
      "Iter: 75000\tL_rate: 0.1\tLoss: 2.06446\tLoss MA10: 2.108289957046509\n",
      "Iter: 77500\tL_rate: 0.1\tLoss: 2.25229\tLoss MA10: 2.1527099609375\n",
      "Iter: 80000\tL_rate: 0.1\tLoss: 2.21716\tLoss MA10: 2.207119941711426\n",
      "Iter: 82500\tL_rate: 0.1\tLoss: 1.84465\tLoss MA10: 2.093940019607544\n",
      "Iter: 85000\tL_rate: 0.1\tLoss: 2.32418\tLoss MA10: 2.190999984741211\n",
      "Iter: 87500\tL_rate: 0.1\tLoss: 2.06086\tLoss MA10: 2.1254000663757324\n",
      "Iter: 90000\tL_rate: 0.1\tLoss: 2.23574\tLoss MA10: 2.1578500270843506\n",
      "Iter: 92500\tL_rate: 0.1\tLoss: 2.42206\tLoss MA10: 2.1021499633789062\n",
      "Iter: 95000\tL_rate: 0.1\tLoss: 2.18933\tLoss MA10: 2.1420700550079346\n",
      "Iter: 97500\tL_rate: 0.1\tLoss: 2.17503\tLoss MA10: 2.013040065765381\n",
      "Iter: 100000\tL_rate: 0.01\tLoss: 1.86109\tLoss MA10: 2.0822501182556152\n",
      "Iter: 102500\tL_rate: 0.01\tLoss: 2.01092\tLoss MA10: 2.0293800830841064\n",
      "Iter: 105000\tL_rate: 0.01\tLoss: 2.05558\tLoss MA10: 1.9498900175094604\n",
      "Iter: 107500\tL_rate: 0.01\tLoss: 1.58918\tLoss MA10: 1.9557900428771973\n",
      "Iter: 110000\tL_rate: 0.01\tLoss: 2.21376\tLoss MA10: 1.9847700595855713\n",
      "Iter: 112500\tL_rate: 0.01\tLoss: 1.68115\tLoss MA10: 2.099030017852783\n",
      "Iter: 115000\tL_rate: 0.01\tLoss: 2.15216\tLoss MA10: 2.1629300117492676\n",
      "Iter: 117500\tL_rate: 0.01\tLoss: 2.10719\tLoss MA10: 2.0125300884246826\n",
      "Iter: 120000\tL_rate: 0.01\tLoss: 2.05664\tLoss MA10: 2.0780999660491943\n",
      "Iter: 122500\tL_rate: 0.01\tLoss: 1.98009\tLoss MA10: 2.0006000995635986\n",
      "Iter: 125000\tL_rate: 0.01\tLoss: 1.76695\tLoss MA10: 1.9313100576400757\n",
      "Iter: 127500\tL_rate: 0.01\tLoss: 2.01761\tLoss MA10: 2.069700002670288\n",
      "Iter: 130000\tL_rate: 0.01\tLoss: 1.94025\tLoss MA10: 2.0633299350738525\n",
      "Iter: 132500\tL_rate: 0.01\tLoss: 1.83107\tLoss MA10: 1.952049970626831\n",
      "Iter: 135000\tL_rate: 0.01\tLoss: 2.03518\tLoss MA10: 2.016010046005249\n",
      "Iter: 137500\tL_rate: 0.01\tLoss: 2.19009\tLoss MA10: 1.969040036201477\n",
      "Iter: 140000\tL_rate: 0.01\tLoss: 2.3506\tLoss MA10: 2.0894899368286133\n",
      "Iter: 142500\tL_rate: 0.01\tLoss: 1.97285\tLoss MA10: 2.036220073699951\n",
      "Iter: 145000\tL_rate: 0.01\tLoss: 1.74382\tLoss MA10: 2.0885798931121826\n",
      "Iter: 147500\tL_rate: 0.01\tLoss: 2.06236\tLoss MA10: 2.1461400985717773\n",
      "Iter: 150000\tL_rate: 0.01\tLoss: 1.92674\tLoss MA10: 2.049220085144043\n",
      "Iter: 152500\tL_rate: 0.01\tLoss: 1.86515\tLoss MA10: 2.0709900856018066\n",
      "Iter: 155000\tL_rate: 0.01\tLoss: 2.23316\tLoss MA10: 2.049259901046753\n",
      "Iter: 157500\tL_rate: 0.01\tLoss: 2.02158\tLoss MA10: 2.09306001663208\n",
      "Iter: 160000\tL_rate: 0.01\tLoss: 1.6571\tLoss MA10: 1.9914100170135498\n",
      "Iter: 162500\tL_rate: 0.01\tLoss: 2.16867\tLoss MA10: 2.092449903488159\n",
      "Iter: 165000\tL_rate: 0.01\tLoss: 1.86351\tLoss MA10: 1.9242099523544312\n",
      "Iter: 167500\tL_rate: 0.01\tLoss: 1.9229\tLoss MA10: 2.092099905014038\n",
      "Iter: 170000\tL_rate: 0.01\tLoss: 1.95851\tLoss MA10: 2.077209949493408\n",
      "Iter: 172500\tL_rate: 0.01\tLoss: 1.87903\tLoss MA10: 1.958899974822998\n",
      "Iter: 175000\tL_rate: 0.01\tLoss: 1.6256\tLoss MA10: 1.9486099481582642\n",
      "Iter: 177500\tL_rate: 0.01\tLoss: 2.59484\tLoss MA10: 2.0300800800323486\n",
      "Iter: 180000\tL_rate: 0.01\tLoss: 2.04321\tLoss MA10: 2.083559989929199\n",
      "Iter: 182500\tL_rate: 0.01\tLoss: 2.22434\tLoss MA10: 1.9409500360488892\n",
      "Iter: 185000\tL_rate: 0.01\tLoss: 2.25004\tLoss MA10: 2.103440046310425\n",
      "Iter: 187500\tL_rate: 0.01\tLoss: 2.26203\tLoss MA10: 2.0116500854492188\n",
      "Iter: 190000\tL_rate: 0.01\tLoss: 1.75174\tLoss MA10: 2.0415499210357666\n",
      "Iter: 192500\tL_rate: 0.01\tLoss: 2.11098\tLoss MA10: 2.0043399333953857\n",
      "Iter: 195000\tL_rate: 0.01\tLoss: 2.15521\tLoss MA10: 1.990689992904663\n",
      "Iter: 197500\tL_rate: 0.01\tLoss: 1.86939\tLoss MA10: 2.0048999786376953\n",
      "Iter: 200000\tL_rate: 0.01\tLoss: 2.45082\tLoss MA10: 2.0672199726104736\n"
     ]
    }
   ],
   "source": [
    "train_runs = 200001\n",
    "h_preact, h, logits, loss = train(train_runs, X_trn, Y_trn, batch_size, C, l_rate, parameters, step_i, loss_i, log_loss_i)"
   ]
  },
  {
   "cell_type": "code",
   "execution_count": 213,
   "id": "3d5bee3e",
   "metadata": {},
   "outputs": [
    {
     "name": "stdout",
     "output_type": "stream",
     "text": [
      "train: 2.0368690490722656\n",
      "dev: 2.1003506183624268\n",
      "test: 2.110562324523926\n"
     ]
    }
   ],
   "source": [
    "# finally, much better\n",
    "split_loss('train')\n",
    "split_loss('dev')\n",
    "split_loss('test')"
   ]
  },
  {
   "cell_type": "code",
   "execution_count": 230,
   "id": "8674b709",
   "metadata": {},
   "outputs": [],
   "source": [
    "# ------------------------\n",
    "# batch normalisation\n",
    "# made it possible to train very deep neural nets reliably\n",
    "# from Ioffe and Szegedy\n",
    "# ------------------------\n",
    "\n",
    "# we don't want preact states to be too small (won't do anything) or too large (saturate tanh)\n",
    "# ideal at initialisation -> normal, gaussian"
   ]
  },
  {
   "cell_type": "code",
   "execution_count": 231,
   "id": "7d087bcb",
   "metadata": {},
   "outputs": [
    {
     "data": {
      "text/plain": [
       "(tensor([[-1.0248,  3.7226, -0.5052,  ...,  1.7268, -0.2217,  1.2378],\n",
       "         [ 2.4971, -2.8880, -2.8637,  ..., -4.1002,  3.0905,  2.3670],\n",
       "         [-3.2002, -0.4750, -4.1081,  ...,  0.4834, -3.0254,  0.2498],\n",
       "         ...,\n",
       "         [ 4.4159, -1.5296,  2.1295,  ..., -3.0423, -0.8812,  2.2278],\n",
       "         [ 0.6989,  5.2103, -3.2516,  ..., -3.1468, -1.9912,  4.6122],\n",
       "         [ 0.7548, -1.1622, -7.4497,  ..., -2.0478, -3.9895,  1.9736]],\n",
       "        grad_fn=<AddBackward0>),\n",
       " torch.Size([32, 200]),\n",
       " torch.Size([1, 200]),\n",
       " torch.Size([1, 200]))"
      ]
     },
     "execution_count": 231,
     "metadata": {},
     "output_type": "execute_result"
    }
   ],
   "source": [
    "# examine h_preact\n",
    "h_preact, h_preact.shape, h_preact.mean(0, keepdims = True).shape, h_preact.std(0, keepdims = True).shape"
   ]
  },
  {
   "cell_type": "code",
   "execution_count": 241,
   "id": "ff646e6a",
   "metadata": {},
   "outputs": [
    {
     "name": "stdout",
     "output_type": "stream",
     "text": [
      "X shape: torch.Size([182577, 3]) \tX dtype: torch.int64 \tY shape: torch.Size([182577]) \tY dtype: torch.int64\n",
      "X shape: torch.Size([22803, 3]) \tX dtype: torch.int64 \tY shape: torch.Size([22803]) \tY dtype: torch.int64\n",
      "X shape: torch.Size([22767, 3]) \tX dtype: torch.int64 \tY shape: torch.Size([22767]) \tY dtype: torch.int64\n",
      "No. parameters: 12297\n"
     ]
    }
   ],
   "source": [
    "# re-initialise - again - with batch normalisation gain \n",
    "# adding bn_gain and bn_bias below\n",
    "# AND add them to parameters so that they are trained during optimisation\n",
    "\n",
    "kaiming_init = (5/3) / (n_weights**0.5)\n",
    "kaiming_init\n",
    "\n",
    "random.seed(42)\n",
    "random.shuffle(words)\n",
    "n1 = int(0.8*len(words))\n",
    "n2 = int(0.9*len(words))\n",
    "\n",
    "X_trn, Y_trn = build_dataset(words[:n1], block_size)\n",
    "X_dev, Y_dev = build_dataset(words[n1:n2], block_size)\n",
    "X_tst, Y_tst = build_dataset(words[n2:], block_size)\n",
    "\n",
    "g = torch.Generator().manual_seed(2147483647)\n",
    "C = torch.randn((vocab_size, emb_dims), \tgenerator = g) \n",
    "W1 = torch.randn((n_weights, n_hidden), \tgenerator = g) * kaiming_init\n",
    "b1 = torch.randn(n_hidden, \t\t\t\t\tgenerator = g) * 0.01\n",
    "# NB - DO NOT set W2 to zeroes (K asserts at this point in vid, does not yet explain)\n",
    "W2 = torch.randn((n_hidden, vocab_size), \tgenerator = g) * 0.01 # scalar applied to logits to reduce values on initial run\n",
    "b2 = torch.randn(vocab_size, \t\t\t\tgenerator = g) * 0 # set bias on logits to zero for initial run\n",
    "\n",
    "bn_gain = torch.ones((1, n_hidden))\n",
    "bn_bias = torch.zeros((1, n_hidden))\n",
    "\n",
    "# get param count\n",
    "parameters = [C, W1, b1, W2, b2, bn_gain, bn_bias]\n",
    "\n",
    "for p in parameters:\n",
    "    p.requires_grad = True \n",
    "    \n",
    "step_i = []\n",
    "loss_i = []\n",
    "log_loss_i = []\n",
    "\n",
    "print(f'No. parameters: {sum(p.nelement() for p in parameters)}')"
   ]
  },
  {
   "cell_type": "code",
   "execution_count": 242,
   "id": "26c6e34f",
   "metadata": {},
   "outputs": [],
   "source": [
    "# re-define train to make h_preact gaussian at initialisation\n",
    "# AND to add gain and bias\n",
    "# NB we add gain and bias because... we don't want h_preact to be persistently gaussian, just at initialisation\n",
    "\n",
    "def train(train_runs, X_trn, Y_trn, batch_size, C, l_rate, parameters, step_i, loss_i, log_loss_i, bn_gain, bn_bias):\n",
    "    for _ in range (train_runs):\n",
    "        ix = torch.randint(0, X_trn.shape[0], (batch_size,), generator = g)\n",
    "        Xb, Yb = X_trn[ix], Y_trn[ix]\n",
    "        # forward pass\n",
    "\n",
    "        # NB small formatting updates after Karpathy\n",
    "\n",
    "        emb = C[Xb] # embed chars into vecs of size N x block_size x emb_dims (can't work out exactly what N is for the moment)\n",
    "        emb_concat = emb.view(emb.shape[0], -1) # concat vectors to N x (block_size x emb_dims)\n",
    "        h_preact = emb_concat @ W1 + b1 # hidden layer pre-activation, N x n_hidden\n",
    "        \n",
    "        # ---------------\n",
    "        \n",
    "        # subtract the mean and divide by std to normalise (all of this is differentiable)\n",
    "        h_p_mean = h_preact.mean(0, keepdims = True)\n",
    "        h_p_std = h_preact.std(0, keepdims = True)\n",
    "        h_preact = (h_preact - h_p_mean) / h_p_std \n",
    "        # add gain and bias - these can be changed during backprop\n",
    "        h_preact = h_preact * bn_gain + bn_bias\n",
    "        \n",
    "        # ---------------\n",
    "        \n",
    "        h = torch.tanh(h_preact) # hidden layer, N x vocab_size\n",
    "        logits = h @ W2 + b2 # output layer\n",
    "        loss = F.cross_entropy(logits, Yb) # loss function\n",
    "\n",
    "        # backward pass\n",
    "        for p in parameters:\n",
    "            p.grad = None \n",
    "        loss.backward() \n",
    "\n",
    "        # update\n",
    "        # l_rate = l_rate_init * (decay_factor ** _) # different from Karpathy's, below\n",
    "        l_rate = 0.1 if _ < 100000 else 0.01 # K's\n",
    "\n",
    "        for p in parameters:\n",
    "            p.data += -l_rate * p.grad\n",
    "\n",
    "        step_i.append(_)\n",
    "        loss_i.append(loss) \n",
    "        log_loss_i.append(loss.log10().item()) \n",
    "\n",
    "        if _ % 2500 == 0:\n",
    "            print(f'Iter: {_}\\t'\n",
    "                  f'L_rate: {round(l_rate, 5)}\\t'\n",
    "                  f'Loss: {round(loss.item(), 5)}\\t'\n",
    "                  f'Loss MA10: {round(np.mean([l.detach().numpy() for l in loss_i[-10:]]), 5)}')\n",
    "        \n",
    "    return h_preact, h, logits, loss"
   ]
  },
  {
   "cell_type": "code",
   "execution_count": 243,
   "id": "5dad0458",
   "metadata": {},
   "outputs": [
    {
     "name": "stdout",
     "output_type": "stream",
     "text": [
      "Iter: 0\tL_rate: 0.1\tLoss: 3.30997\tLoss MA10: 3.309969902038574\n",
      "Iter: 2500\tL_rate: 0.1\tLoss: 2.7423\tLoss MA10: 2.506930112838745\n",
      "Iter: 5000\tL_rate: 0.1\tLoss: 2.17712\tLoss MA10: 2.284899950027466\n",
      "Iter: 7500\tL_rate: 0.1\tLoss: 2.35932\tLoss MA10: 2.2379000186920166\n",
      "Iter: 10000\tL_rate: 0.1\tLoss: 2.61971\tLoss MA10: 2.4098000526428223\n",
      "Iter: 12500\tL_rate: 0.1\tLoss: 2.39188\tLoss MA10: 2.2365899085998535\n",
      "Iter: 15000\tL_rate: 0.1\tLoss: 2.13434\tLoss MA10: 2.2159199714660645\n",
      "Iter: 17500\tL_rate: 0.1\tLoss: 2.26993\tLoss MA10: 2.387929916381836\n",
      "Iter: 20000\tL_rate: 0.1\tLoss: 2.1539\tLoss MA10: 2.2680399417877197\n",
      "Iter: 22500\tL_rate: 0.1\tLoss: 1.96967\tLoss MA10: 2.223220109939575\n",
      "Iter: 25000\tL_rate: 0.1\tLoss: 2.06848\tLoss MA10: 2.235949993133545\n",
      "Iter: 27500\tL_rate: 0.1\tLoss: 2.04385\tLoss MA10: 2.069459915161133\n",
      "Iter: 30000\tL_rate: 0.1\tLoss: 1.97255\tLoss MA10: 2.1332199573516846\n",
      "Iter: 32500\tL_rate: 0.1\tLoss: 2.18742\tLoss MA10: 2.3545401096343994\n",
      "Iter: 35000\tL_rate: 0.1\tLoss: 2.1484\tLoss MA10: 2.251810073852539\n",
      "Iter: 37500\tL_rate: 0.1\tLoss: 2.16405\tLoss MA10: 2.2202000617980957\n",
      "Iter: 40000\tL_rate: 0.1\tLoss: 2.07544\tLoss MA10: 2.1599700450897217\n",
      "Iter: 42500\tL_rate: 0.1\tLoss: 2.27808\tLoss MA10: 2.2566399574279785\n",
      "Iter: 45000\tL_rate: 0.1\tLoss: 2.11865\tLoss MA10: 2.186889886856079\n",
      "Iter: 47500\tL_rate: 0.1\tLoss: 1.91047\tLoss MA10: 2.1079299449920654\n",
      "Iter: 50000\tL_rate: 0.1\tLoss: 2.37763\tLoss MA10: 2.140389919281006\n",
      "Iter: 52500\tL_rate: 0.1\tLoss: 2.29036\tLoss MA10: 2.08870005607605\n",
      "Iter: 55000\tL_rate: 0.1\tLoss: 2.41759\tLoss MA10: 2.2029600143432617\n",
      "Iter: 57500\tL_rate: 0.1\tLoss: 1.89761\tLoss MA10: 2.129960060119629\n",
      "Iter: 60000\tL_rate: 0.1\tLoss: 2.37726\tLoss MA10: 2.1575000286102295\n",
      "Iter: 62500\tL_rate: 0.1\tLoss: 1.98611\tLoss MA10: 2.2671101093292236\n",
      "Iter: 65000\tL_rate: 0.1\tLoss: 2.13133\tLoss MA10: 2.0930399894714355\n",
      "Iter: 67500\tL_rate: 0.1\tLoss: 1.94907\tLoss MA10: 2.2274599075317383\n",
      "Iter: 70000\tL_rate: 0.1\tLoss: 2.46763\tLoss MA10: 2.136620044708252\n",
      "Iter: 72500\tL_rate: 0.1\tLoss: 2.16476\tLoss MA10: 2.204469919204712\n",
      "Iter: 75000\tL_rate: 0.1\tLoss: 2.37135\tLoss MA10: 2.2118399143218994\n",
      "Iter: 77500\tL_rate: 0.1\tLoss: 2.11571\tLoss MA10: 2.1138598918914795\n",
      "Iter: 80000\tL_rate: 0.1\tLoss: 2.00609\tLoss MA10: 2.214210033416748\n",
      "Iter: 82500\tL_rate: 0.1\tLoss: 2.26285\tLoss MA10: 2.232909917831421\n",
      "Iter: 85000\tL_rate: 0.1\tLoss: 2.00465\tLoss MA10: 2.2135300636291504\n",
      "Iter: 87500\tL_rate: 0.1\tLoss: 2.131\tLoss MA10: 2.1176400184631348\n",
      "Iter: 90000\tL_rate: 0.1\tLoss: 2.20469\tLoss MA10: 2.1635398864746094\n",
      "Iter: 92500\tL_rate: 0.1\tLoss: 2.16477\tLoss MA10: 2.3082098960876465\n",
      "Iter: 95000\tL_rate: 0.1\tLoss: 1.90534\tLoss MA10: 2.0777699947357178\n",
      "Iter: 97500\tL_rate: 0.1\tLoss: 2.26204\tLoss MA10: 2.186460018157959\n",
      "Iter: 100000\tL_rate: 0.01\tLoss: 2.38599\tLoss MA10: 2.181489944458008\n",
      "Iter: 102500\tL_rate: 0.01\tLoss: 1.86917\tLoss MA10: 2.0639500617980957\n",
      "Iter: 105000\tL_rate: 0.01\tLoss: 1.98842\tLoss MA10: 1.9823399782180786\n",
      "Iter: 107500\tL_rate: 0.01\tLoss: 2.2482\tLoss MA10: 2.1619300842285156\n",
      "Iter: 110000\tL_rate: 0.01\tLoss: 2.5362\tLoss MA10: 2.129420042037964\n",
      "Iter: 112500\tL_rate: 0.01\tLoss: 2.06934\tLoss MA10: 2.076550006866455\n",
      "Iter: 115000\tL_rate: 0.01\tLoss: 2.14269\tLoss MA10: 2.1155500411987305\n",
      "Iter: 117500\tL_rate: 0.01\tLoss: 1.99445\tLoss MA10: 2.1064200401306152\n",
      "Iter: 120000\tL_rate: 0.01\tLoss: 1.95844\tLoss MA10: 2.1048800945281982\n",
      "Iter: 122500\tL_rate: 0.01\tLoss: 2.08377\tLoss MA10: 2.06466007232666\n",
      "Iter: 125000\tL_rate: 0.01\tLoss: 1.66447\tLoss MA10: 1.9967299699783325\n",
      "Iter: 127500\tL_rate: 0.01\tLoss: 2.27362\tLoss MA10: 2.089709997177124\n",
      "Iter: 130000\tL_rate: 0.01\tLoss: 2.32217\tLoss MA10: 2.200000047683716\n",
      "Iter: 132500\tL_rate: 0.01\tLoss: 1.87801\tLoss MA10: 2.0459799766540527\n",
      "Iter: 135000\tL_rate: 0.01\tLoss: 2.19937\tLoss MA10: 2.1021499633789062\n",
      "Iter: 137500\tL_rate: 0.01\tLoss: 2.34712\tLoss MA10: 2.1946001052856445\n",
      "Iter: 140000\tL_rate: 0.01\tLoss: 2.13691\tLoss MA10: 2.015399932861328\n",
      "Iter: 142500\tL_rate: 0.01\tLoss: 2.08872\tLoss MA10: 2.053299903869629\n",
      "Iter: 145000\tL_rate: 0.01\tLoss: 2.10103\tLoss MA10: 2.0386500358581543\n",
      "Iter: 147500\tL_rate: 0.01\tLoss: 2.12482\tLoss MA10: 2.1819300651550293\n",
      "Iter: 150000\tL_rate: 0.01\tLoss: 2.20426\tLoss MA10: 2.1197099685668945\n",
      "Iter: 152500\tL_rate: 0.01\tLoss: 1.8765\tLoss MA10: 2.0769500732421875\n",
      "Iter: 155000\tL_rate: 0.01\tLoss: 2.22851\tLoss MA10: 2.081399917602539\n",
      "Iter: 157500\tL_rate: 0.01\tLoss: 1.82869\tLoss MA10: 2.095629930496216\n",
      "Iter: 160000\tL_rate: 0.01\tLoss: 2.36003\tLoss MA10: 2.1501901149749756\n",
      "Iter: 162500\tL_rate: 0.01\tLoss: 1.92644\tLoss MA10: 2.0821399688720703\n",
      "Iter: 165000\tL_rate: 0.01\tLoss: 2.01152\tLoss MA10: 2.088520050048828\n",
      "Iter: 167500\tL_rate: 0.01\tLoss: 1.95772\tLoss MA10: 2.035209894180298\n",
      "Iter: 170000\tL_rate: 0.01\tLoss: 2.11597\tLoss MA10: 2.120690107345581\n",
      "Iter: 172500\tL_rate: 0.01\tLoss: 1.7435\tLoss MA10: 2.0463600158691406\n",
      "Iter: 175000\tL_rate: 0.01\tLoss: 2.12214\tLoss MA10: 2.1136600971221924\n",
      "Iter: 177500\tL_rate: 0.01\tLoss: 1.58028\tLoss MA10: 1.9948699474334717\n",
      "Iter: 180000\tL_rate: 0.01\tLoss: 1.94425\tLoss MA10: 2.131469964981079\n",
      "Iter: 182500\tL_rate: 0.01\tLoss: 1.94058\tLoss MA10: 2.142630100250244\n",
      "Iter: 185000\tL_rate: 0.01\tLoss: 1.92163\tLoss MA10: 2.133270025253296\n",
      "Iter: 187500\tL_rate: 0.01\tLoss: 2.32304\tLoss MA10: 2.2107200622558594\n",
      "Iter: 190000\tL_rate: 0.01\tLoss: 2.27674\tLoss MA10: 2.070310115814209\n",
      "Iter: 192500\tL_rate: 0.01\tLoss: 1.99557\tLoss MA10: 2.0557100772857666\n",
      "Iter: 195000\tL_rate: 0.01\tLoss: 2.37488\tLoss MA10: 2.158780097961426\n",
      "Iter: 197500\tL_rate: 0.01\tLoss: 2.01557\tLoss MA10: 2.1389000415802\n",
      "Iter: 200000\tL_rate: 0.01\tLoss: 2.28135\tLoss MA10: 2.2163100242614746\n"
     ]
    },
    {
     "data": {
      "text/plain": [
       "(tensor([[ 0.0613, -0.5924,  0.8994,  ...,  2.1832,  0.5186, -0.2407],\n",
       "         [-1.1783,  0.3453, -0.0845,  ...,  1.5480, -1.1244, -0.1503],\n",
       "         [-0.4751, -0.0800,  0.7958,  ..., -0.5327,  0.8800, -0.2943],\n",
       "         ...,\n",
       "         [ 3.1004, -0.6166, -0.0636,  ...,  0.0110, -0.9218,  0.2440],\n",
       "         [ 1.9921, -1.5539, -0.7923,  ..., -2.5353,  1.3533,  1.4468],\n",
       "         [-0.8432, -0.8137, -0.6671,  ..., -1.6200, -2.0537, -2.0004]],\n",
       "        grad_fn=<AddBackward0>),\n",
       " tensor([[ 0.0612, -0.5317,  0.7160,  ...,  0.9749,  0.4766, -0.2361],\n",
       "         [-0.8269,  0.3322, -0.0843,  ...,  0.9135, -0.8091, -0.1491],\n",
       "         [-0.4423, -0.0799,  0.6617,  ..., -0.4875,  0.7064, -0.2861],\n",
       "         ...,\n",
       "         [ 0.9960, -0.5487, -0.0635,  ...,  0.0110, -0.7267,  0.2393],\n",
       "         [ 0.9635, -0.9144, -0.6597,  ..., -0.9875,  0.8748,  0.8951],\n",
       "         [-0.6875, -0.6716, -0.5831,  ..., -0.9246, -0.9676, -0.9641]],\n",
       "        grad_fn=<TanhBackward0>),\n",
       " tensor([[ 3.1152e+00,  3.6211e+00,  1.3909e+00, -5.4144e-01, -1.3592e+00,\n",
       "           4.7345e+00, -1.9760e+00, -4.9465e+00,  2.3214e+00,  1.9267e+00,\n",
       "          -2.4773e+00, -2.3245e-01,  1.6169e+00,  1.0349e+00, -1.0968e+00,\n",
       "           1.5103e+00, -6.2579e-02, -3.8105e+00, -3.6916e-01,  1.6157e+00,\n",
       "           1.8850e+00, -2.9906e+00, -2.7217e+00, -1.6242e+00, -6.1168e-01,\n",
       "           8.8448e-01, -1.1338e+00],\n",
       "         [ 4.9759e+00,  2.6447e+00, -4.7267e-01, -6.9885e-01,  1.3279e+00,\n",
       "           1.5943e+00, -2.0614e+00, -2.3686e-01, -2.3135e-01,  2.3656e+00,\n",
       "          -1.7112e+00, -4.5347e-02,  4.5134e+00,  6.7470e-01, -8.2724e-01,\n",
       "           6.7952e-01, -2.3277e+00, -3.0469e+00, -2.7007e-01,  1.1959e+00,\n",
       "           1.5456e+00, -8.7737e-01, -7.5443e-01, -2.2676e+00, -6.0381e+00,\n",
       "           2.4876e+00, -2.2415e+00],\n",
       "         [-3.9488e+00,  1.5679e+00,  7.2126e-01,  9.8172e-01,  5.7855e-01,\n",
       "           7.0232e-01, -2.6889e-01,  3.0350e-01,  3.6110e-01, -5.4381e-01,\n",
       "           1.2741e+00,  1.4663e+00,  4.3519e-01,  1.3397e+00,  8.5963e-01,\n",
       "          -1.3492e+00, -2.1627e-01, -1.6433e+00,  6.9894e-01,  1.2334e+00,\n",
       "           9.4216e-01, -2.5452e+00, -6.5839e-01, -8.0450e-01, -1.5683e+00,\n",
       "          -5.1153e-01,  4.8477e-01],\n",
       "         [ 4.2543e+00,  3.7758e+00,  8.3393e-01, -1.5199e+00, -5.8820e-01,\n",
       "           1.9301e+00, -3.0487e-01, -1.9201e+00, -2.8051e+00,  3.9643e+00,\n",
       "          -9.2763e-01, -1.6655e+00, -8.2287e-01,  1.0668e+00, -3.7734e-02,\n",
       "           1.9107e+00, -4.3507e-01, -4.5339e+00,  8.7417e-01,  6.4605e-01,\n",
       "           4.7530e-01,  1.6368e+00, -3.6715e-01, -1.4124e+00, -3.6169e+00,\n",
       "           1.1553e+00, -1.2248e+00],\n",
       "         [ 1.6320e+00,  1.6736e+00, -1.3364e+00,  4.3261e-01, -6.7665e-01,\n",
       "           2.5173e+00, -2.4344e+00, -1.1681e-01, -1.4381e+00,  2.5690e+00,\n",
       "          -4.4622e-01,  5.9262e-01, -6.1603e-01, -5.6063e-02,  2.7471e+00,\n",
       "          -3.2256e-01, -2.5066e+00, -2.5305e+00,  4.2765e-01,  1.7634e+00,\n",
       "           7.7195e-01, -1.4178e+00, -9.2943e-01, -2.4140e+00,  1.8580e+00,\n",
       "           2.1474e+00, -1.1965e+00],\n",
       "         [ 1.9994e+00, -5.7561e-01, -1.3601e-01, -2.0053e+00,  1.9632e+00,\n",
       "           6.2614e-01, -1.4984e+00, -6.9030e-01,  1.8870e+00,  1.1445e+00,\n",
       "          -1.5085e+00, -5.8804e-01,  2.4565e+00,  1.4356e+00,  3.9069e+00,\n",
       "          -2.1975e+00, -1.6888e+00, -2.6593e+00,  3.8066e+00,  5.3907e-01,\n",
       "          -4.4560e-01, -8.0611e-01,  7.7056e-01, -2.5029e+00, -2.4503e+00,\n",
       "           1.3726e+00, -9.5781e-01],\n",
       "         [ 3.4058e+00,  5.5488e+00, -2.1303e+00, -1.4661e-01, -7.8583e-01,\n",
       "           3.5303e+00, -2.6041e+00, -3.2073e+00,  1.2402e+00,  3.3172e+00,\n",
       "          -1.3373e+00, -2.0710e+00, -5.0275e-02, -7.4080e-01,  8.5320e-01,\n",
       "           4.1947e+00, -1.5014e+00, -4.5324e+00, -1.3321e+00,  4.8128e-01,\n",
       "           7.8231e-01,  1.9710e+00, -7.4934e-01, -1.6409e+00, -2.7794e+00,\n",
       "           2.3288e+00, -1.7727e+00],\n",
       "         [-3.0522e+00,  5.1295e-01, -5.6146e-01,  6.9526e-01,  3.4181e-01,\n",
       "           7.1815e-01, -2.2318e+00, -1.6297e-01,  5.3148e-01,  2.0555e+00,\n",
       "          -1.3590e+00,  9.9517e-01,  1.6637e+00, -5.1387e-02,  2.1619e+00,\n",
       "          -1.4459e+00, -2.2385e+00, -3.1224e+00,  2.4852e+00,  2.4039e+00,\n",
       "          -2.1054e-01, -1.0910e-01, -4.4975e-01, -1.7729e+00,  7.0666e-01,\n",
       "           1.9259e+00, -4.0943e-01],\n",
       "         [-4.1996e+00,  3.9858e+00, -4.7816e-01, -2.1316e+00, -1.7132e+00,\n",
       "           4.3658e+00, -1.0934e+00, -1.3376e+00,  1.7231e+00,  3.5348e+00,\n",
       "          -1.1738e+00, -3.2714e+00,  1.8650e+00, -3.9017e-01, -8.0114e-01,\n",
       "           3.1723e+00, -1.5520e+00, -3.8342e+00,  4.4098e+00, -5.1107e-01,\n",
       "          -7.1144e-01,  3.1544e+00, -7.7410e-01,  2.4751e+00, -5.0335e+00,\n",
       "           1.3071e+00, -1.9971e+00],\n",
       "         [ 4.3790e+00,  4.9642e+00, -3.1750e+00, -9.3622e-01, -4.3847e-01,\n",
       "           5.0381e+00, -2.7373e+00, -7.1556e-01,  6.0393e-01,  4.5129e+00,\n",
       "           5.8451e-02, -7.2250e-01,  1.5917e+00, -1.8839e+00,  5.0900e-01,\n",
       "           2.2974e+00, -3.5335e+00, -3.5134e+00,  1.1731e-01, -3.3246e-01,\n",
       "           2.4537e-01, -9.4351e-01, -2.2295e+00, -3.7084e+00, -2.1758e+00,\n",
       "           3.6633e+00, -5.8633e-01],\n",
       "         [-2.9360e+00,  1.7212e-02, -6.7883e-02, -1.0447e+00,  1.6036e+00,\n",
       "          -1.7298e-01, -4.9918e-01, -1.3462e+00, -5.6950e-01,  2.5814e-01,\n",
       "          -7.7386e-01,  2.9798e-01,  3.4070e+00,  2.4017e+00,  1.7927e+00,\n",
       "          -1.8476e+00, -1.2096e+00, -2.6212e+00,  1.6594e+00,  1.5591e+00,\n",
       "           8.6743e-01, -4.5929e-01,  2.4534e+00, -1.1482e+00, -2.0043e+00,\n",
       "          -5.9695e-01,  9.8170e-01],\n",
       "         [-3.5832e+00,  1.0817e+00, -4.2142e-01,  1.1189e+00,  3.5306e-01,\n",
       "           8.0025e-01, -1.0221e+00, -3.8304e-01, -4.0921e-01, -1.6269e-01,\n",
       "          -1.1428e-02,  4.4129e-01,  1.8362e+00,  1.6935e+00,  2.0132e+00,\n",
       "          -8.8789e-02, -2.8768e-01, -1.8662e+00,  1.3153e+00,  1.4600e+00,\n",
       "          -1.2635e+00, -2.7457e+00,  2.2552e+00, -1.5171e+00, -8.2748e-01,\n",
       "           3.4450e-01, -2.5275e-01],\n",
       "         [ 2.8974e+00,  3.5425e+00, -2.0631e-01,  3.9153e-01,  1.5526e+00,\n",
       "           2.0923e+00, -3.4472e+00, -1.8239e+00,  4.3288e-01,  1.1595e+00,\n",
       "          -9.3123e-01, -2.0316e-01,  2.3268e+00,  6.7771e-01,  8.6465e-01,\n",
       "          -4.8780e-01, -2.9798e+00, -1.8022e+00,  2.9449e-01,  1.1288e+00,\n",
       "           1.8784e-01, -1.1176e-01,  1.1654e+00, -3.9994e+00, -8.0621e-01,\n",
       "           1.6057e-01, -1.0038e+00],\n",
       "         [ 2.8101e+00,  6.1893e-01, -1.4169e+00,  9.4348e-01,  4.0668e-02,\n",
       "           1.4539e+00, -1.0504e+00, -3.7947e+00,  1.4864e+00,  1.7947e+00,\n",
       "          -1.7869e+00,  9.3794e-01, -2.4825e-01,  1.0359e+00, -5.1875e-01,\n",
       "          -1.8127e-01, -1.0315e+00, -2.2066e+00, -1.6795e+00,  2.4337e+00,\n",
       "           5.3240e+00, -7.4052e-01, -1.6271e+00, -1.5672e+00, -2.4873e+00,\n",
       "           4.5218e-01,  1.3888e+00],\n",
       "         [-2.9360e+00,  1.7212e-02, -6.7883e-02, -1.0447e+00,  1.6036e+00,\n",
       "          -1.7298e-01, -4.9918e-01, -1.3462e+00, -5.6950e-01,  2.5814e-01,\n",
       "          -7.7386e-01,  2.9798e-01,  3.4070e+00,  2.4017e+00,  1.7927e+00,\n",
       "          -1.8476e+00, -1.2096e+00, -2.6212e+00,  1.6594e+00,  1.5591e+00,\n",
       "           8.6743e-01, -4.5929e-01,  2.4534e+00, -1.1482e+00, -2.0043e+00,\n",
       "          -5.9695e-01,  9.8170e-01],\n",
       "         [ 2.1568e+00,  3.6892e+00, -1.2102e+00,  3.3874e-01, -2.2464e-01,\n",
       "           3.4849e+00, -1.2778e+00, -2.4831e+00,  3.7986e-01,  3.7331e+00,\n",
       "          -1.8224e+00,  7.3512e-02,  1.5867e+00, -5.0660e-01, -6.2429e-01,\n",
       "           2.2162e+00, -2.0392e+00, -2.4968e+00, -9.1145e-01, -2.4875e-01,\n",
       "          -1.1270e+00,  4.6530e-01,  1.5957e+00, -2.6339e+00, -3.7678e+00,\n",
       "           3.5446e+00, -1.6152e+00],\n",
       "         [-3.9334e+00,  1.8245e+00, -1.2794e-01, -1.9382e-01,  6.9892e-01,\n",
       "           1.9706e+00, -2.0129e+00,  9.6028e-01, -1.0471e+00,  2.1812e+00,\n",
       "          -3.2113e-01, -1.8108e+00, -3.6240e-01, -4.6852e-02,  2.1998e+00,\n",
       "           1.3092e+00, -1.1184e+00, -2.8940e+00, -1.7696e-01,  8.3527e-01,\n",
       "           6.9567e-01, -3.0524e-01,  1.3515e+00, -1.0097e+00,  7.5286e-01,\n",
       "           1.3449e+00, -5.4136e-01],\n",
       "         [ 2.3663e+00,  3.1547e+00, -2.5116e-01,  5.5629e-01,  1.5622e+00,\n",
       "           9.9143e-01, -2.2571e+00, -9.4974e-01, -6.4507e-01, -6.5593e-02,\n",
       "          -1.4271e+00,  3.6599e-01,  2.2472e+00,  2.1452e-02,  3.8971e-01,\n",
       "           8.6030e-02, -2.7158e+00, -1.6642e+00,  9.4950e-01,  1.2355e+00,\n",
       "           7.8375e-01,  1.7969e-01,  9.1174e-01, -3.2569e+00, -2.2039e+00,\n",
       "          -3.5259e-02,  8.5515e-01],\n",
       "         [-2.6024e+00,  4.7756e+00, -1.9763e+00, -7.1983e-01, -1.5972e+00,\n",
       "           3.9851e+00, -2.3876e+00, -1.6456e+00,  3.4925e+00,  2.8845e+00,\n",
       "          -9.9620e-01, -7.1136e-01,  7.6682e-01,  1.9260e-01,  6.5605e-01,\n",
       "           3.0249e+00, -1.6932e+00, -3.1777e+00,  2.1823e+00, -9.9481e-02,\n",
       "          -1.4034e+00,  9.1752e-01, -1.5038e+00,  1.2378e-01, -4.3535e+00,\n",
       "           2.6454e+00, -8.0944e-01],\n",
       "         [ 2.4363e+00,  6.9175e-01, -1.5831e+00,  5.8887e-01, -5.8714e-01,\n",
       "          -4.2586e-03, -2.7219e+00, -1.5844e-01, -2.5391e-01, -3.4374e-01,\n",
       "          -9.5097e-01,  1.0911e+00,  1.3493e+00,  2.4919e-01,  6.0673e+00,\n",
       "           6.4868e-01, -2.0944e+00, -3.2147e+00,  2.8277e+00,  4.6033e-01,\n",
       "           5.6745e-01,  3.0915e-01, -2.0492e+00, -2.1639e+00, -3.0872e-01,\n",
       "           3.2443e-04, -1.0347e+00],\n",
       "         [-1.1847e+00,  4.3441e+00, -1.3163e+00, -1.0587e+00,  9.0974e-01,\n",
       "           4.5963e+00, -1.3492e+00, -1.5611e+00, -1.7645e+00,  4.3169e+00,\n",
       "          -1.8718e+00, -6.7958e-01,  1.5440e+00,  3.1935e-01, -1.2494e+00,\n",
       "           2.5350e+00, -3.0727e+00, -2.9794e+00,  2.4700e+00,  1.0813e-01,\n",
       "          -2.4664e-01, -9.9678e-01,  1.1044e-01, -1.0690e+00, -3.6339e+00,\n",
       "           2.8066e+00, -8.7055e-01],\n",
       "         [ 3.9134e+00,  2.4532e+00, -1.4141e+00,  7.4680e-01,  1.4016e+00,\n",
       "           9.0538e-01, -1.8371e+00, -2.7192e-03, -9.1768e-01,  8.4976e-01,\n",
       "          -1.5801e+00,  2.1757e+00,  3.3649e+00, -1.1797e+00,  3.7808e+00,\n",
       "          -1.1833e+00, -2.1090e+00, -2.1712e+00,  3.1148e+00,  7.9916e-01,\n",
       "           3.7292e-01,  5.0064e-01, -2.4973e+00, -3.8007e+00, -2.2475e+00,\n",
       "          -2.0915e-01, -2.5868e+00],\n",
       "         [-3.9488e+00,  1.5679e+00,  7.2126e-01,  9.8172e-01,  5.7855e-01,\n",
       "           7.0232e-01, -2.6889e-01,  3.0350e-01,  3.6110e-01, -5.4381e-01,\n",
       "           1.2741e+00,  1.4663e+00,  4.3519e-01,  1.3397e+00,  8.5963e-01,\n",
       "          -1.3492e+00, -2.1627e-01, -1.6433e+00,  6.9894e-01,  1.2334e+00,\n",
       "           9.4216e-01, -2.5452e+00, -6.5839e-01, -8.0450e-01, -1.5683e+00,\n",
       "          -5.1153e-01,  4.8477e-01],\n",
       "         [ 3.0313e+00, -6.8697e-02, -1.6419e+00,  8.7790e-01,  2.7044e-01,\n",
       "           8.7102e-01, -2.4666e+00, -1.9368e+00,  1.1441e+00,  2.6912e+00,\n",
       "          -9.4607e-01,  3.9219e-01,  3.2582e-01,  9.3899e-01,  3.4618e+00,\n",
       "          -1.0199e+00, -2.6585e+00, -3.0312e+00,  1.5105e+00,  1.2652e+00,\n",
       "          -3.9202e-01,  4.1599e-01, -1.1585e+00, -2.7122e+00, -1.8337e+00,\n",
       "           3.0996e+00,  4.3314e-01],\n",
       "         [-1.4481e+00,  2.8863e+00,  3.0359e-01, -1.7755e-01,  5.0564e-01,\n",
       "           2.9626e+00, -1.5705e+00, -1.3833e+00, -1.3332e+00,  3.7814e+00,\n",
       "          -1.1840e+00, -4.7571e-01,  3.2905e+00,  1.2538e+00, -3.4826e-01,\n",
       "           1.8973e+00, -1.8716e+00, -2.8792e+00,  4.5047e-01,  1.3720e+00,\n",
       "          -6.6074e-01, -3.1078e-02, -1.5630e-01, -6.4876e-01, -6.4362e+00,\n",
       "           2.5365e+00, -4.6112e-01],\n",
       "         [-1.4907e+00,  5.3858e+00, -1.5514e+00, -1.9909e+00, -1.0187e+00,\n",
       "           5.0816e+00, -2.9278e+00, -7.0563e-01,  2.4157e+00,  3.7200e+00,\n",
       "          -1.2454e+00, -2.2214e+00,  7.5354e-01,  1.3827e-01,  3.8053e-01,\n",
       "           3.7597e+00, -3.1332e+00, -3.8446e+00,  2.8956e+00, -1.2813e+00,\n",
       "          -1.1873e+00,  2.4219e+00, -7.4290e-01,  5.0788e-01, -5.6950e+00,\n",
       "           2.5633e+00, -1.4362e+00],\n",
       "         [ 3.8116e+00,  2.4477e+00, -1.0946e+00,  1.1413e+00,  4.9385e-01,\n",
       "           2.9461e+00,  3.7997e-01,  3.0106e-01, -1.3375e+00, -1.4947e+00,\n",
       "          -5.4363e-01,  2.9395e-01, -9.6215e-02, -1.5634e+00,  1.9826e+00,\n",
       "           7.8566e-01, -6.0889e-01, -6.2924e-01, -2.5568e+00,  1.2022e+00,\n",
       "           2.1664e+00, -6.2310e-01, -1.4742e+00, -2.5406e+00, -3.2575e+00,\n",
       "           6.6689e-01, -5.2296e-01],\n",
       "         [ 2.8964e+00,  3.2348e+00,  5.9284e-01, -1.1068e+00, -6.9299e-01,\n",
       "           2.2126e+00, -9.1465e-01, -2.5967e+00, -2.4871e+00,  2.6452e+00,\n",
       "          -1.5380e+00, -1.1195e+00, -1.1188e-01,  2.0368e+00,  1.2110e-01,\n",
       "           1.1768e+00, -4.7745e-02, -3.0856e+00,  7.4867e-01,  1.3294e+00,\n",
       "          -1.9743e-01,  1.1061e+00, -1.6133e-01, -1.6365e+00, -3.3883e+00,\n",
       "           1.1328e+00,  5.9508e-01],\n",
       "         [ 2.1063e+00,  3.0733e+00, -1.1193e+00, -7.5074e-01,  2.7743e+00,\n",
       "           3.5806e+00, -2.6425e+00, -5.9471e-02,  2.0570e-01,  3.2715e+00,\n",
       "          -1.5236e+00, -1.3229e+00,  1.3552e+00, -1.8718e+00, -6.8997e-01,\n",
       "           2.3206e+00, -4.2243e+00, -3.5726e+00,  2.1195e+00,  4.6879e-02,\n",
       "           7.1144e-01,  7.0963e-01,  1.5263e-01, -1.9608e+00, -4.1563e+00,\n",
       "           2.3407e+00, -5.9473e-01],\n",
       "         [ 3.6561e+00,  7.9489e-01,  1.7043e+00, -3.3711e-01,  1.6661e+00,\n",
       "           3.0780e-01, -1.6940e+00, -2.6076e+00, -3.0245e-01, -9.8166e-01,\n",
       "          -2.3139e+00, -1.3517e+00,  3.8798e+00,  6.0072e-01,  2.7259e+00,\n",
       "           5.7239e-01,  4.2664e-01, -3.7160e+00,  2.1074e+00,  3.0275e-01,\n",
       "           1.9958e+00,  1.3242e-01, -1.6997e+00, -2.6102e+00, -3.5471e+00,\n",
       "           8.7603e-01, -9.9171e-01],\n",
       "         [-1.7454e+00,  4.9859e+00, -1.4191e+00, -1.4659e+00, -1.2762e+00,\n",
       "           4.8186e+00, -1.8957e+00, -1.5926e+00,  3.0434e+00,  4.9813e+00,\n",
       "          -2.2783e+00, -3.3769e+00,  1.5818e+00, -9.5707e-01, -2.9873e-01,\n",
       "           2.8852e+00, -3.7158e+00, -4.4149e+00,  3.1878e+00,  1.5105e-01,\n",
       "          -3.2758e-01,  1.2716e+00, -1.7788e+00, -9.2790e-01, -3.9990e+00,\n",
       "           3.7088e+00,  1.8674e-02],\n",
       "         [-2.7280e+00,  2.0484e-02, -1.1460e+00,  1.5558e+00,  1.4664e+00,\n",
       "           8.5431e-01, -2.8062e+00,  7.2175e-01,  8.3797e-01,  8.3457e-01,\n",
       "          -3.6067e-01,  1.4612e+00,  1.1219e+00, -5.9008e-01,  1.3340e+00,\n",
       "          -1.6248e+00, -2.8860e+00, -2.9221e+00,  2.9028e+00,  8.6413e-01,\n",
       "           9.9014e-01, -5.0974e-01, -4.6785e-01, -1.0501e+00,  7.6611e-01,\n",
       "           1.4298e+00, -1.9063e-01]], grad_fn=<AddBackward0>),\n",
       " tensor(2.2814, grad_fn=<NllLossBackward0>))"
      ]
     },
     "execution_count": 243,
     "metadata": {},
     "output_type": "execute_result"
    }
   ],
   "source": [
    "train_runs = 200001\n",
    "train(train_runs, X_trn, Y_trn, batch_size, C, l_rate, parameters, step_i, loss_i, log_loss_i, bn_gain, bn_bias)"
   ]
  },
  {
   "cell_type": "code",
   "execution_count": 244,
   "id": "1a55fc0b",
   "metadata": {},
   "outputs": [
    {
     "name": "stdout",
     "output_type": "stream",
     "text": [
      "train: 2.0639402866363525\n",
      "dev: 2.121051549911499\n",
      "test: 2.1072003841400146\n"
     ]
    }
   ],
   "source": [
    "# add batch norming to split_loss function before generating outputs\n",
    "\n",
    "# new code from Karpathy to track performance of dataset splits\n",
    "\n",
    "@torch.no_grad() # decorator to disable gradient tracking (and thereby increase efficiency)\n",
    "def split_loss(split):\n",
    "    X, Y = {\n",
    "        'train': (X_trn, Y_trn),\n",
    "        'dev': (X_dev, Y_dev),\n",
    "        'test': (X_tst, Y_tst)\n",
    "           }[split]\n",
    "    emb = C[X] # embed chars into vecs of size N x block_size x emb_dims\n",
    "    emb_concat = emb.view(emb.shape[0], -1) # concat vectors to N x (block_size x emb_dims)\n",
    "    h_preact = emb_concat @ W1 + b1 # hidden layer pre-activation, N x n_hidden\n",
    "    h_p_mean = h_preact.mean(0, keepdims = True)\n",
    "    h_p_std = h_preact.std(0, keepdims = True)\n",
    "    h_preact = (h_preact - h_p_mean) / h_p_std \n",
    "    h_preact = h_preact * bn_gain + bn_bias\n",
    "    h = torch.tanh(h_preact) # hidden layer, N x vocab_size\n",
    "    logits = h @ W2 + b2 # output layer\n",
    "    loss = F.cross_entropy(logits, Y) # loss function\n",
    "    print(f'{split}: {loss.item()}')\n",
    "    \n",
    "split_loss('train')\n",
    "split_loss('dev')\n",
    "split_loss('test')"
   ]
  },
  {
   "cell_type": "code",
   "execution_count": 248,
   "id": "d392d0be",
   "metadata": {},
   "outputs": [
    {
     "name": "stdout",
     "output_type": "stream",
     "text": [
      "priskslvigtom.\n",
      "brhrxissaydh.\n",
      "fzitrevtkzyssquviandracfbdglgrdavishuahmarsh.\n",
      "brkairstebadbh.\n",
      "fudiyahmawyargigghriyahmialtsy.\n",
      "rhbegdn.\n",
      "fstez.\n",
      "daf.\n",
      "stwriasturgyandis.\n",
      "dalah.\n",
      "dbxrajmaniyah.\n",
      "brghundmyshmirishnnyah.\n",
      "bluxnsmurluthm.\n",
      "friyahmanusbobbix.\n",
      "sustaphloislenellenrncclarziesadhmberk.\n"
     ]
    }
   ],
   "source": [
    "# loss is still good\n",
    "# so you might think the names would be better and much more name-like. BUT...\n",
    "\n",
    "g = torch.Generator().manual_seed(2147483647 + 2304)\n",
    "\n",
    "names = 15\n",
    "name_generator(g, block_size, C, W1, b1, W2, b2, names)\n",
    "\n",
    "#they're far worse:"
   ]
  },
  {
   "cell_type": "code",
   "execution_count": 250,
   "id": "f6377b63",
   "metadata": {},
   "outputs": [],
   "source": [
    "# karpathy talks about how batch normalisation ends up coupling examples in the batch\n",
    "# which leads to undesirable properties and isn't always looked on favourably\n",
    "# (not at all sure if this is going to turn out to relate to the above)"
   ]
  },
  {
   "cell_type": "code",
   "execution_count": 253,
   "id": "fd8b2af7",
   "metadata": {},
   "outputs": [],
   "source": [
    "# calibrate the batch norm at the end of training\n",
    "# (NN is now trained to expect a batch, but we want to be able to get a generation from a single example, rather than a batch)\n",
    "# (I don't understand exactly why or how this is necessarily true, I'm typing up Karpathy's comments)\n",
    "\n",
    "with torch.no_grad():\n",
    "    # pass the training set through\n",
    "    emb = C[X_trn]\n",
    "    emb_concat = emb.view(emb.shape[0], -1)\n",
    "    h_preact = emb_concat @ W1 + b1\n",
    "    # measure the mean and std over the entire (batch normed) training set\n",
    "    bn_mean = h_preact.mean(0, keepdims = True)\n",
    "    bn_std = h_preact.std(0, keepdims = True)\n",
    "    \n",
    "    "
   ]
  },
  {
   "cell_type": "code",
   "execution_count": 254,
   "id": "43e64a20",
   "metadata": {},
   "outputs": [
    {
     "name": "stdout",
     "output_type": "stream",
     "text": [
      "train: 2.0639402866363525\n",
      "dev: 2.1209568977355957\n",
      "test: 2.107179641723633\n"
     ]
    }
   ],
   "source": [
    "# use the bn_mean and bn_std assigned above, rather than h_p_mean and h_p_std as previous\n",
    "\n",
    "@torch.no_grad() # decorator to disable gradient tracking (and thereby increase efficiency)\n",
    "def split_loss(split):\n",
    "    X, Y = {\n",
    "        'train': (X_trn, Y_trn),\n",
    "        'dev': (X_dev, Y_dev),\n",
    "        'test': (X_tst, Y_tst)\n",
    "           }[split]\n",
    "    emb = C[X] # embed chars into vecs of size N x block_size x emb_dims\n",
    "    emb_concat = emb.view(emb.shape[0], -1) # concat vectors to N x (block_size x emb_dims)\n",
    "    h_preact = emb_concat @ W1 + b1 # hidden layer pre-activation, N x n_hidden\n",
    "    h_preact = ((h_preact - bn_mean) / bn_std) * bn_gain + bn_bias\n",
    "    h = torch.tanh(h_preact) # hidden layer, N x vocab_size\n",
    "    logits = h @ W2 + b2 # output layer\n",
    "    loss = F.cross_entropy(logits, Y) # loss function\n",
    "    print(f'{split}: {loss.item()}')\n",
    "    \n",
    "split_loss('train')\n",
    "split_loss('dev')\n",
    "split_loss('test')"
   ]
  },
  {
   "cell_type": "code",
   "execution_count": 273,
   "id": "6e73916e",
   "metadata": {},
   "outputs": [
    {
     "name": "stdout",
     "output_type": "stream",
     "text": [
      "X shape: torch.Size([182542, 3]) \tX dtype: torch.int64 \tY shape: torch.Size([182542]) \tY dtype: torch.int64\n",
      "X shape: torch.Size([22789, 3]) \tX dtype: torch.int64 \tY shape: torch.Size([22789]) \tY dtype: torch.int64\n",
      "X shape: torch.Size([22816, 3]) \tX dtype: torch.int64 \tY shape: torch.Size([22816]) \tY dtype: torch.int64\n",
      "No. parameters: 12297\n"
     ]
    }
   ],
   "source": [
    "# ...BUT\n",
    "# actually, we can just define bn_mean and bn_std during training\n",
    "\n",
    "# re-initialise - again\n",
    "\n",
    "kaiming_init = (5/3) / (n_weights**0.5)\n",
    "kaiming_init\n",
    "\n",
    "random.seed(42)\n",
    "random.shuffle(words)\n",
    "n1 = int(0.8*len(words))\n",
    "n2 = int(0.9*len(words))\n",
    "\n",
    "X_trn, Y_trn = build_dataset(words[:n1], block_size)\n",
    "X_dev, Y_dev = build_dataset(words[n1:n2], block_size)\n",
    "X_tst, Y_tst = build_dataset(words[n2:], block_size)\n",
    "\n",
    "g = torch.Generator().manual_seed(2147483647)\n",
    "C = torch.randn((vocab_size, emb_dims), \tgenerator = g) \n",
    "W1 = torch.randn((n_weights, n_hidden), \tgenerator = g) * kaiming_init\n",
    "b1 = torch.randn(n_hidden, \t\t\t\t\tgenerator = g) * 0.01\n",
    "# NB - DO NOT set W2 to zeroes (K asserts at this point in vid, does not yet explain)\n",
    "W2 = torch.randn((n_hidden, vocab_size), \tgenerator = g) * 0.01 \n",
    "b2 = torch.randn(vocab_size, \t\t\t\tgenerator = g) * 0 \n",
    "\n",
    "bn_gain = torch.ones((1, n_hidden))\n",
    "bn_bias = torch.zeros((1, n_hidden))\n",
    "\n",
    "\n",
    "\n",
    "# -------\n",
    "# add the below\n",
    "bn_mean_running = torch.zeros((1, n_hidden)) \n",
    "bn_std_running = torch.ones((1, n_hidden))\n",
    "# -------\n",
    "\n",
    "\n",
    "\n",
    "\n",
    "\n",
    "# get param count\n",
    "parameters = [C, W1, b1, W2, b2, bn_gain, bn_bias]\n",
    "\n",
    "for p in parameters:\n",
    "    p.requires_grad = True \n",
    "    \n",
    "step_i = []\n",
    "loss_i = []\n",
    "log_loss_i = []\n",
    "\n",
    "print(f'No. parameters: {sum(p.nelement() for p in parameters)}')\n",
    "\n",
    "\n",
    "\n",
    "\n",
    "\n",
    "# AND redefine to update bn_mean_running and bn_std_running\n",
    "\n",
    "def train(train_runs, X_trn, Y_trn, batch_size, C, l_rate, parameters, step_i, loss_i, log_loss_i, bn_gain, bn_bias, bn_mean_running, bn_std_running):\n",
    "    for _ in range (train_runs):\n",
    "        ix = torch.randint(0, X_trn.shape[0], (batch_size,), generator = g)\n",
    "        Xb, Yb = X_trn[ix], Y_trn[ix]\n",
    "        # forward pass\n",
    "        emb = C[Xb] \n",
    "        emb_concat = emb.view(emb.shape[0], -1) \n",
    "        \n",
    "        # ----------\n",
    "        # linear layer\n",
    "        h_preact = emb_concat @ W1 + b1 # note that bias is now useless here as the next layer normalises\n",
    "        \n",
    "        \n",
    "        # ----------\n",
    "        # BN layer\n",
    "        bn_mean_i = h_preact.mean(0, keepdims = True) # renamed to bn...\n",
    "        bn_std_i = h_preact.std(0, keepdims = True) # renamed to bn...\n",
    "        h_preact = (h_preact - bn_mean_i) / bn_std_i\n",
    "        h_preact = h_preact * bn_gain + bn_bias    \n",
    "        \n",
    "        \n",
    "        # ----------------\n",
    "        # takes place ALONGSIDE gradient descent\n",
    "        # each iteration moves the mean and std slightly from their previous values towards the values of ...i on this i\n",
    "        with torch.no_grad():\n",
    "            bn_mean_running = (bn_mean_running * 0.999) + (0.001 * bn_mean_i)\n",
    "            bn_std_running = (bn_std_running * 0.999) + (0.001 * bn_std_i)\n",
    "        # ----------------\n",
    "        \n",
    "                \n",
    "        \n",
    "        # ----------\n",
    "        # non-linearity\n",
    "        h = torch.tanh(h_preact) \n",
    "        logits = h @ W2 + b2 \n",
    "        loss = F.cross_entropy(logits, Yb)\n",
    "\n",
    "        # backward pass\n",
    "        for p in parameters:\n",
    "            p.grad = None \n",
    "        loss.backward() \n",
    "\n",
    "        # update\n",
    "        # l_rate = l_rate_init * (decay_factor ** _) # different from Karpathy's, below\n",
    "        l_rate = 0.1 if _ < 100000 else 0.01 # K's\n",
    "\n",
    "        for p in parameters:\n",
    "            p.data += -l_rate * p.grad\n",
    "\n",
    "        step_i.append(_)\n",
    "        loss_i.append(loss) \n",
    "        log_loss_i.append(loss.log10().item()) \n",
    "\n",
    "        if _ % 2500 == 0:\n",
    "            print(f'Iter: {_}\\t'\n",
    "                  f'L_rate: {round(l_rate, 5)}\\t'\n",
    "                  f'Loss: {round(loss.item(), 5)}\\t'\n",
    "                  f'Loss MA10: {round(np.mean([l.detach().numpy() for l in loss_i[-10:]]), 5)}')\n",
    "        \n",
    "    return h_preact, h, logits, loss, bn_mean_running, bn_std_running"
   ]
  },
  {
   "cell_type": "code",
   "execution_count": 264,
   "id": "d62fd270",
   "metadata": {},
   "outputs": [
    {
     "name": "stdout",
     "output_type": "stream",
     "text": [
      "Iter: 0\tL_rate: 0.1\tLoss: 2.57272\tLoss MA10: 2.2476799488067627\n",
      "Iter: 2500\tL_rate: 0.1\tLoss: 2.21153\tLoss MA10: 2.2523000240325928\n",
      "Iter: 5000\tL_rate: 0.1\tLoss: 2.505\tLoss MA10: 2.3901400566101074\n",
      "Iter: 7500\tL_rate: 0.1\tLoss: 2.22136\tLoss MA10: 2.347179889678955\n",
      "Iter: 10000\tL_rate: 0.1\tLoss: 2.18456\tLoss MA10: 2.235450029373169\n",
      "Iter: 12500\tL_rate: 0.1\tLoss: 2.03853\tLoss MA10: 2.2293500900268555\n",
      "Iter: 15000\tL_rate: 0.1\tLoss: 1.94126\tLoss MA10: 2.2049500942230225\n",
      "Iter: 17500\tL_rate: 0.1\tLoss: 2.17838\tLoss MA10: 2.2123100757598877\n",
      "Iter: 20000\tL_rate: 0.1\tLoss: 2.36053\tLoss MA10: 2.222209930419922\n",
      "Iter: 22500\tL_rate: 0.1\tLoss: 2.46558\tLoss MA10: 2.2916300296783447\n",
      "Iter: 25000\tL_rate: 0.1\tLoss: 2.47695\tLoss MA10: 2.182229995727539\n",
      "Iter: 27500\tL_rate: 0.1\tLoss: 2.11143\tLoss MA10: 2.3040199279785156\n",
      "Iter: 30000\tL_rate: 0.1\tLoss: 2.44415\tLoss MA10: 2.280590057373047\n",
      "Iter: 32500\tL_rate: 0.1\tLoss: 2.51826\tLoss MA10: 2.272939920425415\n",
      "Iter: 35000\tL_rate: 0.1\tLoss: 2.39657\tLoss MA10: 2.1136600971221924\n",
      "Iter: 37500\tL_rate: 0.1\tLoss: 2.291\tLoss MA10: 2.2974300384521484\n",
      "Iter: 40000\tL_rate: 0.1\tLoss: 2.0802\tLoss MA10: 2.162369966506958\n",
      "Iter: 42500\tL_rate: 0.1\tLoss: 2.63334\tLoss MA10: 2.268709897994995\n",
      "Iter: 45000\tL_rate: 0.1\tLoss: 2.09351\tLoss MA10: 2.264539957046509\n",
      "Iter: 47500\tL_rate: 0.1\tLoss: 1.93063\tLoss MA10: 2.1405301094055176\n",
      "Iter: 50000\tL_rate: 0.1\tLoss: 2.2807\tLoss MA10: 2.23294997215271\n",
      "Iter: 52500\tL_rate: 0.1\tLoss: 1.85441\tLoss MA10: 2.0831899642944336\n",
      "Iter: 55000\tL_rate: 0.1\tLoss: 2.16681\tLoss MA10: 2.2908999919891357\n",
      "Iter: 57500\tL_rate: 0.1\tLoss: 2.32713\tLoss MA10: 2.197360038757324\n",
      "Iter: 60000\tL_rate: 0.1\tLoss: 2.17158\tLoss MA10: 2.060159921646118\n",
      "Iter: 62500\tL_rate: 0.1\tLoss: 2.1968\tLoss MA10: 2.2748301029205322\n",
      "Iter: 65000\tL_rate: 0.1\tLoss: 2.27714\tLoss MA10: 2.0952999591827393\n",
      "Iter: 67500\tL_rate: 0.1\tLoss: 1.91053\tLoss MA10: 2.2042698860168457\n",
      "Iter: 70000\tL_rate: 0.1\tLoss: 2.22149\tLoss MA10: 2.1638600826263428\n",
      "Iter: 72500\tL_rate: 0.1\tLoss: 2.10191\tLoss MA10: 2.1326498985290527\n",
      "Iter: 75000\tL_rate: 0.1\tLoss: 2.67476\tLoss MA10: 2.261470079421997\n",
      "Iter: 77500\tL_rate: 0.1\tLoss: 1.92825\tLoss MA10: 2.2152099609375\n",
      "Iter: 80000\tL_rate: 0.1\tLoss: 2.14918\tLoss MA10: 2.185839891433716\n",
      "Iter: 82500\tL_rate: 0.1\tLoss: 2.18792\tLoss MA10: 2.0490400791168213\n",
      "Iter: 85000\tL_rate: 0.1\tLoss: 2.11921\tLoss MA10: 2.111599922180176\n",
      "Iter: 87500\tL_rate: 0.1\tLoss: 1.91077\tLoss MA10: 2.1232900619506836\n",
      "Iter: 90000\tL_rate: 0.1\tLoss: 2.00957\tLoss MA10: 2.2565600872039795\n",
      "Iter: 92500\tL_rate: 0.1\tLoss: 2.40593\tLoss MA10: 2.1637001037597656\n",
      "Iter: 95000\tL_rate: 0.1\tLoss: 2.09727\tLoss MA10: 2.1543900966644287\n",
      "Iter: 97500\tL_rate: 0.1\tLoss: 2.38148\tLoss MA10: 2.1712799072265625\n",
      "Iter: 100000\tL_rate: 0.01\tLoss: 1.75662\tLoss MA10: 2.2116000652313232\n",
      "Iter: 102500\tL_rate: 0.01\tLoss: 2.32091\tLoss MA10: 2.137049913406372\n",
      "Iter: 105000\tL_rate: 0.01\tLoss: 2.07796\tLoss MA10: 2.043179988861084\n",
      "Iter: 107500\tL_rate: 0.01\tLoss: 2.64603\tLoss MA10: 2.037719964981079\n",
      "Iter: 110000\tL_rate: 0.01\tLoss: 1.94389\tLoss MA10: 2.0592598915100098\n",
      "Iter: 112500\tL_rate: 0.01\tLoss: 2.19563\tLoss MA10: 2.1100399494171143\n",
      "Iter: 115000\tL_rate: 0.01\tLoss: 2.35423\tLoss MA10: 2.0650999546051025\n",
      "Iter: 117500\tL_rate: 0.01\tLoss: 2.18699\tLoss MA10: 2.1037399768829346\n",
      "Iter: 120000\tL_rate: 0.01\tLoss: 2.02288\tLoss MA10: 2.1196401119232178\n",
      "Iter: 122500\tL_rate: 0.01\tLoss: 2.19071\tLoss MA10: 2.153439998626709\n",
      "Iter: 125000\tL_rate: 0.01\tLoss: 1.88744\tLoss MA10: 2.1269800662994385\n",
      "Iter: 127500\tL_rate: 0.01\tLoss: 1.93575\tLoss MA10: 2.044650077819824\n",
      "Iter: 130000\tL_rate: 0.01\tLoss: 2.10953\tLoss MA10: 2.149790048599243\n",
      "Iter: 132500\tL_rate: 0.01\tLoss: 1.90377\tLoss MA10: 2.133270025253296\n",
      "Iter: 135000\tL_rate: 0.01\tLoss: 2.43981\tLoss MA10: 2.15693998336792\n",
      "Iter: 137500\tL_rate: 0.01\tLoss: 2.08054\tLoss MA10: 2.1825098991394043\n",
      "Iter: 140000\tL_rate: 0.01\tLoss: 2.09081\tLoss MA10: 2.167140007019043\n",
      "Iter: 142500\tL_rate: 0.01\tLoss: 1.85285\tLoss MA10: 2.0797998905181885\n",
      "Iter: 145000\tL_rate: 0.01\tLoss: 1.96656\tLoss MA10: 2.09525990486145\n",
      "Iter: 147500\tL_rate: 0.01\tLoss: 2.25998\tLoss MA10: 2.0668299198150635\n",
      "Iter: 150000\tL_rate: 0.01\tLoss: 1.76318\tLoss MA10: 1.9755899906158447\n",
      "Iter: 152500\tL_rate: 0.01\tLoss: 1.98334\tLoss MA10: 2.1135199069976807\n",
      "Iter: 155000\tL_rate: 0.01\tLoss: 2.36966\tLoss MA10: 2.0454299449920654\n",
      "Iter: 157500\tL_rate: 0.01\tLoss: 1.75224\tLoss MA10: 2.1544599533081055\n",
      "Iter: 160000\tL_rate: 0.01\tLoss: 1.77359\tLoss MA10: 2.046760082244873\n",
      "Iter: 162500\tL_rate: 0.01\tLoss: 2.28033\tLoss MA10: 2.102030038833618\n",
      "Iter: 165000\tL_rate: 0.01\tLoss: 2.57805\tLoss MA10: 2.2799599170684814\n",
      "Iter: 167500\tL_rate: 0.01\tLoss: 2.0253\tLoss MA10: 2.1468300819396973\n",
      "Iter: 170000\tL_rate: 0.01\tLoss: 2.51449\tLoss MA10: 2.1533501148223877\n",
      "Iter: 172500\tL_rate: 0.01\tLoss: 1.59856\tLoss MA10: 2.0413599014282227\n",
      "Iter: 175000\tL_rate: 0.01\tLoss: 2.48025\tLoss MA10: 2.0838398933410645\n",
      "Iter: 177500\tL_rate: 0.01\tLoss: 2.20628\tLoss MA10: 2.0724799633026123\n",
      "Iter: 180000\tL_rate: 0.01\tLoss: 2.18652\tLoss MA10: 2.043410062789917\n",
      "Iter: 182500\tL_rate: 0.01\tLoss: 1.96732\tLoss MA10: 2.0170400142669678\n",
      "Iter: 185000\tL_rate: 0.01\tLoss: 2.03496\tLoss MA10: 2.1731200218200684\n",
      "Iter: 187500\tL_rate: 0.01\tLoss: 1.61889\tLoss MA10: 2.091170072555542\n",
      "Iter: 190000\tL_rate: 0.01\tLoss: 2.24904\tLoss MA10: 2.159250020980835\n",
      "Iter: 192500\tL_rate: 0.01\tLoss: 2.2974\tLoss MA10: 2.112260103225708\n",
      "Iter: 195000\tL_rate: 0.01\tLoss: 2.13775\tLoss MA10: 2.096719980239868\n",
      "Iter: 197500\tL_rate: 0.01\tLoss: 2.0514\tLoss MA10: 2.1222898960113525\n",
      "Iter: 200000\tL_rate: 0.01\tLoss: 1.89432\tLoss MA10: 1.9724600315093994\n"
     ]
    }
   ],
   "source": [
    "train_runs = 200001\n",
    "h_preact, h, logits, loss, bn_mean_running, bn_std_running = train(train_runs, X_trn, Y_trn, batch_size, C, l_rate, parameters, \n",
    "      step_i, loss_i, log_loss_i, bn_gain, bn_bias, bn_mean_running, bn_std_running)"
   ]
  },
  {
   "cell_type": "code",
   "execution_count": 265,
   "id": "59ff408b",
   "metadata": {},
   "outputs": [],
   "source": [
    "# run calibration again to get bn_mean and bn_std\n",
    "# we will compare these with the running values returned from train\n",
    "\n",
    "with torch.no_grad():\n",
    "    # pass the training set through\n",
    "    emb = C[X_trn]\n",
    "    emb_concat = emb.view(emb.shape[0], -1)\n",
    "    h_preact = emb_concat @ W1 + b1\n",
    "    # measure the mean and std over the entire (batch normed) training set\n",
    "    bn_mean = h_preact.mean(0, keepdims = True)\n",
    "    bn_std = h_preact.std(0, keepdims = True)"
   ]
  },
  {
   "cell_type": "code",
   "execution_count": 267,
   "id": "dc432e12",
   "metadata": {},
   "outputs": [
    {
     "data": {
      "text/plain": [
       "tensor([[ 3.5563e-03, -1.3321e-02,  9.7576e-03,  1.0690e-02,  1.4224e-02,\n",
       "          2.5553e-02, -1.8055e-02,  5.8154e-03, -8.1388e-03,  2.5723e-03,\n",
       "         -7.0587e-03, -1.2579e-02,  6.2760e-03,  4.5341e-03,  1.9644e-02,\n",
       "         -9.0066e-03,  1.3183e-03,  1.2451e-02,  1.8060e-02, -9.3567e-04,\n",
       "          1.2570e-02,  3.8727e-03,  2.4253e-03, -1.8507e-03, -2.6855e-02,\n",
       "         -1.0892e-02,  1.0615e-02,  9.0916e-03,  1.8439e-03,  1.3638e-02,\n",
       "          1.1021e-02,  1.8612e-02, -3.2469e-03,  1.8600e-02,  1.1736e-02,\n",
       "          1.1080e-02, -1.2854e-02,  5.0898e-03,  3.5154e-03, -9.1155e-03,\n",
       "         -1.7910e-03,  4.3155e-03,  2.0505e-02,  4.3643e-03, -4.9545e-03,\n",
       "          2.8726e-03,  1.0036e-03,  2.7460e-02, -1.7520e-02, -3.3759e-03,\n",
       "         -8.1466e-03, -2.2283e-04,  6.5299e-03,  4.0924e-03,  6.5001e-03,\n",
       "         -4.0123e-03,  5.7518e-05,  3.0791e-03,  2.7484e-03,  1.5309e-02,\n",
       "          2.2712e-02, -2.0257e-02, -1.1713e-02,  2.3150e-02,  2.7972e-03,\n",
       "         -3.9004e-03, -4.8245e-03,  1.3077e-02, -6.4995e-03,  7.4172e-03,\n",
       "          1.9606e-02,  1.0091e-02,  7.1166e-03, -3.8743e-04,  1.4365e-03,\n",
       "         -5.3474e-03, -5.0557e-03, -2.6896e-03, -1.2547e-02,  5.0470e-03,\n",
       "          8.9014e-03, -1.1472e-03,  7.7553e-03, -1.8153e-02,  9.0521e-03,\n",
       "          7.0801e-03,  1.6448e-02, -1.6770e-02,  3.2427e-03, -8.1561e-03,\n",
       "          1.1055e-02, -6.1473e-03,  1.3417e-03, -4.9592e-03, -2.1120e-03,\n",
       "          9.9978e-03,  1.3891e-02,  4.7593e-03,  1.7789e-02,  9.2135e-03,\n",
       "         -5.2916e-03,  1.1490e-02, -9.0919e-03,  2.8014e-03,  9.4335e-03,\n",
       "         -4.8345e-03,  1.1019e-02,  7.2867e-03, -3.1669e-03,  1.5435e-02,\n",
       "         -1.6843e-02, -8.2020e-03,  3.9924e-03, -2.4493e-03, -7.7170e-03,\n",
       "          1.6915e-02, -9.4655e-03, -1.6240e-02, -1.0581e-02, -2.1815e-02,\n",
       "          1.0133e-02,  1.9763e-03, -1.5955e-02, -9.9168e-03, -1.5498e-02,\n",
       "         -2.0968e-02, -3.4148e-04, -1.2988e-02, -1.1227e-02, -1.0336e-02,\n",
       "         -1.8104e-03, -1.6641e-04,  8.2544e-03,  2.9730e-03,  8.2256e-03,\n",
       "          1.7439e-02,  1.9516e-02, -1.1603e-02,  4.2130e-03, -7.3340e-03,\n",
       "         -8.4561e-03,  3.5497e-03,  7.7796e-04,  9.1065e-03, -2.0622e-02,\n",
       "          1.1555e-02, -1.0352e-02,  2.5527e-03,  6.6027e-03, -4.7230e-03,\n",
       "          6.1754e-03,  1.4949e-03, -1.5255e-02,  4.1914e-03, -1.6806e-02,\n",
       "         -1.9719e-02, -5.0144e-03, -7.1331e-03, -5.6065e-03,  2.8272e-03,\n",
       "          1.3460e-02,  4.0446e-03, -9.7218e-03, -2.4445e-03,  5.2024e-03,\n",
       "         -1.4988e-03, -1.1565e-02, -1.0055e-04,  8.6170e-03, -2.9463e-03,\n",
       "         -3.2337e-03,  4.8373e-03,  8.5180e-03, -1.1818e-02,  7.0529e-03,\n",
       "         -6.2679e-03, -4.9286e-03, -8.7088e-03,  1.3572e-02,  1.2003e-02,\n",
       "          2.4157e-02, -7.8917e-04, -5.2626e-03,  9.5139e-03,  2.0283e-02,\n",
       "          7.9180e-03,  1.3240e-02,  4.8268e-03, -4.8301e-03,  1.3506e-02,\n",
       "         -4.0861e-03,  8.8766e-03,  8.0329e-03,  1.3567e-02,  2.6566e-04,\n",
       "          7.8716e-03,  2.8319e-03, -9.5855e-03, -1.9029e-03,  1.0346e-03]])"
      ]
     },
     "execution_count": 267,
     "metadata": {},
     "output_type": "execute_result"
    }
   ],
   "source": [
    "# if bn_mean_running, bn_std_running are close enough to bn_mean, bn_std returned from the calibration step...\n",
    "# then we don't need the calibration step!\n",
    "\n",
    "bn_mean - bn_mean_running"
   ]
  },
  {
   "cell_type": "code",
   "execution_count": 269,
   "id": "84f1060e",
   "metadata": {},
   "outputs": [
    {
     "name": "stdout",
     "output_type": "stream",
     "text": [
      "train: 2.0657851696014404\n",
      "dev: 2.1204967498779297\n",
      "test: 2.1093239784240723\n"
     ]
    }
   ],
   "source": [
    "# close (mostly e-02 e-03 diffs) but not identical\n",
    "# I'm going to push my luck and include them\n",
    "\n",
    "@torch.no_grad() # decorator to disable gradient tracking (and thereby increase efficiency)\n",
    "def split_loss(split):\n",
    "    X, Y = {\n",
    "        'train': (X_trn, Y_trn),\n",
    "        'dev': (X_dev, Y_dev),\n",
    "        'test': (X_tst, Y_tst)\n",
    "           }[split]\n",
    "    emb = C[X] # embed chars into vecs of size N x block_size x emb_dims\n",
    "    emb_concat = emb.view(emb.shape[0], -1) # concat vectors to N x (block_size x emb_dims)\n",
    "    h_preact = emb_concat @ W1 + b1 # hidden layer pre-activation, N x n_hidden\n",
    "    h_preact = ((h_preact - bn_mean_running) / bn_std_running) * bn_gain + bn_bias\n",
    "    h = torch.tanh(h_preact) # hidden layer, N x vocab_size\n",
    "    logits = h @ W2 + b2 # output layer\n",
    "    loss = F.cross_entropy(logits, Y) # loss function\n",
    "    print(f'{split}: {loss.item()}')\n",
    "    \n",
    "split_loss('train')\n",
    "split_loss('dev')\n",
    "split_loss('test')\n",
    "\n",
    "# losses are similar to before"
   ]
  },
  {
   "cell_type": "code",
   "execution_count": 271,
   "id": "3471629c",
   "metadata": {},
   "outputs": [
    {
     "name": "stdout",
     "output_type": "stream",
     "text": [
      "pry.\n",
      "kshviangurbekrndslikann.\n",
      "jatri.\n",
      "fkzyah.\n",
      "khabidsliftdg.\n",
      "fadrllshdan.\n",
      "khabeln.\n",
      "quityrbannishudin.\n",
      "suswy.\n",
      "pgtib.\n",
      "quiffitalissluwzngdbbasodibdyn.\n",
      "chriczlaurgmillas.\n",
      "daxabbibdulkwondarivyshadnd.\n",
      "fadmiriohnnlamorceln.\n",
      "muscfottl.\n"
     ]
    }
   ],
   "source": [
    "# names are... slightly better thank last time?\n",
    "# still way worse than much earlier, when they were fairly name-like\n",
    "\n",
    "g = torch.Generator().manual_seed(2147483647 + 2304)\n",
    "\n",
    "names = 15\n",
    "name_generator(g, block_size, C, W1, b1, W2, b2, names)"
   ]
  },
  {
   "cell_type": "code",
   "execution_count": null,
   "id": "a20b4eb2",
   "metadata": {},
   "outputs": [],
   "source": []
  }
 ],
 "metadata": {
  "kernelspec": {
   "display_name": "Python 3 (ipykernel)",
   "language": "python",
   "name": "python3"
  },
  "language_info": {
   "codemirror_mode": {
    "name": "ipython",
    "version": 3
   },
   "file_extension": ".py",
   "mimetype": "text/x-python",
   "name": "python",
   "nbconvert_exporter": "python",
   "pygments_lexer": "ipython3",
   "version": "3.10.6"
  }
 },
 "nbformat": 4,
 "nbformat_minor": 5
}
