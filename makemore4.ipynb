{
 "cells": [
  {
   "cell_type": "code",
   "execution_count": 16,
   "id": "eae75e31",
   "metadata": {},
   "outputs": [],
   "source": [
    "import torch\n",
    "import torch.nn.functional as F\n",
    "import numpy as np\n",
    "import random\n",
    "import matplotlib.pyplot as plt\n",
    "%matplotlib inline"
   ]
  },
  {
   "cell_type": "code",
   "execution_count": 17,
   "id": "d1075939",
   "metadata": {},
   "outputs": [],
   "source": [
    "# taken from end makemore2. most values updated to match K's\n",
    "\n",
    "# no. of chars used in context\n",
    "block_size = 3\n",
    "\n",
    "# dimensionality of embedding table\n",
    "n_embd = 10\n",
    "n_weights = block_size * n_embd\n",
    "\n",
    "# no. of neurons in hidden layer\n",
    "n_hidden = 200\n",
    "\n",
    "# size of batches\n",
    "batch_size = 32\n",
    "\n",
    "# number of training runs\n",
    "train_runs = 20001\n",
    "\n",
    "# learning rate\n",
    "l_rate_init = 0.1\n",
    "\n",
    "#     learning rate decay\n",
    "decay_factor = 0.99999\n",
    "\n",
    "# others\n",
    "# ???"
   ]
  },
  {
   "cell_type": "code",
   "execution_count": 19,
   "id": "b099c45b",
   "metadata": {},
   "outputs": [
    {
     "name": "stdout",
     "output_type": "stream",
     "text": [
      "No. parameters: 12297\n"
     ]
    }
   ],
   "source": [
    "kaiming_init = (5/3) / (n_weights**0.5)\n",
    "\n",
    "g = torch.Generator().manual_seed(2147483647)\n",
    "C = torch.randn((vocab_size, n_embd), \tgenerator = g) \n",
    "W1 = torch.randn((n_weights, n_hidden), \tgenerator = g) * kaiming_init\n",
    "b1 = torch.randn(n_hidden, \t\t\t\t\tgenerator = g) * 0.1 # actual useless due to layer norming\n",
    "# NB - DO NOT set W2 to zeroes (K asserts at this point in vid, does not yet explain)\n",
    "W2 = torch.randn((n_hidden, vocab_size), \tgenerator = g) * 0.1 \n",
    "b2 = torch.randn(vocab_size, \t\t\t\tgenerator = g) * 0.1\n",
    "\n",
    "bn_gain = torch.ones((1, n_hidden)) * 0.1 + 1.0\n",
    "bn_bias = torch.zeros((1, n_hidden)) * 0.1\n",
    "\n",
    "parameters = [C, W1, b1, W2, b2, bn_gain, bn_bias]\n",
    "\n",
    "for p in parameters:\n",
    "    p.requires_grad = True \n",
    "    \n",
    "step_i = []\n",
    "loss_i = []\n",
    "log_loss_i = []\n",
    "\n",
    "print(f'No. parameters: {sum(p.nelement() for p in parameters)}')"
   ]
  },
  {
   "cell_type": "code",
   "execution_count": 20,
   "id": "0080dd65",
   "metadata": {},
   "outputs": [
    {
     "name": "stdout",
     "output_type": "stream",
     "text": [
      "First 15 words: ['emma', 'olivia', 'ava', 'isabella', 'sophia', 'charlotte', 'mia', 'amelia', 'harper', 'evelyn', 'abigail', 'emily', 'elizabeth', 'mila', 'ella']\n",
      "\n",
      "s to i: {'a': 1, 'b': 2, 'c': 3, 'd': 4, 'e': 5, 'f': 6, 'g': 7, 'h': 8, 'i': 9, 'j': 10, 'k': 11, 'l': 12, 'm': 13, 'n': 14, 'o': 15, 'p': 16, 'q': 17, 'r': 18, 's': 19, 't': 20, 'u': 21, 'v': 22, 'w': 23, 'x': 24, 'y': 25, 'z': 26, '.': 0}\n",
      "\n",
      "i to s: {1: 'a', 2: 'b', 3: 'c', 4: 'd', 5: 'e', 6: 'f', 7: 'g', 8: 'h', 9: 'i', 10: 'j', 11: 'k', 12: 'l', 13: 'm', 14: 'n', 15: 'o', 16: 'p', 17: 'q', 18: 'r', 19: 's', 20: 't', 21: 'u', 22: 'v', 23: 'w', 24: 'x', 25: 'y', 26: 'z', 0: '.'}\n",
      "\n",
      "Vocab size: 27\n"
     ]
    }
   ],
   "source": [
    "# get all words\n",
    "words = open('names.txt', 'r').read().splitlines()\n",
    "\n",
    "\n",
    "# get indexes between chars and ints\n",
    "chars = sorted(list(set(''.join(words))))\n",
    "s_to_i = {s:i+1 for i, s in enumerate(chars)}\n",
    "s_to_i['.'] = 0\n",
    "i_to_s = {i:s for s, i in s_to_i.items()}\n",
    "vocab_size = len(s_to_i)\n",
    "print(f'First 15 words: {words[:15]}\\n\\ns to i: {s_to_i}\\n\\ni to s: {i_to_s}\\n\\nVocab size: {vocab_size}')"
   ]
  },
  {
   "cell_type": "code",
   "execution_count": 21,
   "id": "cb9932bf",
   "metadata": {},
   "outputs": [],
   "source": [
    "def build_dataset(words, block_size):\n",
    "    block_size = block_size\n",
    "    X, Y = [], []\n",
    "    for word in words:\n",
    "        # print(word)\n",
    "        context = [0] * block_size\n",
    "    \n",
    "        for char in word + '.':\n",
    "            ix = s_to_i[char]\n",
    "            X.append(context)\n",
    "            Y.append(ix)\n",
    "            # print(''.join(i_to_s[i] for i in context), '->', i_to_s[ix])\n",
    "            context = context[1:] + [ix] # crop first character and append next\n",
    "    \n",
    "    X = torch.tensor(X)\n",
    "    Y = torch.tensor(Y)\n",
    "    \n",
    "    print(f'X shape: {X.shape} \\tX dtype: {X.dtype} \\tY shape: {Y.shape} \\tY dtype: {Y.dtype}')\n",
    "    return X, Y"
   ]
  },
  {
   "cell_type": "code",
   "execution_count": 22,
   "id": "6dca1d3b",
   "metadata": {},
   "outputs": [
    {
     "name": "stdout",
     "output_type": "stream",
     "text": [
      "X shape: torch.Size([182606, 3]) \tX dtype: torch.int64 \tY shape: torch.Size([182606]) \tY dtype: torch.int64\n",
      "X shape: torch.Size([22697, 3]) \tX dtype: torch.int64 \tY shape: torch.Size([22697]) \tY dtype: torch.int64\n",
      "X shape: torch.Size([22844, 3]) \tX dtype: torch.int64 \tY shape: torch.Size([22844]) \tY dtype: torch.int64\n"
     ]
    }
   ],
   "source": [
    "# set train, dev, test sets\n",
    "\n",
    "random.seed(42)\n",
    "random.shuffle(words)\n",
    "n1 = int(0.8*len(words))\n",
    "n2 = int(0.9*len(words))\n",
    "\n",
    "X_trn, Y_trn = build_dataset(words[:n1], block_size)\n",
    "X_dev, Y_dev = build_dataset(words[n1:n2], block_size)\n",
    "X_tst, Y_tst = build_dataset(words[n2:], block_size)"
   ]
  },
  {
   "cell_type": "code",
   "execution_count": 23,
   "id": "edd444ec",
   "metadata": {},
   "outputs": [],
   "source": [
    "# function to be used in comparing manual and pytorch gradients\n",
    "\n",
    "def cmp(s, dt, t):\n",
    "    ex = torch.all(dt == t.grad).item()        # check if values match exactly\n",
    "    app = torch.allclose(dt, t.grad)           # check for v closeness e.g. stemming from float calc diffs\n",
    "    maxdiff = (dt - t.grad).abs().max().item() # return max diff between manual and pytorch gradients\n",
    "    print(f'{s:15s} \\tExact: {str(ex):5s} \\tApprox: {str(app):5s} \\tmaxDiff: {maxdiff}')"
   ]
  },
  {
   "cell_type": "code",
   "execution_count": 24,
   "id": "fa1f0179",
   "metadata": {},
   "outputs": [],
   "source": [
    "# make batch for X and Y\n",
    "ix = torch.randint(0, X_trn.shape[0], (batch_size,), generator = g)\n",
    "Xb, Yb = X_trn[ix], Y_trn[ix]"
   ]
  },
  {
   "cell_type": "code",
   "execution_count": 25,
   "id": "9824a887",
   "metadata": {},
   "outputs": [
    {
     "data": {
      "text/plain": [
       "tensor([ 8, 14,  5, 14,  0,  9,  1, 12,  0,  4, 22, 18, 25, 14,  9,  0,  5,  1,\n",
       "         5,  5, 21,  5,  9,  0,  1, 14, 25,  9,  0,  1,  8,  5])"
      ]
     },
     "execution_count": 25,
     "metadata": {},
     "output_type": "execute_result"
    }
   ],
   "source": [
    "Yb"
   ]
  },
  {
   "cell_type": "code",
   "execution_count": null,
   "id": "cf26f0ec",
   "metadata": {},
   "outputs": [],
   "source": [
    " # forward pass broken into smaller steps to allow backprop one element by one\n",
    "\n",
    "emb = C[Xb] # embed characters into vectors\n",
    "emb_cat = emb.view(emb.shape[0], -1) # concatenate vectors\n",
    "\n",
    "# linear layer 1\n",
    "hl_pre_bn = emb_cat @ W1 + b1 # hidden layer pre-activation\n",
    "\n",
    "# batch norm layer\n",
    "bn_mean_i = 1 / batch_size * hl_pre_bn.sum(0, keepdim = True)\n",
    "bn_diff = hl_pre_bn - bn_mean_i\n",
    "bn_diff_sq = bn_diff ** 2\n",
    "bn_var = 1 / (batch_size - 1) * (bn_diff_sq).sum(0, keepdim = True) # Bessel's correction\n",
    "bn_var_inv = (bn_var + 1e-5) ** -0.5"
   ]
  },
  {
   "cell_type": "code",
   "execution_count": null,
   "id": "72781da1",
   "metadata": {},
   "outputs": [],
   "source": [
    "# backprop through all above variables one by one\n",
    "\n",
    "# create array of zeroes in shape of logprobs\n",
    "d_logprobs = torch.zeros_like(logprobs)\n",
    "d_logprobs[range(n), Yb] = -1.0 / batch_size\n"
   ]
  }
 ],
 "metadata": {
  "kernelspec": {
   "display_name": "Python 3 (ipykernel)",
   "language": "python",
   "name": "python3"
  },
  "language_info": {
   "codemirror_mode": {
    "name": "ipython",
    "version": 3
   },
   "file_extension": ".py",
   "mimetype": "text/x-python",
   "name": "python",
   "nbconvert_exporter": "python",
   "pygments_lexer": "ipython3",
   "version": "3.10.6"
  }
 },
 "nbformat": 4,
 "nbformat_minor": 5
}
